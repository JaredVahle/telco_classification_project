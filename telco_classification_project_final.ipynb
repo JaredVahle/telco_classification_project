{
 "cells": [
  {
   "cell_type": "markdown",
   "id": "7fca23c4",
   "metadata": {},
   "source": [
    "# Telco Classification Project"
   ]
  },
  {
   "cell_type": "markdown",
   "id": "d161e50a",
   "metadata": {},
   "source": [
    "![](telco_churn_pic.png)"
   ]
  },
  {
   "cell_type": "code",
   "execution_count": 1,
   "id": "42ad4b63",
   "metadata": {},
   "outputs": [],
   "source": [
    "from scipy import stats\n",
    "\n",
    "import matplotlib.pyplot as plt\n",
    "\n",
    "import numpy as np\n",
    "\n",
    "import pandas as pd\n",
    "\n",
    "import seaborn as sns\n",
    "\n",
    "from pydataset import data\n",
    "\n",
    "from sklearn.model_selection import train_test_split\n",
    "from sklearn.tree import DecisionTreeClassifier\n",
    "from sklearn.tree import export_graphviz\n",
    "from sklearn.metrics import classification_report\n",
    "from sklearn.metrics import confusion_matrix\n",
    "from sklearn.dummy import DummyClassifier\n",
    "from sklearn.ensemble import RandomForestClassifier\n",
    "from sklearn.neighbors import KNeighborsClassifier\n",
    "from sklearn.linear_model import LogisticRegression\n",
    "\n",
    "import os\n",
    "\n",
    "import graphviz\n",
    "from graphviz import Graph\n",
    "\n",
    "import env\n",
    "from acquire_telco import get_telco_data, summarize_telco\n",
    "from prepare_telco import clean_telco, remove_unwanted_values, train_validate_test_split, num_distributions\n",
    "from helper import splitting_target_var, get_final_report, pred_proba, make_predictions\n",
    "from telco_model import baseline_acc, rand_forest, knneighbors, tree_model\n",
    "from model_report import model_report\n",
    "import explore\n",
    "\n",
    "import warnings\n",
    "warnings.filterwarnings(\"ignore\")"
   ]
  },
  {
   "cell_type": "markdown",
   "id": "3cdc32e9",
   "metadata": {},
   "source": [
    "## Planning"
   ]
  },
  {
   "cell_type": "markdown",
   "id": "d8f86a58",
   "metadata": {},
   "source": [
    "- Make a README.md that will hold all of the project details including a data dictionary, key finding, initial hypotheses, and explain how my process can be replicated\n",
    "- Create a MVP, originally and work through the iterative process of making improvements to that MVP.\n",
    "- Define atleast 2 clear sets of null and alternative hypotheses set an alpha value.\n",
    "- Create two .py scripts for both acquire and prepare, in order to automate the collection and cleaning of the data.\n",
    "- Create a helper.py for any other functions I need implamented thoughout the pipeline.\n",
    "- Properly anotate my code as I run though the process, in order for the code to be easily understood, and document any decisions that were made when cleaning, creating new columns, or removing rows of data."
   ]
  },
  {
   "cell_type": "markdown",
   "id": "19813d56",
   "metadata": {},
   "source": [
    "### Data Science Pipeline\n",
    "##### Acquire\n",
    "- Create an acquire.py (acquire_telco.py) was the name of my py file.\n",
    "- Use that acquire_telco.py file to grab the data from the CodeUp SQL database and cache that file to a csv for ease of accessability.\n",
    "- Render the csv into a pandas dataframe on python.\n",
    "- Summarize the initial data and plot the distributions of individual variables.\n",
    "##### Prepare\n",
    "- Create a prepare.py (prepare_telco.py) was the name of my py file.\n",
    "- Clean the data as I see fit, handling the missing values and encoding values as necessary in order to give numeric values that will work with the models\n",
    "- There were 11 values with no current tenure, and I made the decision to remove those values. These customers have not payed their first bill, so there is no data on weather they are satisfied with the product.\n",
    "- Add new columns that might be useful in modeling, might need more information from the explore for incite into columns that once combined will drive churn.\n",
    "- I added two new columns (auto_pay - if payment type was automatic.),and (add_ons - A column that sums the six aditional services.)\n",
    "##### Explore\n",
    "- Awnser my initial hypotheses that was asked in my planning phase, and test those hypotheses using statistical tests, either accepting or rejecting the null hypothesis.\n",
    "- Continue using statistical testing and visualizations to discover variable relationships in the data, and attempt to understand \"how the data works\".\n",
    "- Summarize my conclusions giving clear awnsers to the questions I posed in the planning stage and summarize any takeaways that might be useful.\n",
    "##### Modeling and Evaluation\n",
    "- Train and evaluate multiple models comparing those models on different evaluation metrics.\n",
    "- Validate the models and choose the best model that was found in the validation phase.\n",
    "- Test the best model found and summarize the performance and document the results using a confusion matrix, predict methods, and classification reports.\n",
    "- Save the test predictions to a .csv file.\n",
    "##### Delivery\n",
    "- Deliver my refined jupyter notebook to the CodeUp data science team.\n",
    "- Summarize my findings, and build a narrative around the data, pulling from my knowledge on story telling.\n",
    "- Walk though the notebook explaining finding, documentation, and decisions that were made.\n",
    "- End with key takeaways and reccomendations."
   ]
  },
  {
   "cell_type": "markdown",
   "id": "ba267e04",
   "metadata": {},
   "source": [
    "### Modules"
   ]
  },
  {
   "cell_type": "markdown",
   "id": "a4f71491",
   "metadata": {},
   "source": [
    "- acquire_telco.py Gathers the data from the SQL database and puts it into a pandas dataframe.\n",
    "- prepare_telco.py Prepares my data for use.\n",
    "- helper.py Contains oddball functions that are helpful in getting to deliverables.\n",
    "- telco_model.py contains my different models, and contains the best metrics I found, but can be changed.\n",
    "- model_report.py contains functions that allow me to create comprehensive model reports on the data.\n",
    "- explore.py contains functions that assisted me in doing statistical analysis and visualization."
   ]
  },
  {
   "cell_type": "markdown",
   "id": "83728741",
   "metadata": {},
   "source": [
    "This is our alpha value that we will use for statistical testing."
   ]
  },
  {
   "cell_type": "code",
   "execution_count": 2,
   "id": "b30a5dfe",
   "metadata": {},
   "outputs": [],
   "source": [
    "α = .05"
   ]
  },
  {
   "cell_type": "markdown",
   "id": "f9866539",
   "metadata": {},
   "source": [
    "### EXECUTIVE SUMMARY"
   ]
  },
  {
   "cell_type": "markdown",
   "id": "41ad259c",
   "metadata": {},
   "source": [
    "##### We found the leading 5 drivers of churn:\n",
    "- Month-to-month contract type\n",
    "- Fiber optics internet service type\n",
    "- Electronic check payment type\n",
    "- Tenure\n",
    "- Two year contract type\n",
    "\n",
    "##### We investigated streaming services and additional services.\n",
    "- Our streaming services had a higher rate of churn then our normal churn rate indicating some kind of customer dissatisfaction with the service.\n",
    "- We also found that our churn rate for additional services had higher churn rates in those that had 1-2 additional services and much lower churn rates in customers with 4-6.\n",
    "- This indicates we need further inspection into the 6 additional columns.\n",
    "\n",
    "##### For our modeling we used a random forest model.\n",
    "- I was able to get an accuracy of ~80.5%\n",
    "- This model is more than 7 points higher than our baseline model and can be extreamly helpful in the future."
   ]
  },
  {
   "cell_type": "markdown",
   "id": "1e1fb612",
   "metadata": {},
   "source": [
    "### Data Dictionary"
   ]
  },
  {
   "cell_type": "markdown",
   "id": "a1d2538b",
   "metadata": {},
   "source": [
    "|Target|Datatype|Definition|\n",
    "|:-------|:--------|:----------|\n",
    "|churn|dtype('O')|Yes or no, if the customer churned|\n",
    "\n",
    "|Feature|Datatype|Definition|\n",
    "|:-------|:--------|:----------|\n",
    "|customer_id| dtype('O')|Identification number for customer|\n",
    "|gender| dtype('O')|Customer gender, male or female|\n",
    "|senior_citizen| dtype('int64')|Yes or no, is the customer a senior citizen|\n",
    "|partner| dtype('O')|Yes or no, does the customer customer has a parter|\n",
    "|dependents| dtype('O')|Number of dependents a customer has|\n",
    "|tenure| dtype('int64')|Number of months a customer has been with the company|\n",
    "|phone_service| dtype('O')|Type of phone service plan a customer has|\n",
    "|multiple_lines| dtype('O')|Yes or no, does the customer have multiple lines|\n",
    "|internet_service_type_id| dtype('int64')|1 for DSL, 2 for Fiber Optic, 3 for None|\n",
    "|online_security| dtype('O')|Yes, no, or no internet service|\n",
    "|online_backup | dtype('O')|Yes, no, or no internet service|\n",
    "|device_protection| dtype('O')|Yes, no, or no internet service|\n",
    "|tech_support| dtype('O')|Yes, no, or no internet service|\n",
    "|streaming_tv| dtype('O')|Yes, no, or no internet service|\n",
    "|streaming_movies| dtype('O')|Yes, no, or no internet service|\n",
    "|contract_type_id| dtype('int64')|1 for month-to-month, 2 for year, and 3 for two-year contract|\n",
    "|paperless_billing| dtype('O')| Yes or no, whether or not the customer uses paperless billing|\n",
    "|payment_type_id | dtype('int64')|1 for electronic check, 2 for mailed check, 3 for automatic bank transfer, 4 for automatic credit card payment|\n",
    "|monthly_charges| dtype('float64')|Monthly charges the customer pays|\n",
    "|total_charges| dtype('O')|Total charges the customer has paid|\n",
    "|contract_type| dtype('O')|Month-to-month, year, or two-year contract|\n",
    "|internet_service_type| dtype('O')|DSL, Fiber Optic, or None|\n",
    "|payment_type| dtype('O')|Electronic check, mailed check, automatic bank transfer, or automatic credit card payment|"
   ]
  },
  {
   "cell_type": "markdown",
   "id": "6d3ac6d8",
   "metadata": {},
   "source": [
    "## Acquire"
   ]
  },
  {
   "cell_type": "code",
   "execution_count": 99,
   "id": "c8afd242",
   "metadata": {},
   "outputs": [],
   "source": [
    "# Read the telco data into a pandas dataframe\n",
    "df = get_telco_data()"
   ]
  },
  {
   "cell_type": "code",
   "execution_count": 100,
   "id": "6b200e3f",
   "metadata": {},
   "outputs": [
    {
     "data": {
      "text/plain": [
       "(7043, 28)"
      ]
     },
     "execution_count": 100,
     "metadata": {},
     "output_type": "execute_result"
    }
   ],
   "source": [
    "df.shape"
   ]
  },
  {
   "cell_type": "code",
   "execution_count": 101,
   "id": "29220294",
   "metadata": {},
   "outputs": [
    {
     "data": {
      "text/html": [
       "<div>\n",
       "<style scoped>\n",
       "    .dataframe tbody tr th:only-of-type {\n",
       "        vertical-align: middle;\n",
       "    }\n",
       "\n",
       "    .dataframe tbody tr th {\n",
       "        vertical-align: top;\n",
       "    }\n",
       "\n",
       "    .dataframe thead th {\n",
       "        text-align: right;\n",
       "    }\n",
       "</style>\n",
       "<table border=\"1\" class=\"dataframe\">\n",
       "  <thead>\n",
       "    <tr style=\"text-align: right;\">\n",
       "      <th></th>\n",
       "      <th>Unnamed: 0</th>\n",
       "      <th>customer_id</th>\n",
       "      <th>gender</th>\n",
       "      <th>senior_citizen</th>\n",
       "      <th>partner</th>\n",
       "      <th>dependents</th>\n",
       "      <th>tenure</th>\n",
       "      <th>phone_service</th>\n",
       "      <th>multiple_lines</th>\n",
       "      <th>internet_service_type_id</th>\n",
       "      <th>...</th>\n",
       "      <th>payment_type_id</th>\n",
       "      <th>monthly_charges</th>\n",
       "      <th>total_charges</th>\n",
       "      <th>churn</th>\n",
       "      <th>contract_type_id.1</th>\n",
       "      <th>contract_type</th>\n",
       "      <th>internet_service_type_id.1</th>\n",
       "      <th>internet_service_type</th>\n",
       "      <th>payment_type_id.1</th>\n",
       "      <th>payment_type</th>\n",
       "    </tr>\n",
       "  </thead>\n",
       "  <tbody>\n",
       "    <tr>\n",
       "      <th>0</th>\n",
       "      <td>0</td>\n",
       "      <td>0016-QLJIS</td>\n",
       "      <td>Female</td>\n",
       "      <td>0</td>\n",
       "      <td>Yes</td>\n",
       "      <td>Yes</td>\n",
       "      <td>65</td>\n",
       "      <td>Yes</td>\n",
       "      <td>Yes</td>\n",
       "      <td>1</td>\n",
       "      <td>...</td>\n",
       "      <td>2</td>\n",
       "      <td>90.45</td>\n",
       "      <td>5957.9</td>\n",
       "      <td>No</td>\n",
       "      <td>3</td>\n",
       "      <td>Two year</td>\n",
       "      <td>1</td>\n",
       "      <td>DSL</td>\n",
       "      <td>2</td>\n",
       "      <td>Mailed check</td>\n",
       "    </tr>\n",
       "    <tr>\n",
       "      <th>1</th>\n",
       "      <td>1</td>\n",
       "      <td>0017-DINOC</td>\n",
       "      <td>Male</td>\n",
       "      <td>0</td>\n",
       "      <td>No</td>\n",
       "      <td>No</td>\n",
       "      <td>54</td>\n",
       "      <td>No</td>\n",
       "      <td>No phone service</td>\n",
       "      <td>1</td>\n",
       "      <td>...</td>\n",
       "      <td>4</td>\n",
       "      <td>45.20</td>\n",
       "      <td>2460.55</td>\n",
       "      <td>No</td>\n",
       "      <td>3</td>\n",
       "      <td>Two year</td>\n",
       "      <td>1</td>\n",
       "      <td>DSL</td>\n",
       "      <td>4</td>\n",
       "      <td>Credit card (automatic)</td>\n",
       "    </tr>\n",
       "    <tr>\n",
       "      <th>2</th>\n",
       "      <td>2</td>\n",
       "      <td>0019-GFNTW</td>\n",
       "      <td>Female</td>\n",
       "      <td>0</td>\n",
       "      <td>No</td>\n",
       "      <td>No</td>\n",
       "      <td>56</td>\n",
       "      <td>No</td>\n",
       "      <td>No phone service</td>\n",
       "      <td>1</td>\n",
       "      <td>...</td>\n",
       "      <td>3</td>\n",
       "      <td>45.05</td>\n",
       "      <td>2560.1</td>\n",
       "      <td>No</td>\n",
       "      <td>3</td>\n",
       "      <td>Two year</td>\n",
       "      <td>1</td>\n",
       "      <td>DSL</td>\n",
       "      <td>3</td>\n",
       "      <td>Bank transfer (automatic)</td>\n",
       "    </tr>\n",
       "    <tr>\n",
       "      <th>3</th>\n",
       "      <td>3</td>\n",
       "      <td>0056-EPFBG</td>\n",
       "      <td>Male</td>\n",
       "      <td>0</td>\n",
       "      <td>Yes</td>\n",
       "      <td>Yes</td>\n",
       "      <td>20</td>\n",
       "      <td>No</td>\n",
       "      <td>No phone service</td>\n",
       "      <td>1</td>\n",
       "      <td>...</td>\n",
       "      <td>4</td>\n",
       "      <td>39.40</td>\n",
       "      <td>825.4</td>\n",
       "      <td>No</td>\n",
       "      <td>3</td>\n",
       "      <td>Two year</td>\n",
       "      <td>1</td>\n",
       "      <td>DSL</td>\n",
       "      <td>4</td>\n",
       "      <td>Credit card (automatic)</td>\n",
       "    </tr>\n",
       "    <tr>\n",
       "      <th>4</th>\n",
       "      <td>4</td>\n",
       "      <td>0078-XZMHT</td>\n",
       "      <td>Male</td>\n",
       "      <td>0</td>\n",
       "      <td>Yes</td>\n",
       "      <td>No</td>\n",
       "      <td>72</td>\n",
       "      <td>Yes</td>\n",
       "      <td>Yes</td>\n",
       "      <td>1</td>\n",
       "      <td>...</td>\n",
       "      <td>3</td>\n",
       "      <td>85.15</td>\n",
       "      <td>6316.2</td>\n",
       "      <td>No</td>\n",
       "      <td>3</td>\n",
       "      <td>Two year</td>\n",
       "      <td>1</td>\n",
       "      <td>DSL</td>\n",
       "      <td>3</td>\n",
       "      <td>Bank transfer (automatic)</td>\n",
       "    </tr>\n",
       "  </tbody>\n",
       "</table>\n",
       "<p>5 rows × 28 columns</p>\n",
       "</div>"
      ],
      "text/plain": [
       "   Unnamed: 0 customer_id  gender  senior_citizen partner dependents  tenure  \\\n",
       "0           0  0016-QLJIS  Female               0     Yes        Yes      65   \n",
       "1           1  0017-DINOC    Male               0      No         No      54   \n",
       "2           2  0019-GFNTW  Female               0      No         No      56   \n",
       "3           3  0056-EPFBG    Male               0     Yes        Yes      20   \n",
       "4           4  0078-XZMHT    Male               0     Yes         No      72   \n",
       "\n",
       "  phone_service    multiple_lines  internet_service_type_id  ...  \\\n",
       "0           Yes               Yes                         1  ...   \n",
       "1            No  No phone service                         1  ...   \n",
       "2            No  No phone service                         1  ...   \n",
       "3            No  No phone service                         1  ...   \n",
       "4           Yes               Yes                         1  ...   \n",
       "\n",
       "  payment_type_id monthly_charges total_charges churn contract_type_id.1  \\\n",
       "0               2           90.45        5957.9    No                  3   \n",
       "1               4           45.20       2460.55    No                  3   \n",
       "2               3           45.05        2560.1    No                  3   \n",
       "3               4           39.40         825.4    No                  3   \n",
       "4               3           85.15        6316.2    No                  3   \n",
       "\n",
       "  contract_type  internet_service_type_id.1 internet_service_type  \\\n",
       "0      Two year                           1                   DSL   \n",
       "1      Two year                           1                   DSL   \n",
       "2      Two year                           1                   DSL   \n",
       "3      Two year                           1                   DSL   \n",
       "4      Two year                           1                   DSL   \n",
       "\n",
       "   payment_type_id.1               payment_type  \n",
       "0                  2               Mailed check  \n",
       "1                  4    Credit card (automatic)  \n",
       "2                  3  Bank transfer (automatic)  \n",
       "3                  4    Credit card (automatic)  \n",
       "4                  3  Bank transfer (automatic)  \n",
       "\n",
       "[5 rows x 28 columns]"
      ]
     },
     "execution_count": 101,
     "metadata": {},
     "output_type": "execute_result"
    }
   ],
   "source": [
    "df.head()"
   ]
  },
  {
   "cell_type": "code",
   "execution_count": 102,
   "id": "7c0929f2",
   "metadata": {
    "scrolled": false
   },
   "outputs": [
    {
     "name": "stdout",
     "output_type": "stream",
     "text": [
      "The Telco dataframe has a total of 28 columns and 7043 rows.\n",
      "___________________________________________________________\n",
      "<class 'pandas.core.frame.DataFrame'>\n",
      "RangeIndex: 7043 entries, 0 to 7042\n",
      "Data columns (total 28 columns):\n",
      " #   Column                      Non-Null Count  Dtype  \n",
      "---  ------                      --------------  -----  \n",
      " 0   Unnamed: 0                  7043 non-null   int64  \n",
      " 1   customer_id                 7043 non-null   object \n",
      " 2   gender                      7043 non-null   object \n",
      " 3   senior_citizen              7043 non-null   int64  \n",
      " 4   partner                     7043 non-null   object \n",
      " 5   dependents                  7043 non-null   object \n",
      " 6   tenure                      7043 non-null   int64  \n",
      " 7   phone_service               7043 non-null   object \n",
      " 8   multiple_lines              7043 non-null   object \n",
      " 9   internet_service_type_id    7043 non-null   int64  \n",
      " 10  online_security             7043 non-null   object \n",
      " 11  online_backup               7043 non-null   object \n",
      " 12  device_protection           7043 non-null   object \n",
      " 13  tech_support                7043 non-null   object \n",
      " 14  streaming_tv                7043 non-null   object \n",
      " 15  streaming_movies            7043 non-null   object \n",
      " 16  contract_type_id            7043 non-null   int64  \n",
      " 17  paperless_billing           7043 non-null   object \n",
      " 18  payment_type_id             7043 non-null   int64  \n",
      " 19  monthly_charges             7043 non-null   float64\n",
      " 20  total_charges               7043 non-null   object \n",
      " 21  churn                       7043 non-null   object \n",
      " 22  contract_type_id.1          7043 non-null   int64  \n",
      " 23  contract_type               7043 non-null   object \n",
      " 24  internet_service_type_id.1  7043 non-null   int64  \n",
      " 25  internet_service_type       7043 non-null   object \n",
      " 26  payment_type_id.1           7043 non-null   int64  \n",
      " 27  payment_type                7043 non-null   object \n",
      "dtypes: float64(1), int64(9), object(18)\n",
      "memory usage: 1.5+ MB\n",
      "None\n",
      "___________________________________________________________\n",
      "        Unnamed: 0  senior_citizen       tenure  internet_service_type_id  \\\n",
      "count  7043.000000     7043.000000  7043.000000               7043.000000   \n",
      "mean   3521.000000        0.162147    32.371149                  1.872923   \n",
      "std    2033.283305        0.368612    24.559481                  0.737796   \n",
      "min       0.000000        0.000000     0.000000                  1.000000   \n",
      "25%    1760.500000        0.000000     9.000000                  1.000000   \n",
      "50%    3521.000000        0.000000    29.000000                  2.000000   \n",
      "75%    5281.500000        0.000000    55.000000                  2.000000   \n",
      "max    7042.000000        1.000000    72.000000                  3.000000   \n",
      "\n",
      "       contract_type_id  payment_type_id  monthly_charges  contract_type_id.1  \\\n",
      "count       7043.000000      7043.000000      7043.000000         7043.000000   \n",
      "mean           1.690473         2.315633        64.761692            1.690473   \n",
      "std            0.833755         1.148907        30.090047            0.833755   \n",
      "min            1.000000         1.000000        18.250000            1.000000   \n",
      "25%            1.000000         1.000000        35.500000            1.000000   \n",
      "50%            1.000000         2.000000        70.350000            1.000000   \n",
      "75%            2.000000         3.000000        89.850000            2.000000   \n",
      "max            3.000000         4.000000       118.750000            3.000000   \n",
      "\n",
      "       internet_service_type_id.1  payment_type_id.1  \n",
      "count                 7043.000000        7043.000000  \n",
      "mean                     1.872923           2.315633  \n",
      "std                      0.737796           1.148907  \n",
      "min                      1.000000           1.000000  \n",
      "25%                      1.000000           1.000000  \n",
      "50%                      2.000000           2.000000  \n",
      "75%                      2.000000           3.000000  \n",
      "max                      3.000000           4.000000  \n"
     ]
    }
   ],
   "source": [
    "# Summarize the dataframe\n",
    "summarize_telco(df)"
   ]
  },
  {
   "cell_type": "code",
   "execution_count": 103,
   "id": "d6301a1a",
   "metadata": {
    "scrolled": false
   },
   "outputs": [
    {
     "data": {
      "image/png": "[encoded data removed]",
      "text/plain": [
       "<Figure size 432x288 with 1 Axes>"
      ]
     },
     "metadata": {},
     "output_type": "display_data"
    },
    {
     "data": {
      "image/png": "[encoded data removed]",
      "text/plain": [
       "<Figure size 432x288 with 1 Axes>"
      ]
     },
     "metadata": {},
     "output_type": "display_data"
    },
    {
     "data": {
      "image/png": "[encoded data removed]",
      "text/plain": [
       "<Figure size 432x288 with 1 Axes>"
      ]
     },
     "metadata": {},
     "output_type": "display_data"
    },
    {
     "data": {
      "image/png": "[encoded data removed]",
      "text/plain": [
       "<Figure size 432x288 with 1 Axes>"
      ]
     },
     "metadata": {},
     "output_type": "display_data"
    },
    {
     "data": {
      "image/png": "[encoded data removed]",
      "text/plain": [
       "<Figure size 432x288 with 1 Axes>"
      ]
     },
     "metadata": {},
     "output_type": "display_data"
    },
    {
     "data": {
      "image/png": "[encoded data removed]",
      "text/plain": [
       "<Figure size 432x288 with 1 Axes>"
      ]
     },
     "metadata": {},
     "output_type": "display_data"
    },
    {
     "data": {
      "image/png": "[encoded data removed]",
      "text/plain": [
       "<Figure size 432x288 with 1 Axes>"
      ]
     },
     "metadata": {},
     "output_type": "display_data"
    },
    {
     "data": {
      "image/png": "[encoded data removed]",
      "text/plain": [
       "<Figure size 432x288 with 1 Axes>"
      ]
     },
     "metadata": {},
     "output_type": "display_data"
    },
    {
     "data": {
      "image/png": "[encoded data removed]",
      "text/plain": [
       "<Figure size 432x288 with 1 Axes>"
      ]
     },
     "metadata": {},
     "output_type": "display_data"
    },
    {
     "data": {
      "image/png": "[encoded data removed]",
      "text/plain": [
       "<Figure size 432x288 with 1 Axes>"
      ]
     },
     "metadata": {},
     "output_type": "display_data"
    }
   ],
   "source": [
    "num_distributions(df)"
   ]
  },
  {
   "cell_type": "markdown",
   "id": "6437fd0c",
   "metadata": {},
   "source": [
    "### Acquire Takeaways\n",
    "- I made the get_telco_data function that uses a SQL query to acquire my data from the Codeup database.\n",
    "- Im bringing in 7043 rows and 28 columns after I joined the SQL tables together.\n",
    "- The data has several types and will need alot of cleaning to get only numeric values."
   ]
  },
  {
   "cell_type": "markdown",
   "id": "d54a1f2f",
   "metadata": {},
   "source": [
    "## Prepare"
   ]
  },
  {
   "cell_type": "markdown",
   "id": "10fe6f24",
   "metadata": {},
   "source": [
    "I took the df and created numeric representations for the different values, I also added two columns (add_ons)\n",
    "which takes a sum of the columns online_security, online_backup, device_protection, tech_support, streaming_tv,\n",
    "and streaming_movies. I decided these were all additional services that customers opted into, and might be a driver of churn. My other column I added was (auto_pay) that took in the payment_type column and searched for the word \"auto\", and returns a boolean value."
   ]
  },
  {
   "cell_type": "code",
   "execution_count": 104,
   "id": "bce3a550",
   "metadata": {},
   "outputs": [],
   "source": [
    "df = clean_telco(df)"
   ]
  },
  {
   "cell_type": "code",
   "execution_count": 7,
   "id": "b203bab2",
   "metadata": {},
   "outputs": [
    {
     "data": {
      "text/html": [
       "<div>\n",
       "<style scoped>\n",
       "    .dataframe tbody tr th:only-of-type {\n",
       "        vertical-align: middle;\n",
       "    }\n",
       "\n",
       "    .dataframe tbody tr th {\n",
       "        vertical-align: top;\n",
       "    }\n",
       "\n",
       "    .dataframe thead th {\n",
       "        text-align: right;\n",
       "    }\n",
       "</style>\n",
       "<table border=\"1\" class=\"dataframe\">\n",
       "  <thead>\n",
       "    <tr style=\"text-align: right;\">\n",
       "      <th></th>\n",
       "      <th>senior_citizen</th>\n",
       "      <th>partner</th>\n",
       "      <th>dependents</th>\n",
       "      <th>tenure</th>\n",
       "      <th>phone_service</th>\n",
       "      <th>multiple_lines</th>\n",
       "      <th>online_security</th>\n",
       "      <th>online_backup</th>\n",
       "      <th>device_protection</th>\n",
       "      <th>tech_support</th>\n",
       "      <th>...</th>\n",
       "      <th>payment_type_bank_transfer_(automatic)</th>\n",
       "      <th>payment_type_credit_card_(automatic)</th>\n",
       "      <th>payment_type_electronic_check</th>\n",
       "      <th>payment_type_mailed_check</th>\n",
       "      <th>internet_service_type_dsl</th>\n",
       "      <th>internet_service_type_fiber_optic</th>\n",
       "      <th>internet_service_type_none</th>\n",
       "      <th>contract_type_month-to-month</th>\n",
       "      <th>contract_type_one_year</th>\n",
       "      <th>contract_type_two_year</th>\n",
       "    </tr>\n",
       "  </thead>\n",
       "  <tbody>\n",
       "    <tr>\n",
       "      <th>0</th>\n",
       "      <td>0</td>\n",
       "      <td>1</td>\n",
       "      <td>1</td>\n",
       "      <td>65</td>\n",
       "      <td>1</td>\n",
       "      <td>1</td>\n",
       "      <td>1</td>\n",
       "      <td>1</td>\n",
       "      <td>1</td>\n",
       "      <td>1</td>\n",
       "      <td>...</td>\n",
       "      <td>0</td>\n",
       "      <td>0</td>\n",
       "      <td>0</td>\n",
       "      <td>1</td>\n",
       "      <td>1</td>\n",
       "      <td>0</td>\n",
       "      <td>0</td>\n",
       "      <td>0</td>\n",
       "      <td>0</td>\n",
       "      <td>1</td>\n",
       "    </tr>\n",
       "    <tr>\n",
       "      <th>1</th>\n",
       "      <td>0</td>\n",
       "      <td>0</td>\n",
       "      <td>0</td>\n",
       "      <td>54</td>\n",
       "      <td>0</td>\n",
       "      <td>0</td>\n",
       "      <td>1</td>\n",
       "      <td>0</td>\n",
       "      <td>0</td>\n",
       "      <td>1</td>\n",
       "      <td>...</td>\n",
       "      <td>0</td>\n",
       "      <td>1</td>\n",
       "      <td>0</td>\n",
       "      <td>0</td>\n",
       "      <td>1</td>\n",
       "      <td>0</td>\n",
       "      <td>0</td>\n",
       "      <td>0</td>\n",
       "      <td>0</td>\n",
       "      <td>1</td>\n",
       "    </tr>\n",
       "    <tr>\n",
       "      <th>2</th>\n",
       "      <td>0</td>\n",
       "      <td>0</td>\n",
       "      <td>0</td>\n",
       "      <td>56</td>\n",
       "      <td>0</td>\n",
       "      <td>0</td>\n",
       "      <td>1</td>\n",
       "      <td>1</td>\n",
       "      <td>1</td>\n",
       "      <td>1</td>\n",
       "      <td>...</td>\n",
       "      <td>1</td>\n",
       "      <td>0</td>\n",
       "      <td>0</td>\n",
       "      <td>0</td>\n",
       "      <td>1</td>\n",
       "      <td>0</td>\n",
       "      <td>0</td>\n",
       "      <td>0</td>\n",
       "      <td>0</td>\n",
       "      <td>1</td>\n",
       "    </tr>\n",
       "  </tbody>\n",
       "</table>\n",
       "<p>3 rows × 31 columns</p>\n",
       "</div>"
      ],
      "text/plain": [
       "   senior_citizen  partner  dependents  tenure  phone_service  multiple_lines  \\\n",
       "0               0        1           1      65              1               1   \n",
       "1               0        0           0      54              0               0   \n",
       "2               0        0           0      56              0               0   \n",
       "\n",
       "   online_security  online_backup  device_protection  tech_support  ...  \\\n",
       "0                1              1                  1             1  ...   \n",
       "1                1              0                  0             1  ...   \n",
       "2                1              1                  1             1  ...   \n",
       "\n",
       "   payment_type_bank_transfer_(automatic)  \\\n",
       "0                                       0   \n",
       "1                                       0   \n",
       "2                                       1   \n",
       "\n",
       "   payment_type_credit_card_(automatic)  payment_type_electronic_check  \\\n",
       "0                                     0                              0   \n",
       "1                                     1                              0   \n",
       "2                                     0                              0   \n",
       "\n",
       "   payment_type_mailed_check  internet_service_type_dsl  \\\n",
       "0                          1                          1   \n",
       "1                          0                          1   \n",
       "2                          0                          1   \n",
       "\n",
       "   internet_service_type_fiber_optic  internet_service_type_none  \\\n",
       "0                                  0                           0   \n",
       "1                                  0                           0   \n",
       "2                                  0                           0   \n",
       "\n",
       "   contract_type_month-to-month  contract_type_one_year  \\\n",
       "0                             0                       0   \n",
       "1                             0                       0   \n",
       "2                             0                       0   \n",
       "\n",
       "   contract_type_two_year  \n",
       "0                       1  \n",
       "1                       1  \n",
       "2                       1  \n",
       "\n",
       "[3 rows x 31 columns]"
      ]
     },
     "execution_count": 7,
     "metadata": {},
     "output_type": "execute_result"
    }
   ],
   "source": [
    "df.head(3)"
   ]
  },
  {
   "cell_type": "markdown",
   "id": "b256cb22",
   "metadata": {},
   "source": [
    "My decision to remove the customers with no tenure was that they were not good representations of our overall dataset having been with Telco for under 1 month.\n",
    "\n",
    "These customers were a small percentage of the overall dataframe making up ~.15% of the overall data"
   ]
  },
  {
   "cell_type": "code",
   "execution_count": 8,
   "id": "12f25a53",
   "metadata": {},
   "outputs": [],
   "source": [
    "# Takes those with no tenure and removes the customers data from the df.\n",
    "remove_unwanted_values(df)"
   ]
  },
  {
   "cell_type": "code",
   "execution_count": 9,
   "id": "2566a29c",
   "metadata": {},
   "outputs": [
    {
     "data": {
      "text/plain": [
       "Index(['senior_citizen', 'partner', 'dependents', 'tenure', 'phone_service',\n",
       "       'multiple_lines', 'online_security', 'online_backup',\n",
       "       'device_protection', 'tech_support', 'streaming_tv', 'streaming_movies',\n",
       "       'paperless_billing', 'monthly_charges', 'total_charges', 'churn',\n",
       "       'auto_pay', 'add_ons', 'streaming_movies_and_tv', 'gender_female',\n",
       "       'gender_male', 'payment_type_bank_transfer_(automatic)',\n",
       "       'payment_type_credit_card_(automatic)', 'payment_type_electronic_check',\n",
       "       'payment_type_mailed_check', 'internet_service_type_dsl',\n",
       "       'internet_service_type_fiber_optic', 'internet_service_type_none',\n",
       "       'contract_type_month-to-month', 'contract_type_one_year',\n",
       "       'contract_type_two_year'],\n",
       "      dtype='object')"
      ]
     },
     "execution_count": 9,
     "metadata": {},
     "output_type": "execute_result"
    }
   ],
   "source": [
    "df.columns"
   ]
  },
  {
   "cell_type": "code",
   "execution_count": 10,
   "id": "0900fc60",
   "metadata": {},
   "outputs": [],
   "source": [
    "# split the data into 3 groups, while stratifying for our target variable (churn)\n",
    "train,validate,test = train_validate_test_split(df,target = \"churn\", seed = 174)"
   ]
  },
  {
   "cell_type": "code",
   "execution_count": 11,
   "id": "5f4ae0cd",
   "metadata": {},
   "outputs": [
    {
     "name": "stdout",
     "output_type": "stream",
     "text": [
      "Train (3937, 31), Validate (1688, 31),Test (1407, 31)\n"
     ]
    }
   ],
   "source": [
    "print(f\"Train {train.shape}, Validate {validate.shape},Test {test.shape}\")"
   ]
  },
  {
   "cell_type": "markdown",
   "id": "6a5f506f",
   "metadata": {},
   "source": [
    "## Explore"
   ]
  },
  {
   "cell_type": "code",
   "execution_count": 12,
   "id": "2ac67249",
   "metadata": {},
   "outputs": [],
   "source": [
    "additionals = ['online_security', 'online_backup','device_protection', 'tech_support', 'streaming_tv', 'streaming_movies']\n",
    "cat_vars = [\"auto_pay\",\"partner\",\"add_ons\",\"tech_support\",\"online_security\",\"senior_citizen\",\"payment_type_electronic_check\",\"internet_service_type_fiber_optic\",\"streaming_tv\",\"streaming_movies\"]\n",
    "quant_vars = [\"monthly_charges\",\"total_charges\"]"
   ]
  },
  {
   "cell_type": "markdown",
   "id": "0c9b8a38",
   "metadata": {},
   "source": [
    "It seems that those that have streaming services seem to churn more then what is normally seen, which might be indicating a lackluster set of streaming options or customer dissatisfaction with these services."
   ]
  },
  {
   "cell_type": "code",
   "execution_count": 13,
   "id": "ea2e5ac0",
   "metadata": {},
   "outputs": [
    {
     "name": "stdout",
     "output_type": "stream",
     "text": [
      "streaming_tv \n",
      "_____________________\n",
      "\n",
      "        chi2   p-value  degrees of freedom\n",
      "0  17.240002  0.000033                   1\n",
      "\n",
      "observed:\n",
      " churn            0     1   All\n",
      "streaming_tv                  \n",
      "0             1851   593  2444\n",
      "1             1040   453  1493\n",
      "All           2891  1046  3937\n",
      "\n",
      "expected:\n",
      "              0           1\n",
      "0  1794.667005  649.332995\n",
      "1  1096.332995  396.667005\n"
     ]
    },
    {
     "data": {
      "image/png": "[encoded data removed]",
      "text/plain": [
       "<Figure size 144x144 with 1 Axes>"
      ]
     },
     "metadata": {
      "needs_background": "light"
     },
     "output_type": "display_data"
    },
    {
     "name": "stdout",
     "output_type": "stream",
     "text": [
      "\n",
      "_____________________\n",
      "\n"
     ]
    }
   ],
   "source": [
    "explore.explore_bivariate_categorical(train,target = \"churn\",cat_var = 'streaming_tv')"
   ]
  },
  {
   "cell_type": "code",
   "execution_count": 14,
   "id": "25ca072a",
   "metadata": {},
   "outputs": [
    {
     "name": "stdout",
     "output_type": "stream",
     "text": [
      "streaming_movies \n",
      "_____________________\n",
      "\n",
      "        chi2   p-value  degrees of freedom\n",
      "0  12.822639  0.000342                   1\n",
      "\n",
      "observed:\n",
      " churn                0     1   All\n",
      "streaming_movies                  \n",
      "0                 1812   589  2401\n",
      "1                 1079   457  1536\n",
      "All               2891  1046  3937\n",
      "\n",
      "expected:\n",
      "             0          1\n",
      "0  1763.09144  637.90856\n",
      "1  1127.90856  408.09144\n"
     ]
    },
    {
     "data": {
      "image/png": "[encoded data removed]",
      "text/plain": [
       "<Figure size 144x144 with 1 Axes>"
      ]
     },
     "metadata": {
      "needs_background": "light"
     },
     "output_type": "display_data"
    },
    {
     "name": "stdout",
     "output_type": "stream",
     "text": [
      "\n",
      "_____________________\n",
      "\n"
     ]
    }
   ],
   "source": [
    "explore.explore_bivariate_categorical(train,target = \"churn\",cat_var = 'streaming_movies')"
   ]
  },
  {
   "cell_type": "code",
   "execution_count": 15,
   "id": "6f2c221a",
   "metadata": {},
   "outputs": [
    {
     "data": {
      "text/plain": [
       "<AxesSubplot:title={'center':'Features Correlation with Churn'}>"
      ]
     },
     "execution_count": 15,
     "metadata": {},
     "output_type": "execute_result"
    },
    {
     "data": {
      "image/png": "[encoded data removed]",
      "text/plain": [
       "<Figure size 576x864 with 2 Axes>"
      ]
     },
     "metadata": {
      "needs_background": "light"
     },
     "output_type": "display_data"
    }
   ],
   "source": [
    "explore.telco_churn_heatmap(df)"
   ]
  },
  {
   "cell_type": "markdown",
   "id": "4890c534",
   "metadata": {},
   "source": [
    "#### best indicators of churn:\n",
    "- Month-to-month contract type\n",
    "- Fiber optics internet service type\n",
    "- Electronic check payment type\n",
    "- Tenure\n",
    "- Two year contract type"
   ]
  },
  {
   "cell_type": "code",
   "execution_count": 16,
   "id": "f3be674b",
   "metadata": {},
   "outputs": [
    {
     "data": {
      "image/png": "[encoded data removed]",
      "text/plain": [
       "<Figure size 576x432 with 1 Axes>"
      ]
     },
     "metadata": {},
     "output_type": "display_data"
    }
   ],
   "source": [
    "explore.plot_all_continuous_vars(train,target = \"churn\",quant_vars = quant_vars)"
   ]
  },
  {
   "cell_type": "markdown",
   "id": "c7a8e063",
   "metadata": {},
   "source": [
    "### Hypothesis\n",
    "$H_O$ - The number of additional services and the likelyhood of churn are independent of eachother.\n",
    "\n",
    "$H_A$ - The number of additional services and the likelyhood of churn are not independent of eachother.\n",
    "\n",
    "α = .05"
   ]
  },
  {
   "cell_type": "code",
   "execution_count": 87,
   "id": "21cade34",
   "metadata": {},
   "outputs": [
    {
     "data": {
      "image/png": "[encoded data removed]",
      "text/plain": [
       "<Figure size 432x288 with 1 Axes>"
      ]
     },
     "metadata": {},
     "output_type": "display_data"
    }
   ],
   "source": [
    "sns.countplot(data = df, hue = \"churn\", x = \"add_ons\")\n",
    "plt.title(\"additional services and churn\")\n",
    "plt.show()"
   ]
  },
  {
   "cell_type": "code",
   "execution_count": 18,
   "id": "6bb457e6",
   "metadata": {},
   "outputs": [
    {
     "data": {
      "text/html": [
       "<div>\n",
       "<style scoped>\n",
       "    .dataframe tbody tr th:only-of-type {\n",
       "        vertical-align: middle;\n",
       "    }\n",
       "\n",
       "    .dataframe tbody tr th {\n",
       "        vertical-align: top;\n",
       "    }\n",
       "\n",
       "    .dataframe thead th {\n",
       "        text-align: right;\n",
       "    }\n",
       "</style>\n",
       "<table border=\"1\" class=\"dataframe\">\n",
       "  <thead>\n",
       "    <tr style=\"text-align: right;\">\n",
       "      <th>churn</th>\n",
       "      <th>0</th>\n",
       "      <th>1</th>\n",
       "      <th>All</th>\n",
       "    </tr>\n",
       "    <tr>\n",
       "      <th>add_ons</th>\n",
       "      <th></th>\n",
       "      <th></th>\n",
       "      <th></th>\n",
       "    </tr>\n",
       "  </thead>\n",
       "  <tbody>\n",
       "    <tr>\n",
       "      <th>0</th>\n",
       "      <td>986</td>\n",
       "      <td>266</td>\n",
       "      <td>1252</td>\n",
       "    </tr>\n",
       "    <tr>\n",
       "      <th>1</th>\n",
       "      <td>301</td>\n",
       "      <td>252</td>\n",
       "      <td>553</td>\n",
       "    </tr>\n",
       "    <tr>\n",
       "      <th>2</th>\n",
       "      <td>360</td>\n",
       "      <td>211</td>\n",
       "      <td>571</td>\n",
       "    </tr>\n",
       "    <tr>\n",
       "      <th>3</th>\n",
       "      <td>452</td>\n",
       "      <td>169</td>\n",
       "      <td>621</td>\n",
       "    </tr>\n",
       "    <tr>\n",
       "      <th>4</th>\n",
       "      <td>369</td>\n",
       "      <td>96</td>\n",
       "      <td>465</td>\n",
       "    </tr>\n",
       "    <tr>\n",
       "      <th>5</th>\n",
       "      <td>276</td>\n",
       "      <td>46</td>\n",
       "      <td>322</td>\n",
       "    </tr>\n",
       "    <tr>\n",
       "      <th>6</th>\n",
       "      <td>147</td>\n",
       "      <td>6</td>\n",
       "      <td>153</td>\n",
       "    </tr>\n",
       "    <tr>\n",
       "      <th>All</th>\n",
       "      <td>2891</td>\n",
       "      <td>1046</td>\n",
       "      <td>3937</td>\n",
       "    </tr>\n",
       "  </tbody>\n",
       "</table>\n",
       "</div>"
      ],
      "text/plain": [
       "churn       0     1   All\n",
       "add_ons                  \n",
       "0         986   266  1252\n",
       "1         301   252   553\n",
       "2         360   211   571\n",
       "3         452   169   621\n",
       "4         369    96   465\n",
       "5         276    46   322\n",
       "6         147     6   153\n",
       "All      2891  1046  3937"
      ]
     },
     "execution_count": 18,
     "metadata": {},
     "output_type": "execute_result"
    }
   ],
   "source": [
    "observed = pd.crosstab(train.add_ons,train.churn,margins = True)\n",
    "observed"
   ]
  },
  {
   "cell_type": "code",
   "execution_count": 19,
   "id": "8ad88118",
   "metadata": {},
   "outputs": [
    {
     "data": {
      "text/plain": [
       "(225.69399141543363,\n",
       " 2.9667698054486236e-40,\n",
       " 14,\n",
       " array([[ 919.36296673,  332.63703327, 1252.        ],\n",
       "        [ 406.07645415,  146.92354585,  553.        ],\n",
       "        [ 419.29413259,  151.70586741,  571.        ],\n",
       "        [ 456.00990602,  164.99009398,  621.        ],\n",
       "        [ 341.45669291,  123.54330709,  465.        ],\n",
       "        [ 236.4495809 ,   85.5504191 ,  322.        ],\n",
       "        [ 112.3502667 ,   40.6497333 ,  153.        ],\n",
       "        [2891.        , 1046.        , 3937.        ]]))"
      ]
     },
     "execution_count": 19,
     "metadata": {},
     "output_type": "execute_result"
    }
   ],
   "source": [
    "chi2,p,degf,expected = stats.chi2_contingency(observed)\n",
    "chi2,p,degf,expected"
   ]
  },
  {
   "cell_type": "code",
   "execution_count": 20,
   "id": "8715c9ef",
   "metadata": {},
   "outputs": [
    {
     "name": "stdout",
     "output_type": "stream",
     "text": [
      "We reject the null hypothesis\n",
      "this is evidence to suggest that our alternative hypothesis is correct\n"
     ]
    }
   ],
   "source": [
    "if p < α:\n",
    "    print(\"We reject the null hypothesis\")\n",
    "    print(\"this is evidence to suggest that our alternative hypothesis is correct\")\n",
    "else:\n",
    "    print(\"we failed to reject the null hypthesis\")"
   ]
  },
  {
   "cell_type": "markdown",
   "id": "d25e884f",
   "metadata": {},
   "source": [
    "### Hypothesis\n",
    "$H_O$ - Streaming television and churn are independent of eachother.\n",
    "\n",
    "$H_A$ - Streaming television and churn are not independent of eachother.\n",
    "\n",
    "α = .05"
   ]
  },
  {
   "cell_type": "code",
   "execution_count": 78,
   "id": "fbb93d5a",
   "metadata": {},
   "outputs": [
    {
     "name": "stdout",
     "output_type": "stream",
     "text": [
      "streaming_tv \n",
      "_____________________\n",
      "\n",
      "        chi2   p-value  degrees of freedom\n",
      "0  17.240002  0.000033                   1\n",
      "\n",
      "observed:\n",
      " churn            0     1   All\n",
      "streaming_tv                  \n",
      "0             1851   593  2444\n",
      "1             1040   453  1493\n",
      "All           2891  1046  3937\n",
      "\n",
      "expected:\n",
      "              0           1\n",
      "0  1794.667005  649.332995\n",
      "1  1096.332995  396.667005\n"
     ]
    },
    {
     "data": {
      "image/png": "[encoded data removed]",
      "text/plain": [
       "<Figure size 144x144 with 1 Axes>"
      ]
     },
     "metadata": {},
     "output_type": "display_data"
    },
    {
     "name": "stdout",
     "output_type": "stream",
     "text": [
      "\n",
      "_____________________\n",
      "\n"
     ]
    }
   ],
   "source": [
    "explore.explore_bivariate_categorical(train,target = \"churn\",cat_var = 'streaming_tv')"
   ]
  },
  {
   "cell_type": "code",
   "execution_count": 90,
   "id": "8794fad5",
   "metadata": {},
   "outputs": [
    {
     "data": {
      "image/png": "[encoded data removed]",
      "text/plain": [
       "<Figure size 432x288 with 1 Axes>"
      ]
     },
     "metadata": {},
     "output_type": "display_data"
    }
   ],
   "source": [
    "sns.countplot(data = df, hue = \"churn\", x = \"streaming_tv\")\n",
    "plt.title(\"Streaming_tv and churn\")\n",
    "plt.show()"
   ]
  },
  {
   "cell_type": "code",
   "execution_count": 79,
   "id": "694d8770",
   "metadata": {},
   "outputs": [
    {
     "data": {
      "text/html": [
       "<div>\n",
       "<style scoped>\n",
       "    .dataframe tbody tr th:only-of-type {\n",
       "        vertical-align: middle;\n",
       "    }\n",
       "\n",
       "    .dataframe tbody tr th {\n",
       "        vertical-align: top;\n",
       "    }\n",
       "\n",
       "    .dataframe thead th {\n",
       "        text-align: right;\n",
       "    }\n",
       "</style>\n",
       "<table border=\"1\" class=\"dataframe\">\n",
       "  <thead>\n",
       "    <tr style=\"text-align: right;\">\n",
       "      <th>churn</th>\n",
       "      <th>0</th>\n",
       "      <th>1</th>\n",
       "      <th>All</th>\n",
       "    </tr>\n",
       "    <tr>\n",
       "      <th>streaming_tv</th>\n",
       "      <th></th>\n",
       "      <th></th>\n",
       "      <th></th>\n",
       "    </tr>\n",
       "  </thead>\n",
       "  <tbody>\n",
       "    <tr>\n",
       "      <th>0</th>\n",
       "      <td>1851</td>\n",
       "      <td>593</td>\n",
       "      <td>2444</td>\n",
       "    </tr>\n",
       "    <tr>\n",
       "      <th>1</th>\n",
       "      <td>1040</td>\n",
       "      <td>453</td>\n",
       "      <td>1493</td>\n",
       "    </tr>\n",
       "    <tr>\n",
       "      <th>All</th>\n",
       "      <td>2891</td>\n",
       "      <td>1046</td>\n",
       "      <td>3937</td>\n",
       "    </tr>\n",
       "  </tbody>\n",
       "</table>\n",
       "</div>"
      ],
      "text/plain": [
       "churn            0     1   All\n",
       "streaming_tv                  \n",
       "0             1851   593  2444\n",
       "1             1040   453  1493\n",
       "All           2891  1046  3937"
      ]
     },
     "execution_count": 79,
     "metadata": {},
     "output_type": "execute_result"
    }
   ],
   "source": [
    "observed = pd.crosstab(train.streaming_tv,train.churn,margins = True)\n",
    "observed"
   ]
  },
  {
   "cell_type": "code",
   "execution_count": 80,
   "id": "2321927d",
   "metadata": {},
   "outputs": [
    {
     "data": {
      "text/plain": [
       "(17.550162289611343,\n",
       " 0.001510605465927347,\n",
       " 4,\n",
       " array([[1794.66700533,  649.33299467, 2444.        ],\n",
       "        [1096.33299467,  396.66700533, 1493.        ],\n",
       "        [2891.        , 1046.        , 3937.        ]]))"
      ]
     },
     "execution_count": 80,
     "metadata": {},
     "output_type": "execute_result"
    }
   ],
   "source": [
    "chi2,p,degf,expected = stats.chi2_contingency(observed)\n",
    "chi2,p,degf,expected"
   ]
  },
  {
   "cell_type": "code",
   "execution_count": 81,
   "id": "4a858b01",
   "metadata": {},
   "outputs": [
    {
     "name": "stdout",
     "output_type": "stream",
     "text": [
      "We reject the null hypothesis\n",
      "this is evidence to suggest that our alternative hypothesis is correct\n"
     ]
    }
   ],
   "source": [
    "if p < α:\n",
    "    print(\"We reject the null hypothesis\")\n",
    "    print(\"this is evidence to suggest that our alternative hypothesis is correct\")\n",
    "else:\n",
    "    print(\"we failed to reject the null hypthesis\")"
   ]
  },
  {
   "cell_type": "markdown",
   "id": "f39c5cf1",
   "metadata": {},
   "source": [
    "### Hypothesis\n",
    "$H_O$ - Streaming movies and churn are independent of eachother.\n",
    "\n",
    "$H_A$ - Streaming movies and churn are not independent of eachother.\n",
    "\n",
    "α = .05"
   ]
  },
  {
   "cell_type": "code",
   "execution_count": 91,
   "id": "149231f2",
   "metadata": {},
   "outputs": [
    {
     "data": {
      "image/png": "[encoded data removed]",
      "text/plain": [
       "<Figure size 432x288 with 1 Axes>"
      ]
     },
     "metadata": {},
     "output_type": "display_data"
    }
   ],
   "source": [
    "sns.countplot(data = df, hue = \"churn\", x = \"streaming_movies\")\n",
    "plt.title(\"Streaming movies and churn\")\n",
    "plt.show()"
   ]
  },
  {
   "cell_type": "code",
   "execution_count": 82,
   "id": "dababbfb",
   "metadata": {},
   "outputs": [
    {
     "name": "stdout",
     "output_type": "stream",
     "text": [
      "streaming_movies \n",
      "_____________________\n",
      "\n",
      "        chi2   p-value  degrees of freedom\n",
      "0  12.822639  0.000342                   1\n",
      "\n",
      "observed:\n",
      " churn                0     1   All\n",
      "streaming_movies                  \n",
      "0                 1812   589  2401\n",
      "1                 1079   457  1536\n",
      "All               2891  1046  3937\n",
      "\n",
      "expected:\n",
      "             0          1\n",
      "0  1763.09144  637.90856\n",
      "1  1127.90856  408.09144\n"
     ]
    },
    {
     "data": {
      "image/png": "[encoded data removed]",
      "text/plain": [
       "<Figure size 144x144 with 1 Axes>"
      ]
     },
     "metadata": {},
     "output_type": "display_data"
    },
    {
     "name": "stdout",
     "output_type": "stream",
     "text": [
      "\n",
      "_____________________\n",
      "\n"
     ]
    }
   ],
   "source": [
    "explore.explore_bivariate_categorical(train,target = \"churn\",cat_var = 'streaming_movies')"
   ]
  },
  {
   "cell_type": "code",
   "execution_count": 83,
   "id": "b8625088",
   "metadata": {},
   "outputs": [
    {
     "data": {
      "text/html": [
       "<div>\n",
       "<style scoped>\n",
       "    .dataframe tbody tr th:only-of-type {\n",
       "        vertical-align: middle;\n",
       "    }\n",
       "\n",
       "    .dataframe tbody tr th {\n",
       "        vertical-align: top;\n",
       "    }\n",
       "\n",
       "    .dataframe thead th {\n",
       "        text-align: right;\n",
       "    }\n",
       "</style>\n",
       "<table border=\"1\" class=\"dataframe\">\n",
       "  <thead>\n",
       "    <tr style=\"text-align: right;\">\n",
       "      <th>churn</th>\n",
       "      <th>0</th>\n",
       "      <th>1</th>\n",
       "      <th>All</th>\n",
       "    </tr>\n",
       "    <tr>\n",
       "      <th>streaming_movies</th>\n",
       "      <th></th>\n",
       "      <th></th>\n",
       "      <th></th>\n",
       "    </tr>\n",
       "  </thead>\n",
       "  <tbody>\n",
       "    <tr>\n",
       "      <th>0</th>\n",
       "      <td>1812</td>\n",
       "      <td>589</td>\n",
       "      <td>2401</td>\n",
       "    </tr>\n",
       "    <tr>\n",
       "      <th>1</th>\n",
       "      <td>1079</td>\n",
       "      <td>457</td>\n",
       "      <td>1536</td>\n",
       "    </tr>\n",
       "    <tr>\n",
       "      <th>All</th>\n",
       "      <td>2891</td>\n",
       "      <td>1046</td>\n",
       "      <td>3937</td>\n",
       "    </tr>\n",
       "  </tbody>\n",
       "</table>\n",
       "</div>"
      ],
      "text/plain": [
       "churn                0     1   All\n",
       "streaming_movies                  \n",
       "0                 1812   589  2401\n",
       "1                 1079   457  1536\n",
       "All               2891  1046  3937"
      ]
     },
     "execution_count": 83,
     "metadata": {},
     "output_type": "execute_result"
    }
   ],
   "source": [
    "observed = pd.crosstab(train.streaming_movies,train.churn,margins = True)\n",
    "observed"
   ]
  },
  {
   "cell_type": "code",
   "execution_count": 25,
   "id": "d3db9dff",
   "metadata": {},
   "outputs": [
    {
     "data": {
      "text/plain": [
       "(13.088890714438502,\n",
       " 0.01084952716720754,\n",
       " 4,\n",
       " array([[1763.09144018,  637.90855982, 2401.        ],\n",
       "        [1127.90855982,  408.09144018, 1536.        ],\n",
       "        [2891.        , 1046.        , 3937.        ]]))"
      ]
     },
     "execution_count": 25,
     "metadata": {},
     "output_type": "execute_result"
    }
   ],
   "source": [
    "chi2,p,degf,expected = stats.chi2_contingency(observed)\n",
    "chi2,p,degf,expected"
   ]
  },
  {
   "cell_type": "code",
   "execution_count": 26,
   "id": "d85bd78c",
   "metadata": {},
   "outputs": [
    {
     "name": "stdout",
     "output_type": "stream",
     "text": [
      "We reject the null hypothesis\n",
      "this is evidence to suggest that our alternative hypothesis is correct\n"
     ]
    }
   ],
   "source": [
    "if p < α:\n",
    "    print(\"We reject the null hypothesis\")\n",
    "    print(\"this is evidence to suggest that our alternative hypothesis is correct\")\n",
    "else:\n",
    "    print(\"we failed to reject the null hypthesis\")"
   ]
  },
  {
   "cell_type": "markdown",
   "id": "48fa21e2",
   "metadata": {},
   "source": [
    "### Hypothesis\n",
    "$H_O$ - Streaming movies and tv are independent on churn.\n",
    "\n",
    "$H_A$ - Streaming movies and tv are not independent of churn.\n",
    "\n",
    "α = .05"
   ]
  },
  {
   "cell_type": "code",
   "execution_count": null,
   "id": "bedfdaca",
   "metadata": {},
   "outputs": [],
   "source": [
    "# 1 represents someone that has either movie or tv."
   ]
  },
  {
   "cell_type": "code",
   "execution_count": 92,
   "id": "5864e313",
   "metadata": {},
   "outputs": [
    {
     "data": {
      "image/png": "[encoded data removed]",
      "text/plain": [
       "<Figure size 432x288 with 1 Axes>"
      ]
     },
     "metadata": {},
     "output_type": "display_data"
    }
   ],
   "source": [
    "sns.countplot(data = df, hue = \"churn\", x = \"streaming_movies_and_tv\")\n",
    "plt.title(\"Streaming movies and tv and churn\")\n",
    "plt.show()"
   ]
  },
  {
   "cell_type": "code",
   "execution_count": 31,
   "id": "d380f610",
   "metadata": {},
   "outputs": [
    {
     "data": {
      "text/html": [
       "<div>\n",
       "<style scoped>\n",
       "    .dataframe tbody tr th:only-of-type {\n",
       "        vertical-align: middle;\n",
       "    }\n",
       "\n",
       "    .dataframe tbody tr th {\n",
       "        vertical-align: top;\n",
       "    }\n",
       "\n",
       "    .dataframe thead th {\n",
       "        text-align: right;\n",
       "    }\n",
       "</style>\n",
       "<table border=\"1\" class=\"dataframe\">\n",
       "  <thead>\n",
       "    <tr style=\"text-align: right;\">\n",
       "      <th>churn</th>\n",
       "      <th>0</th>\n",
       "      <th>1</th>\n",
       "      <th>All</th>\n",
       "    </tr>\n",
       "    <tr>\n",
       "      <th>streaming_movies_and_tv</th>\n",
       "      <th></th>\n",
       "      <th></th>\n",
       "      <th></th>\n",
       "    </tr>\n",
       "  </thead>\n",
       "  <tbody>\n",
       "    <tr>\n",
       "      <th>0</th>\n",
       "      <td>1527</td>\n",
       "      <td>449</td>\n",
       "      <td>1976</td>\n",
       "    </tr>\n",
       "    <tr>\n",
       "      <th>1</th>\n",
       "      <td>609</td>\n",
       "      <td>284</td>\n",
       "      <td>893</td>\n",
       "    </tr>\n",
       "    <tr>\n",
       "      <th>2</th>\n",
       "      <td>755</td>\n",
       "      <td>313</td>\n",
       "      <td>1068</td>\n",
       "    </tr>\n",
       "    <tr>\n",
       "      <th>All</th>\n",
       "      <td>2891</td>\n",
       "      <td>1046</td>\n",
       "      <td>3937</td>\n",
       "    </tr>\n",
       "  </tbody>\n",
       "</table>\n",
       "</div>"
      ],
      "text/plain": [
       "churn                       0     1   All\n",
       "streaming_movies_and_tv                  \n",
       "0                        1527   449  1976\n",
       "1                         609   284   893\n",
       "2                         755   313  1068\n",
       "All                      2891  1046  3937"
      ]
     },
     "execution_count": 31,
     "metadata": {},
     "output_type": "execute_result"
    }
   ],
   "source": [
    "observed = pd.crosstab(train.streaming_movies_and_tv,train.churn,margins = True)\n",
    "observed"
   ]
  },
  {
   "cell_type": "code",
   "execution_count": 32,
   "id": "c870d2b3",
   "metadata": {},
   "outputs": [
    {
     "data": {
      "text/plain": [
       "(31.62705367777638,\n",
       " 1.9235069410267655e-05,\n",
       " 6,\n",
       " array([[1451.00736601,  524.99263399, 1976.        ],\n",
       "        [ 655.74371349,  237.25628651,  893.        ],\n",
       "        [ 784.2489205 ,  283.7510795 , 1068.        ],\n",
       "        [2891.        , 1046.        , 3937.        ]]))"
      ]
     },
     "execution_count": 32,
     "metadata": {},
     "output_type": "execute_result"
    }
   ],
   "source": [
    "chi2,p,degf,expected = stats.chi2_contingency(observed)\n",
    "chi2,p,degf,expected"
   ]
  },
  {
   "cell_type": "code",
   "execution_count": 33,
   "id": "79bebc2b",
   "metadata": {},
   "outputs": [
    {
     "name": "stdout",
     "output_type": "stream",
     "text": [
      "We reject the null hypothesis\n",
      "this is evidence to suggest that our alternative hypothesis is correct\n"
     ]
    }
   ],
   "source": [
    "if p < α:\n",
    "    print(\"We reject the null hypothesis\")\n",
    "    print(\"this is evidence to suggest that our alternative hypothesis is correct\")\n",
    "else:\n",
    "    print(\"we failed to reject the null hypthesis\")"
   ]
  },
  {
   "cell_type": "markdown",
   "id": "2dee148f",
   "metadata": {},
   "source": [
    "### Takeaways"
   ]
  },
  {
   "cell_type": "markdown",
   "id": "e8a675cd",
   "metadata": {},
   "source": [
    "- There is evidence that the additional services and streaming services have an affect on the churn rate\n",
    "- Our churn rates from our additional services (add_ons) needs further evaluation, churn rates for 1-2 services is much higher than expected, while churn rates of customers with 4-6 services have much lower rates of churn.\n",
    "- The rates of churn of those that stream tv and movies are slightly higher, indicating that there is some kind of relationship."
   ]
  },
  {
   "cell_type": "markdown",
   "id": "55053fa9",
   "metadata": {},
   "source": [
    "### Reccomendations/More Inspection"
   ]
  },
  {
   "cell_type": "markdown",
   "id": "ab79e143",
   "metadata": {},
   "source": [
    "- Are customers dissatisfied with our streaming services the data indicates so, do we offer a wide selection, user feedback would be a massive help, targeting those that churned to see if improvements could be made.\n",
    "- Do we offer bundling for movies and streaming?\n",
    "- The rates of churn are still higher then expected when customers have both streaming services, we might want to impliment a discount for customers that buy both services an entertainment bundle."
   ]
  },
  {
   "cell_type": "markdown",
   "id": "eaed4207",
   "metadata": {},
   "source": [
    "## Modeling and evaluation"
   ]
  },
  {
   "cell_type": "markdown",
   "id": "482bf470",
   "metadata": {},
   "source": [
    " TP: Predicted customer retention and the customer stayed     | FP: Predicted customer retention and the customer left\n",
    "\n",
    " \n",
    " FN: Predicted our customer would leave and the customer didnt| TN: Predicted customer would leave and they did"
   ]
  },
  {
   "cell_type": "code",
   "execution_count": 44,
   "id": "ad724975",
   "metadata": {},
   "outputs": [],
   "source": [
    "# I am looking for a high accuracy in my model so I can accuratly identify who is likely to churn for future company\n",
    "# projections, I also believe that good incite can be gathered from our FN and FP values and would reccomend\n",
    "# survaying these groups to get a better understanding of customer satisfaction/dissatisfaction."
   ]
  },
  {
   "cell_type": "markdown",
   "id": "ea7de2d7",
   "metadata": {},
   "source": [
    "### Models"
   ]
  },
  {
   "cell_type": "code",
   "execution_count": 45,
   "id": "0914737b",
   "metadata": {},
   "outputs": [],
   "source": [
    "def baseline_acc(X,y, strategy = \"most_frequent\",random_state = 174):\n",
    "    # generates a baseline model using most frequent, since there are only two outcomes we are predicting.\n",
    "    model = DummyClassifier(strategy = strategy, random_state = random_state)\n",
    "    model.fit(X,y)\n",
    "    # prints an accuracy for the baseline model.\n",
    "    print(f\"Baseline accuracy score is: {model.score(X,y):.3%}\")\n",
    "    # Returns the baseline model back for use.\n",
    "    return model\n"
   ]
  },
  {
   "cell_type": "code",
   "execution_count": 46,
   "id": "9a28e608",
   "metadata": {},
   "outputs": [],
   "source": [
    "def tree_model(X,y,max_depth = 5, criterion = \"gini\", splitter = \"best\", random_state = 174):\n",
    "    dt_model = DecisionTreeClassifier(max_depth = max_depth, criterion = criterion, splitter = splitter, random_state = random_state)\n",
    "    dt_model.fit(X,y)\n",
    "    y_pred = dt_model.predict(X)\n",
    "    print(f\"This decision tree models accuracy score is: {dt_model.score(X,y):.3%}\")\n",
    "    return dt_model,y_pred\n",
    " "
   ]
  },
  {
   "cell_type": "code",
   "execution_count": 47,
   "id": "14c911e4",
   "metadata": {},
   "outputs": [],
   "source": [
    "def rand_forest(X,y, n_estimators = 30, criterion = \"gini\",max_depth = 9, random_state = 174, min_samples_leaf = 3):\n",
    "    rf_model = RandomForestClassifier(\n",
    "        n_estimators = n_estimators,\n",
    "        criterion = criterion,\n",
    "        max_depth = max_depth,\n",
    "        min_samples_leaf = min_samples_leaf,\n",
    "        random_state = random_state )\n",
    "    rf_model.fit(X,y)\n",
    "    y_pred = rf_model.predict(X)\n",
    "    print(f\"This Random Forest models accuracy score is: {rf_model.score(X,y):.3%}\")\n",
    "    return rf_model,y_pred\n"
   ]
  },
  {
   "cell_type": "code",
   "execution_count": 48,
   "id": "98864d8f",
   "metadata": {},
   "outputs": [],
   "source": [
    "def knneighbors(X,y,n_neighbors = 5, weights = \"uniform\",leaf_size = 10,p = 2):\n",
    "    knn_model = KNeighborsClassifier(\n",
    "        n_neighbors = n_neighbors,\n",
    "        weights = weights,\n",
    "        leaf_size = leaf_size,\n",
    "        p = p,)\n",
    "    knn_model.fit(X,y)\n",
    "    y_pred = knn_model.predict(X)\n",
    "    print(f\"This K Nearest Neighbor models accuracy score is: {knn_model.score(X,y):.3%}\")\n",
    "    return knn_model,y_pred\n"
   ]
  },
  {
   "cell_type": "markdown",
   "id": "1435b739",
   "metadata": {},
   "source": [
    "I created a function that returns 6 values an X that holds the dataframe while removing churn, and a y that holds the churn values for our train, validate, test."
   ]
  },
  {
   "cell_type": "code",
   "execution_count": 65,
   "id": "fe9479b4",
   "metadata": {},
   "outputs": [],
   "source": [
    "X_train,y_train,X_validate,y_validate,X_test,y_test  = splitting_target_var(train,validate,test)"
   ]
  },
  {
   "cell_type": "code",
   "execution_count": 66,
   "id": "4a990ddd",
   "metadata": {},
   "outputs": [
    {
     "data": {
      "text/plain": [
       "((3937, 30), (3937,), (1688, 30), (1688,), (1407, 30), (1407,))"
      ]
     },
     "execution_count": 66,
     "metadata": {},
     "output_type": "execute_result"
    }
   ],
   "source": [
    "X_train.shape,y_train.shape,X_validate.shape,y_validate.shape,X_test.shape,y_test.shape"
   ]
  },
  {
   "cell_type": "markdown",
   "id": "f8169cc2",
   "metadata": {},
   "source": [
    "### Train"
   ]
  },
  {
   "cell_type": "markdown",
   "id": "7d96b8f1",
   "metadata": {},
   "source": [
    "### Baseline model\n",
    "This uses most frequent as its strategy"
   ]
  },
  {
   "cell_type": "code",
   "execution_count": 67,
   "id": "90669d1f",
   "metadata": {},
   "outputs": [
    {
     "name": "stdout",
     "output_type": "stream",
     "text": [
      "Baseline accuracy score is: 73.432%\n"
     ]
    }
   ],
   "source": [
    "baseline = baseline_acc(X_train,y_train)"
   ]
  },
  {
   "cell_type": "markdown",
   "id": "9ddb6ebf",
   "metadata": {},
   "source": [
    "### Decision Tree\n",
    "This model has a max depth of 5"
   ]
  },
  {
   "cell_type": "code",
   "execution_count": 68,
   "id": "aca63575",
   "metadata": {},
   "outputs": [
    {
     "name": "stdout",
     "output_type": "stream",
     "text": [
      "This decision tree models accuracy score is: 79.553%\n"
     ]
    }
   ],
   "source": [
    "dt_model,y_pred = tree_model(X_train,y_train)"
   ]
  },
  {
   "cell_type": "code",
   "execution_count": 69,
   "id": "feebba46",
   "metadata": {},
   "outputs": [],
   "source": [
    "# This is a visualization of our Decision Tree model."
   ]
  },
  {
   "cell_type": "markdown",
   "id": "f4ba2cda",
   "metadata": {},
   "source": [
    "![](telco_decision_tree.pdf)"
   ]
  },
  {
   "cell_type": "code",
   "execution_count": 54,
   "id": "9bcac563",
   "metadata": {},
   "outputs": [
    {
     "name": "stdout",
     "output_type": "stream",
     "text": [
      "\n",
      "            *** Model  Report ***  \n",
      "            ---------------------              \n",
      " _____________________________________________\n",
      "|            Positive Case: churn==1          |\n",
      "|            Negative Case: churn==0          |\n",
      "|---------------------------------------------|\n",
      "|                 Accuracy:   79.55%          |\n",
      "|       True Positive Rate:   56.15%          |\n",
      "|      False Positive Rate:   18.97%          |\n",
      "|       True Negative Rate:   81.03%          |\n",
      "|      False Negative Rate:   43.85%          |\n",
      "|                Precision:   62.72%          |\n",
      "|                   Recall:   56.79%          |\n",
      "|                 F1-Score:   59.61%          |\n",
      "|                                             |\n",
      "|         Positive Support:     1046          |\n",
      "|         Negative Support:     2891          |\n",
      "|            Total Support:     3937          |\n",
      "|_____________________________________________|\n",
      "\n"
     ]
    }
   ],
   "source": [
    "model_report(y_train,y_pred)"
   ]
  },
  {
   "cell_type": "code",
   "execution_count": 55,
   "id": "3527c3a0",
   "metadata": {},
   "outputs": [
    {
     "name": "stdout",
     "output_type": "stream",
     "text": [
      "This Random Forest models accuracy score is: 84.455%\n"
     ]
    }
   ],
   "source": [
    "rf_model,y_pred = rand_forest(X_train,y_train)"
   ]
  },
  {
   "cell_type": "code",
   "execution_count": 56,
   "id": "05f59cd8",
   "metadata": {},
   "outputs": [
    {
     "name": "stdout",
     "output_type": "stream",
     "text": [
      "\n",
      "            *** Model  Report ***  \n",
      "            ---------------------              \n",
      " _____________________________________________\n",
      "|            Positive Case: churn==1          |\n",
      "|            Negative Case: churn==0          |\n",
      "|---------------------------------------------|\n",
      "|                 Accuracy:   84.46%          |\n",
      "|       True Positive Rate:   68.63%          |\n",
      "|      False Positive Rate:   18.83%          |\n",
      "|       True Negative Rate:   81.17%          |\n",
      "|      False Negative Rate:   31.37%          |\n",
      "|                Precision:   76.53%          |\n",
      "|                   Recall:   59.85%          |\n",
      "|                 F1-Score:   67.17%          |\n",
      "|                                             |\n",
      "|         Positive Support:     1046          |\n",
      "|         Negative Support:     2891          |\n",
      "|            Total Support:     3937          |\n",
      "|_____________________________________________|\n",
      "\n"
     ]
    }
   ],
   "source": [
    "model_report(y_train,y_pred)"
   ]
  },
  {
   "cell_type": "code",
   "execution_count": 57,
   "id": "8845b535",
   "metadata": {},
   "outputs": [
    {
     "name": "stdout",
     "output_type": "stream",
     "text": [
      "This K Nearest Neighbor models accuracy score is: 82.804%\n"
     ]
    }
   ],
   "source": [
    "knn_model,y_pred = knneighbors(X_train,y_train)"
   ]
  },
  {
   "cell_type": "code",
   "execution_count": 58,
   "id": "5ea261fe",
   "metadata": {},
   "outputs": [
    {
     "name": "stdout",
     "output_type": "stream",
     "text": [
      "\n",
      "            *** Model  Report ***  \n",
      "            ---------------------              \n",
      " _____________________________________________\n",
      "|            Positive Case: churn==1          |\n",
      "|            Negative Case: churn==0          |\n",
      "|---------------------------------------------|\n",
      "|                 Accuracy:   82.80%          |\n",
      "|       True Positive Rate:   67.36%          |\n",
      "|      False Positive Rate:   18.10%          |\n",
      "|       True Negative Rate:   81.90%          |\n",
      "|      False Negative Rate:   32.64%          |\n",
      "|                Precision:   72.75%          |\n",
      "|                   Recall:   56.41%          |\n",
      "|                 F1-Score:   63.54%          |\n",
      "|                                             |\n",
      "|         Positive Support:     1046          |\n",
      "|         Negative Support:     2891          |\n",
      "|            Total Support:     3937          |\n",
      "|_____________________________________________|\n",
      "\n"
     ]
    }
   ],
   "source": [
    "model_report(y_train,y_pred)"
   ]
  },
  {
   "cell_type": "markdown",
   "id": "e7e11814",
   "metadata": {},
   "source": [
    "### Validate"
   ]
  },
  {
   "cell_type": "code",
   "execution_count": 59,
   "id": "8c71deb9",
   "metadata": {},
   "outputs": [
    {
     "name": "stdout",
     "output_type": "stream",
     "text": [
      "Decision Tree model accuracy: 0.787\n"
     ]
    }
   ],
   "source": [
    "accuracy = round(dt_model.score(X_validate, y_validate), 3)\n",
    "print(f'Decision Tree model accuracy: {accuracy}')"
   ]
  },
  {
   "cell_type": "code",
   "execution_count": 70,
   "id": "25d3ddec",
   "metadata": {},
   "outputs": [],
   "source": [
    "y_pred = dt_model.predict(X_validate)"
   ]
  },
  {
   "cell_type": "code",
   "execution_count": 71,
   "id": "27e3536b",
   "metadata": {},
   "outputs": [
    {
     "name": "stdout",
     "output_type": "stream",
     "text": [
      "\n",
      "            *** Model  Report ***  \n",
      "            ---------------------              \n",
      " _____________________________________________\n",
      "|            Positive Case: churn==1          |\n",
      "|            Negative Case: churn==0          |\n",
      "|---------------------------------------------|\n",
      "|                 Accuracy:   78.73%          |\n",
      "|       True Positive Rate:   54.04%          |\n",
      "|      False Positive Rate:   19.19%          |\n",
      "|       True Negative Rate:   80.81%          |\n",
      "|      False Negative Rate:   45.96%          |\n",
      "|                Precision:   60.71%          |\n",
      "|                   Recall:   56.79%          |\n",
      "|                 F1-Score:   58.69%          |\n",
      "|                                             |\n",
      "|         Positive Support:      449          |\n",
      "|         Negative Support:     1239          |\n",
      "|            Total Support:     1688          |\n",
      "|_____________________________________________|\n",
      "\n"
     ]
    }
   ],
   "source": [
    "model_report(y_validate,y_pred)"
   ]
  },
  {
   "cell_type": "code",
   "execution_count": 72,
   "id": "36560b51",
   "metadata": {},
   "outputs": [
    {
     "name": "stdout",
     "output_type": "stream",
     "text": [
      "Random Forest model accuracy: 0.807\n"
     ]
    }
   ],
   "source": [
    "accuracy = round(rf_model.score(X_validate, y_validate), 3)\n",
    "print(f'Random Forest model accuracy: {accuracy}')"
   ]
  },
  {
   "cell_type": "code",
   "execution_count": 73,
   "id": "a477aa6f",
   "metadata": {},
   "outputs": [],
   "source": [
    "y_pred = rf_model.predict(X_validate)"
   ]
  },
  {
   "cell_type": "code",
   "execution_count": 74,
   "id": "77e36bcd",
   "metadata": {},
   "outputs": [
    {
     "name": "stdout",
     "output_type": "stream",
     "text": [
      "\n",
      "            *** Model  Report ***  \n",
      "            ---------------------              \n",
      " _____________________________________________\n",
      "|            Positive Case: churn==1          |\n",
      "|            Negative Case: churn==0          |\n",
      "|---------------------------------------------|\n",
      "|                 Accuracy:   80.69%          |\n",
      "|       True Positive Rate:   67.79%          |\n",
      "|      False Positive Rate:   16.74%          |\n",
      "|       True Negative Rate:   83.26%          |\n",
      "|      False Negative Rate:   32.21%          |\n",
      "|                Precision:   68.47%          |\n",
      "|                   Recall:   50.78%          |\n",
      "|                 F1-Score:   58.31%          |\n",
      "|                                             |\n",
      "|         Positive Support:      449          |\n",
      "|         Negative Support:     1239          |\n",
      "|            Total Support:     1688          |\n",
      "|_____________________________________________|\n",
      "\n"
     ]
    }
   ],
   "source": [
    "model_report(y_validate,y_pred)"
   ]
  },
  {
   "cell_type": "code",
   "execution_count": 75,
   "id": "ab251f8b",
   "metadata": {},
   "outputs": [
    {
     "name": "stdout",
     "output_type": "stream",
     "text": [
      "K Nearest Neighbors model accuracy: 0.765\n"
     ]
    }
   ],
   "source": [
    "accuracy = round(knn_model.score(X_validate, y_validate), 3)\n",
    "print(f'K Nearest Neighbors model accuracy: {accuracy}')"
   ]
  },
  {
   "cell_type": "code",
   "execution_count": 76,
   "id": "dd85cef8",
   "metadata": {},
   "outputs": [],
   "source": [
    "y_pred = knn_model.predict(X_validate)"
   ]
  },
  {
   "cell_type": "code",
   "execution_count": 77,
   "id": "864bd7f9",
   "metadata": {},
   "outputs": [
    {
     "name": "stdout",
     "output_type": "stream",
     "text": [
      "\n",
      "            *** Model  Report ***  \n",
      "            ---------------------              \n",
      " _____________________________________________\n",
      "|            Positive Case: churn==1          |\n",
      "|            Negative Case: churn==0          |\n",
      "|---------------------------------------------|\n",
      "|                 Accuracy:   76.54%          |\n",
      "|       True Positive Rate:   66.41%          |\n",
      "|      False Positive Rate:   14.40%          |\n",
      "|       True Negative Rate:   85.60%          |\n",
      "|      False Negative Rate:   33.59%          |\n",
      "|                Precision:   58.31%          |\n",
      "|                   Recall:   41.43%          |\n",
      "|                 F1-Score:   48.44%          |\n",
      "|                                             |\n",
      "|         Positive Support:      449          |\n",
      "|         Negative Support:     1239          |\n",
      "|            Total Support:     1688          |\n",
      "|_____________________________________________|\n",
      "\n"
     ]
    }
   ],
   "source": [
    "model_report(y_validate,y_pred)"
   ]
  },
  {
   "cell_type": "markdown",
   "id": "13fb2507",
   "metadata": {},
   "source": [
    "### Test"
   ]
  },
  {
   "cell_type": "code",
   "execution_count": 62,
   "id": "ccd00b3b",
   "metadata": {},
   "outputs": [
    {
     "name": "stdout",
     "output_type": "stream",
     "text": [
      "\n",
      "            *** Model  Report ***  \n",
      "            ---------------------              \n",
      " _____________________________________________\n",
      "|            Positive Case: churn==1          |\n",
      "|            Negative Case: churn==0          |\n",
      "|---------------------------------------------|\n",
      "|                 Accuracy:   80.67%          |\n",
      "|       True Positive Rate:   69.49%          |\n",
      "|      False Positive Rate:   16.30%          |\n",
      "|       True Negative Rate:   83.70%          |\n",
      "|      False Negative Rate:   30.51%          |\n",
      "|                Precision:   69.03%          |\n",
      "|                   Recall:   49.47%          |\n",
      "|                 F1-Score:   57.63%          |\n",
      "|                                             |\n",
      "|         Positive Support:      374          |\n",
      "|         Negative Support:     1033          |\n",
      "|            Total Support:     1407          |\n",
      "|_____________________________________________|\n",
      "\n",
      "\n",
      "\n",
      "Baseline model accuracy: 73.42%\n"
     ]
    }
   ],
   "source": [
    "final_pred = make_predictions(rf_model,X_test)\n",
    "model_report(y_test,final_pred)\n",
    "print(\"\\n\")\n",
    "print(f'Baseline model accuracy: {baseline.score(X_test, y_test):.2%}')"
   ]
  },
  {
   "cell_type": "code",
   "execution_count": 63,
   "id": "e65341ba",
   "metadata": {},
   "outputs": [
    {
     "name": "stdout",
     "output_type": "stream",
     "text": [
      "The total difference between the model I developed and the baseline was 7.249%\n"
     ]
    }
   ],
   "source": [
    "rf_model_score = rf_model.score(X_test,y_test)\n",
    "baseline_score = baseline.score(X_test, y_test)\n",
    "print(f\"The total difference between the model I developed and the baseline was {(rf_model_score - baseline_score):.3%}\")"
   ]
  },
  {
   "cell_type": "code",
   "execution_count": 64,
   "id": "8a1a2b4a",
   "metadata": {},
   "outputs": [
    {
     "data": {
      "text/html": [
       "<div>\n",
       "<style scoped>\n",
       "    .dataframe tbody tr th:only-of-type {\n",
       "        vertical-align: middle;\n",
       "    }\n",
       "\n",
       "    .dataframe tbody tr th {\n",
       "        vertical-align: top;\n",
       "    }\n",
       "\n",
       "    .dataframe thead th {\n",
       "        text-align: right;\n",
       "    }\n",
       "</style>\n",
       "<table border=\"1\" class=\"dataframe\">\n",
       "  <thead>\n",
       "    <tr style=\"text-align: right;\">\n",
       "      <th></th>\n",
       "      <th>customer_id</th>\n",
       "      <th>prediction_proba</th>\n",
       "      <th>predictions</th>\n",
       "    </tr>\n",
       "  </thead>\n",
       "  <tbody>\n",
       "    <tr>\n",
       "      <th>0</th>\n",
       "      <td>3030-YZADT</td>\n",
       "      <td>0.0</td>\n",
       "      <td>0</td>\n",
       "    </tr>\n",
       "    <tr>\n",
       "      <th>1</th>\n",
       "      <td>5131-PONJI</td>\n",
       "      <td>0.2</td>\n",
       "      <td>0</td>\n",
       "    </tr>\n",
       "    <tr>\n",
       "      <th>2</th>\n",
       "      <td>5343-SGUBI</td>\n",
       "      <td>0.0</td>\n",
       "      <td>0</td>\n",
       "    </tr>\n",
       "    <tr>\n",
       "      <th>3</th>\n",
       "      <td>1036-GUDCL</td>\n",
       "      <td>0.2</td>\n",
       "      <td>0</td>\n",
       "    </tr>\n",
       "    <tr>\n",
       "      <th>4</th>\n",
       "      <td>8731-WBBMB</td>\n",
       "      <td>0.2</td>\n",
       "      <td>0</td>\n",
       "    </tr>\n",
       "    <tr>\n",
       "      <th>...</th>\n",
       "      <td>...</td>\n",
       "      <td>...</td>\n",
       "      <td>...</td>\n",
       "    </tr>\n",
       "    <tr>\n",
       "      <th>1402</th>\n",
       "      <td>1984-FCOWB</td>\n",
       "      <td>0.2</td>\n",
       "      <td>0</td>\n",
       "    </tr>\n",
       "    <tr>\n",
       "      <th>1403</th>\n",
       "      <td>7663-RGWBC</td>\n",
       "      <td>0.2</td>\n",
       "      <td>0</td>\n",
       "    </tr>\n",
       "    <tr>\n",
       "      <th>1404</th>\n",
       "      <td>8644-XYTSV</td>\n",
       "      <td>0.2</td>\n",
       "      <td>0</td>\n",
       "    </tr>\n",
       "    <tr>\n",
       "      <th>1405</th>\n",
       "      <td>6937-GCDGQ</td>\n",
       "      <td>0.0</td>\n",
       "      <td>0</td>\n",
       "    </tr>\n",
       "    <tr>\n",
       "      <th>1406</th>\n",
       "      <td>6599-GZWCM</td>\n",
       "      <td>0.2</td>\n",
       "      <td>0</td>\n",
       "    </tr>\n",
       "  </tbody>\n",
       "</table>\n",
       "<p>1407 rows × 3 columns</p>\n",
       "</div>"
      ],
      "text/plain": [
       "     customer_id  prediction_proba  predictions\n",
       "0     3030-YZADT               0.0            0\n",
       "1     5131-PONJI               0.2            0\n",
       "2     5343-SGUBI               0.0            0\n",
       "3     1036-GUDCL               0.2            0\n",
       "4     8731-WBBMB               0.2            0\n",
       "...          ...               ...          ...\n",
       "1402  1984-FCOWB               0.2            0\n",
       "1403  7663-RGWBC               0.2            0\n",
       "1404  8644-XYTSV               0.2            0\n",
       "1405  6937-GCDGQ               0.0            0\n",
       "1406  6599-GZWCM               0.2            0\n",
       "\n",
       "[1407 rows x 3 columns]"
      ]
     },
     "execution_count": 64,
     "metadata": {},
     "output_type": "execute_result"
    }
   ],
   "source": [
    "# Saves a csv file of my predictions on the test data\n",
    "get_final_report(knn_model)"
   ]
  },
  {
   "cell_type": "markdown",
   "id": "0cdbcaf0",
   "metadata": {},
   "source": [
    "## Summary"
   ]
  },
  {
   "cell_type": "markdown",
   "id": "449ae083",
   "metadata": {},
   "source": [
    "### Key takeaways\n"
   ]
  },
  {
   "cell_type": "markdown",
   "id": "9c73a76a",
   "metadata": {},
   "source": [
    "top 5 churn predictors\n",
    "- Month-to-month contract type\n",
    "- Fiber optics internet service type\n",
    "- Electronic check payment type\n",
    "- Tenure\n",
    "- Two year contract type\n",
    "### Model takeaways\n",
    "- The best model for accuracy was my decision tree model with an accuracy score of 80.67% on our test data.\n",
    "- These are the model criteria that I used (n_estimators = 30, criterion = \"gini\",max_depth = 9, random_state = 174, min_samples_leaf = 3)"
   ]
  },
  {
   "cell_type": "markdown",
   "id": "b65cb9e6",
   "metadata": {},
   "source": [
    "### Recommendations"
   ]
  },
  {
   "cell_type": "markdown",
   "id": "c37678c1",
   "metadata": {},
   "source": [
    "- Although streaming was not the greatest indicator of churn I would still recommend further evaluation, and survaying of customers that had streaming services to gather their responses on why they churned.\n",
    "- Offering some kind of incentive to bundle the streaming services at a small discount or improving on those services might lower churn.\n",
    "- Investigate why customers are churning that have the fiber optics plan, is the price to high or is there some other factor causing it.\n",
    "- Incentivise payment types other then electronic checks, in order to increase customer retention."
   ]
  },
  {
   "cell_type": "markdown",
   "id": "758ece00",
   "metadata": {},
   "source": [
    "### Moving forward\n",
    "If given more time"
   ]
  },
  {
   "cell_type": "markdown",
   "id": "3adec0d0",
   "metadata": {},
   "source": [
    "- I would adjust hyperperamaters and look for more features in the data, trying to find links between churn and multiple columns.\n",
    "- I would also have a team focus on survaying customer complaints to find cheap fixes for any reoccuring drivers of churn.\n",
    "- Additional effort in discovering the reason for the variations in churn for our add_ons column and discovering reasons for this data could give us actions we could use moving forward."
   ]
  }
 ],
 "metadata": {
  "kernelspec": {
   "display_name": "Python 3",
   "language": "python",
   "name": "python3"
  },
  "language_info": {
   "codemirror_mode": {
    "name": "ipython",
    "version": 3
   },
   "file_extension": ".py",
   "mimetype": "text/x-python",
   "name": "python",
   "nbconvert_exporter": "python",
   "pygments_lexer": "ipython3",
   "version": "3.8.8"
  }
 },
 "nbformat": 4,
 "nbformat_minor": 5
}
