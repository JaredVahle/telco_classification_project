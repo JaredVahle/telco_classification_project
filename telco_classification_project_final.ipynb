{
 "cells": [
  {
   "cell_type": "markdown",
   "id": "7fca23c4",
   "metadata": {},
   "source": [
    "# Telco Classification Project"
   ]
  },
  {
   "cell_type": "markdown",
   "id": "d161e50a",
   "metadata": {},
   "source": [
    "![](telco_churn_pic.png)"
   ]
  },
  {
   "cell_type": "code",
   "execution_count": 1,
   "id": "42ad4b63",
   "metadata": {},
   "outputs": [],
   "source": [
    "from scipy import stats\n",
    "\n",
    "import matplotlib.pyplot as plt\n",
    "\n",
    "import numpy as np\n",
    "\n",
    "import pandas as pd\n",
    "\n",
    "import seaborn as sns\n",
    "\n",
    "from pydataset import data\n",
    "\n",
    "from sklearn.model_selection import train_test_split\n",
    "from sklearn.tree import DecisionTreeClassifier\n",
    "from sklearn.tree import export_graphviz\n",
    "from sklearn.metrics import classification_report\n",
    "from sklearn.metrics import confusion_matrix\n",
    "from sklearn.dummy import DummyClassifier\n",
    "from sklearn.ensemble import RandomForestClassifier\n",
    "from sklearn.neighbors import KNeighborsClassifier\n",
    "from sklearn.linear_model import LogisticRegression\n",
    "\n",
    "import os\n",
    "\n",
    "import graphviz\n",
    "from graphviz import Graph\n",
    "\n",
    "import env\n",
    "from acquire_telco import get_telco_data, summarize_telco\n",
    "from prepare_telco import clean_telco, remove_unwanted_values, train_validate_test_split, num_distributions\n",
    "from helper import splitting_target_var, get_final_report, pred_proba, make_predictions\n",
    "from telco_model import baseline_acc, rand_forest, knneighbors, tree_model\n",
    "from model_report import model_report\n",
    "import explore\n",
    "\n",
    "import warnings\n",
    "warnings.filterwarnings(\"ignore\")"
   ]
  },
  {
   "cell_type": "markdown",
   "id": "3cdc32e9",
   "metadata": {},
   "source": [
    "## Planning"
   ]
  },
  {
   "cell_type": "markdown",
   "id": "d8f86a58",
   "metadata": {},
   "source": [
    "- Make a README.md that will hold all of the project details including a data dictionary, key finding, initial hypotheses, and explain how my process can be replicated\n",
    "- Create a MVP, originally and work through the iterative process of making improvements to that MVP.\n",
    "- Define atleast 2 clear sets of null and alternative hypotheses set an alpha value.\n",
    "- Create two .py scripts for both acquire and prepare, in order to automate the collection and cleaning of the data.\n",
    "- Create a helper.py for any other functions I need implamented thoughout the pipeline.\n",
    "- Properly anotate my code as I run though the process, in order for the code to be easily understood, and document any decisions that were made when cleaning, creating new columns, or removing rows of data."
   ]
  },
  {
   "cell_type": "markdown",
   "id": "19813d56",
   "metadata": {},
   "source": [
    "### Data Science Pipeline\n",
    "##### Acquire\n",
    "- Create an acquire.py (acquire_telco.py) was the name of my py file.\n",
    "- Use that acquire_telco.py file to grab the data from the CodeUp SQL database and cache that file to a csv for ease of accessability.\n",
    "- Render the csv into a pandas dataframe on python.\n",
    "- Summarize the initial data and plot the distributions of individual variables.\n",
    "##### Prepare\n",
    "- Create a prepare.py (prepare_telco.py) was the name of my py file.\n",
    "- Clean the data as I see fit, handling the missing values and encoding values as necessary in order to give numeric values that will work with the models\n",
    "- There were 11 values with no current tenure, and I made the decision to remove those values. These customers have not payed their first bill, so there is no data on weather they are satisfied with the product.\n",
    "- Add new columns that might be useful in modeling, might need more information from the explore for incite into columns that once combined will drive churn.\n",
    "- I added two new columns (auto_pay - if payment type was automatic.),and (add_ons - A column that sums the six aditional services.)\n",
    "##### Explore\n",
    "- Awnser my initial hypotheses that was asked in my planning phase, and test those hypotheses using statistical tests, either accepting or rejecting the null hypothesis.\n",
    "- Continue using statistical testing and visualizations to discover variable relationships in the data, and attempt to understand \"how the data works\".\n",
    "- Summarize my conclusions giving clear awnsers to the questions I posed in the planning stage and summarize any takeaways that might be useful.\n",
    "##### Modeling and Evaluation\n",
    "- Train and evaluate multiple models comparing those models on different evaluation metrics.\n",
    "- Validate the models and choose the best model that was found in the validation phase.\n",
    "- Test the best model found and summarize the performance and document the results using a confusion matrix, predict methods, and classification reports.\n",
    "- Save the test predictions to a .csv file.\n",
    "##### Delivery\n",
    "- Deliver my refined jupyter notebook to the CodeUp data science team.\n",
    "- Summarize my findings, and build a narrative around the data, pulling from my knowledge on story telling.\n",
    "- Walk though the notebook explaining finding, documentation, and decisions that were made.\n",
    "- End with key takeaways and reccomendations."
   ]
  },
  {
   "cell_type": "markdown",
   "id": "ba267e04",
   "metadata": {},
   "source": [
    "### Modules"
   ]
  },
  {
   "cell_type": "markdown",
   "id": "a4f71491",
   "metadata": {},
   "source": [
    "- acquire_telco.py Gathers the data from the SQL database and puts it into a pandas dataframe.\n",
    "- prepare_telco.py Prepares my data for use.\n",
    "- helper.py Contains oddball functions that are helpful in getting to deliverables.\n",
    "- telco_model.py contains my different models, and contains the best metrics I found, but can be changed.\n",
    "- model_report.py contains functions that allow me to create comprehensive model reports on the data.\n",
    "- explore.py contains functions that assisted me in doing statistical analysis and visualization."
   ]
  },
  {
   "cell_type": "markdown",
   "id": "885e27c1",
   "metadata": {},
   "source": [
    "### Hypotheses"
   ]
  },
  {
   "cell_type": "markdown",
   "id": "697d608d",
   "metadata": {},
   "source": [
    "$H_O$ - \n",
    "$H_A$ - "
   ]
  },
  {
   "cell_type": "markdown",
   "id": "81aebaeb",
   "metadata": {},
   "source": [
    "$H_O$ - Streaming television has no affect on the rates of churn\n",
    "$H_A$ - Streaming television has an affect on the rates of churn"
   ]
  },
  {
   "cell_type": "markdown",
   "id": "f9866539",
   "metadata": {},
   "source": [
    "### EXECUTIVE SUMMARY"
   ]
  },
  {
   "cell_type": "markdown",
   "id": "41ad259c",
   "metadata": {},
   "source": [
    "- \n",
    "- \n",
    "- "
   ]
  },
  {
   "cell_type": "markdown",
   "id": "1e1fb612",
   "metadata": {},
   "source": [
    "### Data Dictionary"
   ]
  },
  {
   "cell_type": "markdown",
   "id": "a1d2538b",
   "metadata": {},
   "source": [
    "|Target|Datatype|Definition|\n",
    "|:-------|:--------|:----------|\n",
    "|churn|dtype('O')|Yes or no, if the customer churned|\n",
    "\n",
    "|Feature|Datatype|Definition|\n",
    "|:-------|:--------|:----------|\n",
    "|customer_id| dtype('O')|Identification number for customer|\n",
    "|gender| dtype('O')|Customer gender, male or female|\n",
    "|senior_citizen| dtype('int64')|Yes or no, is the customer a senior citizen|\n",
    "|partner| dtype('O')|Yes or no, does the customer customer has a parter|\n",
    "|dependents| dtype('O')|Number of dependents a customer has|\n",
    "|tenure| dtype('int64')|Number of months a customer has been with the company|\n",
    "|phone_service| dtype('O')|Type of phone service plan a customer has|\n",
    "|multiple_lines| dtype('O')|Yes or no, does the customer have multiple lines|\n",
    "|internet_service_type_id| dtype('int64')|1 for DSL, 2 for Fiber Optic, 3 for None|\n",
    "|online_security| dtype('O')|Yes, no, or no internet service|\n",
    "|online_backup | dtype('O')|Yes, no, or no internet service|\n",
    "|device_protection| dtype('O')|Yes, no, or no internet service|\n",
    "|tech_support| dtype('O')|Yes, no, or no internet service|\n",
    "|streaming_tv| dtype('O')|Yes, no, or no internet service|\n",
    "|streaming_movies| dtype('O')|Yes, no, or no internet service|\n",
    "|contract_type_id| dtype('int64')|1 for month-to-month, 2 for year, and 3 for two-year contract|\n",
    "|paperless_billing| dtype('O')| Yes or no, whether or not the customer uses paperless billing|\n",
    "|payment_type_id | dtype('int64')|1 for electronic check, 2 for mailed check, 3 for automatic bank transfer, 4 for automatic credit card payment|\n",
    "|monthly_charges| dtype('float64')|Monthly charges the customer pays|\n",
    "|total_charges| dtype('O')|Total charges the customer has paid|\n",
    "|contract_type| dtype('O')|Month-to-month, year, or two-year contract|\n",
    "|internet_service_type| dtype('O')|DSL, Fiber Optic, or None|\n",
    "|payment_type| dtype('O')|Electronic check, mailed check, automatic bank transfer, or automatic credit card payment|"
   ]
  },
  {
   "cell_type": "markdown",
   "id": "6d3ac6d8",
   "metadata": {},
   "source": [
    "## Acquire"
   ]
  },
  {
   "cell_type": "code",
   "execution_count": 2,
   "id": "c8afd242",
   "metadata": {},
   "outputs": [],
   "source": [
    "# Read the telco data into a pandas dataframe\n",
    "df = get_telco_data()"
   ]
  },
  {
   "cell_type": "code",
   "execution_count": 3,
   "id": "7c0929f2",
   "metadata": {
    "scrolled": false
   },
   "outputs": [
    {
     "name": "stdout",
     "output_type": "stream",
     "text": [
      "The Telco dataframe has a total of 28 columns and 7043 rows.\n",
      "___________________________________________________________\n",
      "<class 'pandas.core.frame.DataFrame'>\n",
      "RangeIndex: 7043 entries, 0 to 7042\n",
      "Data columns (total 28 columns):\n",
      " #   Column                      Non-Null Count  Dtype  \n",
      "---  ------                      --------------  -----  \n",
      " 0   Unnamed: 0                  7043 non-null   int64  \n",
      " 1   customer_id                 7043 non-null   object \n",
      " 2   gender                      7043 non-null   object \n",
      " 3   senior_citizen              7043 non-null   int64  \n",
      " 4   partner                     7043 non-null   object \n",
      " 5   dependents                  7043 non-null   object \n",
      " 6   tenure                      7043 non-null   int64  \n",
      " 7   phone_service               7043 non-null   object \n",
      " 8   multiple_lines              7043 non-null   object \n",
      " 9   internet_service_type_id    7043 non-null   int64  \n",
      " 10  online_security             7043 non-null   object \n",
      " 11  online_backup               7043 non-null   object \n",
      " 12  device_protection           7043 non-null   object \n",
      " 13  tech_support                7043 non-null   object \n",
      " 14  streaming_tv                7043 non-null   object \n",
      " 15  streaming_movies            7043 non-null   object \n",
      " 16  contract_type_id            7043 non-null   int64  \n",
      " 17  paperless_billing           7043 non-null   object \n",
      " 18  payment_type_id             7043 non-null   int64  \n",
      " 19  monthly_charges             7043 non-null   float64\n",
      " 20  total_charges               7043 non-null   object \n",
      " 21  churn                       7043 non-null   object \n",
      " 22  contract_type_id.1          7043 non-null   int64  \n",
      " 23  contract_type               7043 non-null   object \n",
      " 24  internet_service_type_id.1  7043 non-null   int64  \n",
      " 25  internet_service_type       7043 non-null   object \n",
      " 26  payment_type_id.1           7043 non-null   int64  \n",
      " 27  payment_type                7043 non-null   object \n",
      "dtypes: float64(1), int64(9), object(18)\n",
      "memory usage: 1.5+ MB\n",
      "None\n",
      "___________________________________________________________\n",
      "        Unnamed: 0  senior_citizen       tenure  internet_service_type_id  \\\n",
      "count  7043.000000     7043.000000  7043.000000               7043.000000   \n",
      "mean   3521.000000        0.162147    32.371149                  1.872923   \n",
      "std    2033.283305        0.368612    24.559481                  0.737796   \n",
      "min       0.000000        0.000000     0.000000                  1.000000   \n",
      "25%    1760.500000        0.000000     9.000000                  1.000000   \n",
      "50%    3521.000000        0.000000    29.000000                  2.000000   \n",
      "75%    5281.500000        0.000000    55.000000                  2.000000   \n",
      "max    7042.000000        1.000000    72.000000                  3.000000   \n",
      "\n",
      "       contract_type_id  payment_type_id  monthly_charges  contract_type_id.1  \\\n",
      "count       7043.000000      7043.000000      7043.000000         7043.000000   \n",
      "mean           1.690473         2.315633        64.761692            1.690473   \n",
      "std            0.833755         1.148907        30.090047            0.833755   \n",
      "min            1.000000         1.000000        18.250000            1.000000   \n",
      "25%            1.000000         1.000000        35.500000            1.000000   \n",
      "50%            1.000000         2.000000        70.350000            1.000000   \n",
      "75%            2.000000         3.000000        89.850000            2.000000   \n",
      "max            3.000000         4.000000       118.750000            3.000000   \n",
      "\n",
      "       internet_service_type_id.1  payment_type_id.1  \n",
      "count                 7043.000000        7043.000000  \n",
      "mean                     1.872923           2.315633  \n",
      "std                      0.737796           1.148907  \n",
      "min                      1.000000           1.000000  \n",
      "25%                      1.000000           1.000000  \n",
      "50%                      2.000000           2.000000  \n",
      "75%                      2.000000           3.000000  \n",
      "max                      3.000000           4.000000  \n"
     ]
    }
   ],
   "source": [
    "# Summarize the dataframe\n",
    "summarize_telco(df)"
   ]
  },
  {
   "cell_type": "code",
   "execution_count": 4,
   "id": "d6301a1a",
   "metadata": {
    "scrolled": false
   },
   "outputs": [
    {
     "data": {
      "image/png": "[encoded data removed]",
      "text/plain": [
       "<Figure size 432x288 with 1 Axes>"
      ]
     },
     "metadata": {
      "needs_background": "light"
     },
     "output_type": "display_data"
    },
    {
     "data": {
      "image/png": "[encoded data removed]",
      "text/plain": [
       "<Figure size 432x288 with 1 Axes>"
      ]
     },
     "metadata": {
      "needs_background": "light"
     },
     "output_type": "display_data"
    },
    {
     "data": {
      "image/png": "[encoded data removed]",
      "text/plain": [
       "<Figure size 432x288 with 1 Axes>"
      ]
     },
     "metadata": {
      "needs_background": "light"
     },
     "output_type": "display_data"
    },
    {
     "data": {
      "image/png": "[encoded data removed]",
      "text/plain": [
       "<Figure size 432x288 with 1 Axes>"
      ]
     },
     "metadata": {
      "needs_background": "light"
     },
     "output_type": "display_data"
    },
    {
     "data": {
      "image/png": "[encoded data removed]",
      "text/plain": [
       "<Figure size 432x288 with 1 Axes>"
      ]
     },
     "metadata": {
      "needs_background": "light"
     },
     "output_type": "display_data"
    },
    {
     "data": {
      "image/png": "[encoded data removed]",
      "text/plain": [
       "<Figure size 432x288 with 1 Axes>"
      ]
     },
     "metadata": {
      "needs_background": "light"
     },
     "output_type": "display_data"
    },
    {
     "data": {
      "image/png": "[encoded data removed]",
      "text/plain": [
       "<Figure size 432x288 with 1 Axes>"
      ]
     },
     "metadata": {
      "needs_background": "light"
     },
     "output_type": "display_data"
    },
    {
     "data": {
      "image/png": "[encoded data removed]",
      "text/plain": [
       "<Figure size 432x288 with 1 Axes>"
      ]
     },
     "metadata": {
      "needs_background": "light"
     },
     "output_type": "display_data"
    },
    {
     "data": {
      "image/png": "[encoded data removed]",
      "text/plain": [
       "<Figure size 432x288 with 1 Axes>"
      ]
     },
     "metadata": {
      "needs_background": "light"
     },
     "output_type": "display_data"
    },
    {
     "data": {
      "image/png": "[encoded data removed]",
      "text/plain": [
       "<Figure size 432x288 with 1 Axes>"
      ]
     },
     "metadata": {
      "needs_background": "light"
     },
     "output_type": "display_data"
    }
   ],
   "source": [
    "num_distributions(df)"
   ]
  },
  {
   "cell_type": "markdown",
   "id": "6437fd0c",
   "metadata": {},
   "source": [
    "### Acquire Takeaways\n",
    "- I made the get_telco_data function that uses a SQL query to acquire my data from the Codeup database.\n",
    "- Im bringing in 7043 rows and 28 columns after I joined the SQL tables together.\n",
    "- The data has several types and will need alot of cleaning to get only numeric values."
   ]
  },
  {
   "cell_type": "markdown",
   "id": "d54a1f2f",
   "metadata": {},
   "source": [
    "## Prepare"
   ]
  },
  {
   "cell_type": "markdown",
   "id": "10fe6f24",
   "metadata": {},
   "source": [
    "I took the df and created numeric representations for the different values, I also added two columns (add_ons)\n",
    "which takes a sum of the columns online_security, online_backup, device_protection, tech_support, streaming_tv,\n",
    "and streaming_movies. I decided these were all additional services that customers opted into, and might be a driver of churn. My other column I added was (auto_pay) that took in the payment_type column and searched for the word \"auto\", and returns a boolean value."
   ]
  },
  {
   "cell_type": "code",
   "execution_count": 5,
   "id": "bce3a550",
   "metadata": {},
   "outputs": [],
   "source": [
    "df = clean_telco(df)"
   ]
  },
  {
   "cell_type": "code",
   "execution_count": 6,
   "id": "b203bab2",
   "metadata": {},
   "outputs": [
    {
     "data": {
      "text/html": [
       "<div>\n",
       "<style scoped>\n",
       "    .dataframe tbody tr th:only-of-type {\n",
       "        vertical-align: middle;\n",
       "    }\n",
       "\n",
       "    .dataframe tbody tr th {\n",
       "        vertical-align: top;\n",
       "    }\n",
       "\n",
       "    .dataframe thead th {\n",
       "        text-align: right;\n",
       "    }\n",
       "</style>\n",
       "<table border=\"1\" class=\"dataframe\">\n",
       "  <thead>\n",
       "    <tr style=\"text-align: right;\">\n",
       "      <th></th>\n",
       "      <th>senior_citizen</th>\n",
       "      <th>partner</th>\n",
       "      <th>dependents</th>\n",
       "      <th>tenure</th>\n",
       "      <th>phone_service</th>\n",
       "      <th>multiple_lines</th>\n",
       "      <th>online_security</th>\n",
       "      <th>online_backup</th>\n",
       "      <th>device_protection</th>\n",
       "      <th>tech_support</th>\n",
       "      <th>...</th>\n",
       "      <th>payment_type_bank_transfer_(automatic)</th>\n",
       "      <th>payment_type_credit_card_(automatic)</th>\n",
       "      <th>payment_type_electronic_check</th>\n",
       "      <th>payment_type_mailed_check</th>\n",
       "      <th>internet_service_type_dsl</th>\n",
       "      <th>internet_service_type_fiber_optic</th>\n",
       "      <th>internet_service_type_none</th>\n",
       "      <th>contract_type_month-to-month</th>\n",
       "      <th>contract_type_one_year</th>\n",
       "      <th>contract_type_two_year</th>\n",
       "    </tr>\n",
       "  </thead>\n",
       "  <tbody>\n",
       "    <tr>\n",
       "      <th>0</th>\n",
       "      <td>0</td>\n",
       "      <td>1</td>\n",
       "      <td>1</td>\n",
       "      <td>65</td>\n",
       "      <td>1</td>\n",
       "      <td>1</td>\n",
       "      <td>1</td>\n",
       "      <td>1</td>\n",
       "      <td>1</td>\n",
       "      <td>1</td>\n",
       "      <td>...</td>\n",
       "      <td>0</td>\n",
       "      <td>0</td>\n",
       "      <td>0</td>\n",
       "      <td>1</td>\n",
       "      <td>1</td>\n",
       "      <td>0</td>\n",
       "      <td>0</td>\n",
       "      <td>0</td>\n",
       "      <td>0</td>\n",
       "      <td>1</td>\n",
       "    </tr>\n",
       "    <tr>\n",
       "      <th>1</th>\n",
       "      <td>0</td>\n",
       "      <td>0</td>\n",
       "      <td>0</td>\n",
       "      <td>54</td>\n",
       "      <td>0</td>\n",
       "      <td>0</td>\n",
       "      <td>1</td>\n",
       "      <td>0</td>\n",
       "      <td>0</td>\n",
       "      <td>1</td>\n",
       "      <td>...</td>\n",
       "      <td>0</td>\n",
       "      <td>1</td>\n",
       "      <td>0</td>\n",
       "      <td>0</td>\n",
       "      <td>1</td>\n",
       "      <td>0</td>\n",
       "      <td>0</td>\n",
       "      <td>0</td>\n",
       "      <td>0</td>\n",
       "      <td>1</td>\n",
       "    </tr>\n",
       "    <tr>\n",
       "      <th>2</th>\n",
       "      <td>0</td>\n",
       "      <td>0</td>\n",
       "      <td>0</td>\n",
       "      <td>56</td>\n",
       "      <td>0</td>\n",
       "      <td>0</td>\n",
       "      <td>1</td>\n",
       "      <td>1</td>\n",
       "      <td>1</td>\n",
       "      <td>1</td>\n",
       "      <td>...</td>\n",
       "      <td>1</td>\n",
       "      <td>0</td>\n",
       "      <td>0</td>\n",
       "      <td>0</td>\n",
       "      <td>1</td>\n",
       "      <td>0</td>\n",
       "      <td>0</td>\n",
       "      <td>0</td>\n",
       "      <td>0</td>\n",
       "      <td>1</td>\n",
       "    </tr>\n",
       "  </tbody>\n",
       "</table>\n",
       "<p>3 rows × 30 columns</p>\n",
       "</div>"
      ],
      "text/plain": [
       "   senior_citizen  partner  dependents  tenure  phone_service  multiple_lines  \\\n",
       "0               0        1           1      65              1               1   \n",
       "1               0        0           0      54              0               0   \n",
       "2               0        0           0      56              0               0   \n",
       "\n",
       "   online_security  online_backup  device_protection  tech_support  ...  \\\n",
       "0                1              1                  1             1  ...   \n",
       "1                1              0                  0             1  ...   \n",
       "2                1              1                  1             1  ...   \n",
       "\n",
       "   payment_type_bank_transfer_(automatic)  \\\n",
       "0                                       0   \n",
       "1                                       0   \n",
       "2                                       1   \n",
       "\n",
       "   payment_type_credit_card_(automatic)  payment_type_electronic_check  \\\n",
       "0                                     0                              0   \n",
       "1                                     1                              0   \n",
       "2                                     0                              0   \n",
       "\n",
       "   payment_type_mailed_check  internet_service_type_dsl  \\\n",
       "0                          1                          1   \n",
       "1                          0                          1   \n",
       "2                          0                          1   \n",
       "\n",
       "   internet_service_type_fiber_optic  internet_service_type_none  \\\n",
       "0                                  0                           0   \n",
       "1                                  0                           0   \n",
       "2                                  0                           0   \n",
       "\n",
       "   contract_type_month-to-month  contract_type_one_year  \\\n",
       "0                             0                       0   \n",
       "1                             0                       0   \n",
       "2                             0                       0   \n",
       "\n",
       "   contract_type_two_year  \n",
       "0                       1  \n",
       "1                       1  \n",
       "2                       1  \n",
       "\n",
       "[3 rows x 30 columns]"
      ]
     },
     "execution_count": 6,
     "metadata": {},
     "output_type": "execute_result"
    }
   ],
   "source": [
    "df.head(3)"
   ]
  },
  {
   "cell_type": "markdown",
   "id": "b256cb22",
   "metadata": {},
   "source": [
    "My decision to remove the customers with no tenure was that they were not good representations of our overall dataset having been with Telco for under 1 month.\n",
    "\n",
    "These customers were a small percentage of the overall dataframe making up ~.15% of the overall data"
   ]
  },
  {
   "cell_type": "code",
   "execution_count": 7,
   "id": "12f25a53",
   "metadata": {},
   "outputs": [],
   "source": [
    "# Takes those with no tenure and removes the customers data from the df.\n",
    "remove_unwanted_values(df)"
   ]
  },
  {
   "cell_type": "code",
   "execution_count": 8,
   "id": "2566a29c",
   "metadata": {},
   "outputs": [
    {
     "data": {
      "text/plain": [
       "Index(['senior_citizen', 'partner', 'dependents', 'tenure', 'phone_service',\n",
       "       'multiple_lines', 'online_security', 'online_backup',\n",
       "       'device_protection', 'tech_support', 'streaming_tv', 'streaming_movies',\n",
       "       'paperless_billing', 'monthly_charges', 'total_charges', 'churn',\n",
       "       'auto_pay', 'add_ons', 'gender_female', 'gender_male',\n",
       "       'payment_type_bank_transfer_(automatic)',\n",
       "       'payment_type_credit_card_(automatic)', 'payment_type_electronic_check',\n",
       "       'payment_type_mailed_check', 'internet_service_type_dsl',\n",
       "       'internet_service_type_fiber_optic', 'internet_service_type_none',\n",
       "       'contract_type_month-to-month', 'contract_type_one_year',\n",
       "       'contract_type_two_year'],\n",
       "      dtype='object')"
      ]
     },
     "execution_count": 8,
     "metadata": {},
     "output_type": "execute_result"
    }
   ],
   "source": [
    "df.columns"
   ]
  },
  {
   "cell_type": "code",
   "execution_count": 9,
   "id": "0900fc60",
   "metadata": {},
   "outputs": [],
   "source": [
    "# split the data into 3 groups, while stratifying for our target variable (churn)\n",
    "train,validate,test = train_validate_test_split(df,target = \"churn\", seed = 174)"
   ]
  },
  {
   "cell_type": "code",
   "execution_count": 10,
   "id": "5f4ae0cd",
   "metadata": {},
   "outputs": [
    {
     "name": "stdout",
     "output_type": "stream",
     "text": [
      "Train (3937, 30), Validate (1688, 30),Test (1407, 30)\n"
     ]
    }
   ],
   "source": [
    "print(f\"Train {train.shape}, Validate {validate.shape},Test {test.shape}\")"
   ]
  },
  {
   "cell_type": "markdown",
   "id": "6a5f506f",
   "metadata": {},
   "source": [
    "## Explore"
   ]
  },
  {
   "cell_type": "code",
   "execution_count": 11,
   "id": "2ac67249",
   "metadata": {},
   "outputs": [],
   "source": [
    "additionals = ['online_security', 'online_backup','device_protection', 'tech_support', 'streaming_tv', 'streaming_movies']\n",
    "cat_vars = [\"auto_pay\",\"partner\",\"add_ons\",\"tech_support\",\"online_security\",\"senior_citizen\",\"payment_type_electronic_check\",\"internet_service_type_fiber_optic\",\"streaming_tv\",\"streaming_movies\"]\n",
    "quant_vars = [\"monthly_charges\",\"total_charges\"]"
   ]
  },
  {
   "cell_type": "markdown",
   "id": "0c9b8a38",
   "metadata": {},
   "source": [
    "It seems that those that have streaming services seem to churn more then what is normally seen, which might be indicating a lackluster set of streaming options or customer dissatisfaction with these services."
   ]
  },
  {
   "cell_type": "code",
   "execution_count": 12,
   "id": "ea2e5ac0",
   "metadata": {},
   "outputs": [
    {
     "name": "stdout",
     "output_type": "stream",
     "text": [
      "streaming_tv \n",
      "_____________________\n",
      "\n"
     ]
    },
    {
     "ename": "TypeError",
     "evalue": "'module' object is not callable",
     "output_type": "error",
     "traceback": [
      "\u001b[0;31m---------------------------------------------------------------------------\u001b[0m",
      "\u001b[0;31mTypeError\u001b[0m                                 Traceback (most recent call last)",
      "\u001b[0;32m<ipython-input-12-c817257168f2>\u001b[0m in \u001b[0;36m<module>\u001b[0;34m\u001b[0m\n\u001b[0;32m----> 1\u001b[0;31m \u001b[0mexplore\u001b[0m\u001b[0;34m.\u001b[0m\u001b[0mexplore_bivariate_categorical\u001b[0m\u001b[0;34m(\u001b[0m\u001b[0mtrain\u001b[0m\u001b[0;34m,\u001b[0m\u001b[0mtarget\u001b[0m \u001b[0;34m=\u001b[0m \u001b[0;34m\"churn\"\u001b[0m\u001b[0;34m,\u001b[0m\u001b[0mcat_var\u001b[0m \u001b[0;34m=\u001b[0m \u001b[0;34m'streaming_tv'\u001b[0m\u001b[0;34m)\u001b[0m\u001b[0;34m\u001b[0m\u001b[0;34m\u001b[0m\u001b[0m\n\u001b[0m",
      "\u001b[0;32m~/CodeUp-Datascience/telco_classification_project/explore.py\u001b[0m in \u001b[0;36mexplore_bivariate_categorical\u001b[0;34m(train, target, cat_var)\u001b[0m\n\u001b[1;32m     95\u001b[0m     \u001b[0mct\u001b[0m \u001b[0;34m=\u001b[0m \u001b[0mpd\u001b[0m\u001b[0;34m.\u001b[0m\u001b[0mcrosstab\u001b[0m\u001b[0;34m(\u001b[0m\u001b[0mtrain\u001b[0m\u001b[0;34m[\u001b[0m\u001b[0mcat_var\u001b[0m\u001b[0;34m]\u001b[0m\u001b[0;34m,\u001b[0m \u001b[0mtrain\u001b[0m\u001b[0;34m[\u001b[0m\u001b[0mtarget\u001b[0m\u001b[0;34m]\u001b[0m\u001b[0;34m,\u001b[0m \u001b[0mmargins\u001b[0m\u001b[0;34m=\u001b[0m\u001b[0;32mTrue\u001b[0m\u001b[0;34m)\u001b[0m\u001b[0;34m\u001b[0m\u001b[0;34m\u001b[0m\u001b[0m\n\u001b[1;32m     96\u001b[0m     \u001b[0mchi2_summary\u001b[0m\u001b[0;34m,\u001b[0m \u001b[0mobserved\u001b[0m\u001b[0;34m,\u001b[0m \u001b[0mexpected\u001b[0m \u001b[0;34m=\u001b[0m \u001b[0mrun_chi2\u001b[0m\u001b[0;34m(\u001b[0m\u001b[0mtrain\u001b[0m\u001b[0;34m,\u001b[0m \u001b[0mcat_var\u001b[0m\u001b[0;34m,\u001b[0m \u001b[0mtarget\u001b[0m\u001b[0;34m)\u001b[0m\u001b[0;34m\u001b[0m\u001b[0;34m\u001b[0m\u001b[0m\n\u001b[0;32m---> 97\u001b[0;31m     \u001b[0mp\u001b[0m \u001b[0;34m=\u001b[0m \u001b[0mplot_cat_by_target\u001b[0m\u001b[0;34m(\u001b[0m\u001b[0mtrain\u001b[0m\u001b[0;34m,\u001b[0m \u001b[0mtarget\u001b[0m\u001b[0;34m,\u001b[0m \u001b[0mcat_var\u001b[0m\u001b[0;34m)\u001b[0m\u001b[0;34m\u001b[0m\u001b[0;34m\u001b[0m\u001b[0m\n\u001b[0m\u001b[1;32m     98\u001b[0m \u001b[0;34m\u001b[0m\u001b[0m\n\u001b[1;32m     99\u001b[0m     \u001b[0mprint\u001b[0m\u001b[0;34m(\u001b[0m\u001b[0mchi2_summary\u001b[0m\u001b[0;34m)\u001b[0m\u001b[0;34m\u001b[0m\u001b[0;34m\u001b[0m\u001b[0m\n",
      "\u001b[0;32m~/CodeUp-Datascience/telco_classification_project/explore.py\u001b[0m in \u001b[0;36mplot_cat_by_target\u001b[0;34m(train, target, cat_var)\u001b[0m\n\u001b[1;32m    133\u001b[0m \u001b[0;34m\u001b[0m\u001b[0m\n\u001b[1;32m    134\u001b[0m \u001b[0;32mdef\u001b[0m \u001b[0mplot_cat_by_target\u001b[0m\u001b[0;34m(\u001b[0m\u001b[0mtrain\u001b[0m\u001b[0;34m,\u001b[0m \u001b[0mtarget\u001b[0m\u001b[0;34m,\u001b[0m \u001b[0mcat_var\u001b[0m\u001b[0;34m)\u001b[0m\u001b[0;34m:\u001b[0m\u001b[0;34m\u001b[0m\u001b[0;34m\u001b[0m\u001b[0m\n\u001b[0;32m--> 135\u001b[0;31m     \u001b[0mp\u001b[0m \u001b[0;34m=\u001b[0m \u001b[0mplt\u001b[0m\u001b[0;34m.\u001b[0m\u001b[0mfigure\u001b[0m\u001b[0;34m(\u001b[0m\u001b[0mfigsize\u001b[0m\u001b[0;34m=\u001b[0m\u001b[0;34m(\u001b[0m\u001b[0;36m2\u001b[0m\u001b[0;34m,\u001b[0m\u001b[0;36m2\u001b[0m\u001b[0;34m)\u001b[0m\u001b[0;34m)\u001b[0m\u001b[0;34m\u001b[0m\u001b[0;34m\u001b[0m\u001b[0m\n\u001b[0m\u001b[1;32m    136\u001b[0m     \u001b[0mp\u001b[0m \u001b[0;34m=\u001b[0m \u001b[0msns\u001b[0m\u001b[0;34m.\u001b[0m\u001b[0mbarplot\u001b[0m\u001b[0;34m(\u001b[0m\u001b[0mcat_var\u001b[0m\u001b[0;34m,\u001b[0m \u001b[0mtarget\u001b[0m\u001b[0;34m,\u001b[0m \u001b[0mdata\u001b[0m\u001b[0;34m=\u001b[0m\u001b[0mtrain\u001b[0m\u001b[0;34m,\u001b[0m \u001b[0malpha\u001b[0m\u001b[0;34m=\u001b[0m\u001b[0;36m.8\u001b[0m\u001b[0;34m,\u001b[0m \u001b[0mcolor\u001b[0m\u001b[0;34m=\u001b[0m\u001b[0;34m'lightseagreen'\u001b[0m\u001b[0;34m)\u001b[0m\u001b[0;34m\u001b[0m\u001b[0;34m\u001b[0m\u001b[0m\n\u001b[1;32m    137\u001b[0m     \u001b[0moverall_rate\u001b[0m \u001b[0;34m=\u001b[0m \u001b[0mtrain\u001b[0m\u001b[0;34m[\u001b[0m\u001b[0mtarget\u001b[0m\u001b[0;34m]\u001b[0m\u001b[0;34m.\u001b[0m\u001b[0mmean\u001b[0m\u001b[0;34m(\u001b[0m\u001b[0;34m)\u001b[0m\u001b[0;34m\u001b[0m\u001b[0;34m\u001b[0m\u001b[0m\n",
      "\u001b[0;31mTypeError\u001b[0m: 'module' object is not callable"
     ]
    }
   ],
   "source": [
    "explore.explore_bivariate_categorical(train,target = \"churn\",cat_var = 'streaming_tv')"
   ]
  },
  {
   "cell_type": "code",
   "execution_count": 13,
   "id": "25ca072a",
   "metadata": {},
   "outputs": [
    {
     "name": "stdout",
     "output_type": "stream",
     "text": [
      "streaming_movies \n",
      "_____________________\n",
      "\n"
     ]
    },
    {
     "ename": "TypeError",
     "evalue": "'module' object is not callable",
     "output_type": "error",
     "traceback": [
      "\u001b[0;31m---------------------------------------------------------------------------\u001b[0m",
      "\u001b[0;31mTypeError\u001b[0m                                 Traceback (most recent call last)",
      "\u001b[0;32m<ipython-input-13-90648058e7b8>\u001b[0m in \u001b[0;36m<module>\u001b[0;34m\u001b[0m\n\u001b[0;32m----> 1\u001b[0;31m \u001b[0mexplore\u001b[0m\u001b[0;34m.\u001b[0m\u001b[0mexplore_bivariate_categorical\u001b[0m\u001b[0;34m(\u001b[0m\u001b[0mtrain\u001b[0m\u001b[0;34m,\u001b[0m\u001b[0mtarget\u001b[0m \u001b[0;34m=\u001b[0m \u001b[0;34m\"churn\"\u001b[0m\u001b[0;34m,\u001b[0m\u001b[0mcat_var\u001b[0m \u001b[0;34m=\u001b[0m \u001b[0;34m'streaming_movies'\u001b[0m\u001b[0;34m)\u001b[0m\u001b[0;34m\u001b[0m\u001b[0;34m\u001b[0m\u001b[0m\n\u001b[0m",
      "\u001b[0;32m~/CodeUp-Datascience/telco_classification_project/explore.py\u001b[0m in \u001b[0;36mexplore_bivariate_categorical\u001b[0;34m(train, target, cat_var)\u001b[0m\n\u001b[1;32m     95\u001b[0m     \u001b[0mct\u001b[0m \u001b[0;34m=\u001b[0m \u001b[0mpd\u001b[0m\u001b[0;34m.\u001b[0m\u001b[0mcrosstab\u001b[0m\u001b[0;34m(\u001b[0m\u001b[0mtrain\u001b[0m\u001b[0;34m[\u001b[0m\u001b[0mcat_var\u001b[0m\u001b[0;34m]\u001b[0m\u001b[0;34m,\u001b[0m \u001b[0mtrain\u001b[0m\u001b[0;34m[\u001b[0m\u001b[0mtarget\u001b[0m\u001b[0;34m]\u001b[0m\u001b[0;34m,\u001b[0m \u001b[0mmargins\u001b[0m\u001b[0;34m=\u001b[0m\u001b[0;32mTrue\u001b[0m\u001b[0;34m)\u001b[0m\u001b[0;34m\u001b[0m\u001b[0;34m\u001b[0m\u001b[0m\n\u001b[1;32m     96\u001b[0m     \u001b[0mchi2_summary\u001b[0m\u001b[0;34m,\u001b[0m \u001b[0mobserved\u001b[0m\u001b[0;34m,\u001b[0m \u001b[0mexpected\u001b[0m \u001b[0;34m=\u001b[0m \u001b[0mrun_chi2\u001b[0m\u001b[0;34m(\u001b[0m\u001b[0mtrain\u001b[0m\u001b[0;34m,\u001b[0m \u001b[0mcat_var\u001b[0m\u001b[0;34m,\u001b[0m \u001b[0mtarget\u001b[0m\u001b[0;34m)\u001b[0m\u001b[0;34m\u001b[0m\u001b[0;34m\u001b[0m\u001b[0m\n\u001b[0;32m---> 97\u001b[0;31m     \u001b[0mp\u001b[0m \u001b[0;34m=\u001b[0m \u001b[0mplot_cat_by_target\u001b[0m\u001b[0;34m(\u001b[0m\u001b[0mtrain\u001b[0m\u001b[0;34m,\u001b[0m \u001b[0mtarget\u001b[0m\u001b[0;34m,\u001b[0m \u001b[0mcat_var\u001b[0m\u001b[0;34m)\u001b[0m\u001b[0;34m\u001b[0m\u001b[0;34m\u001b[0m\u001b[0m\n\u001b[0m\u001b[1;32m     98\u001b[0m \u001b[0;34m\u001b[0m\u001b[0m\n\u001b[1;32m     99\u001b[0m     \u001b[0mprint\u001b[0m\u001b[0;34m(\u001b[0m\u001b[0mchi2_summary\u001b[0m\u001b[0;34m)\u001b[0m\u001b[0;34m\u001b[0m\u001b[0;34m\u001b[0m\u001b[0m\n",
      "\u001b[0;32m~/CodeUp-Datascience/telco_classification_project/explore.py\u001b[0m in \u001b[0;36mplot_cat_by_target\u001b[0;34m(train, target, cat_var)\u001b[0m\n\u001b[1;32m    133\u001b[0m \u001b[0;34m\u001b[0m\u001b[0m\n\u001b[1;32m    134\u001b[0m \u001b[0;32mdef\u001b[0m \u001b[0mplot_cat_by_target\u001b[0m\u001b[0;34m(\u001b[0m\u001b[0mtrain\u001b[0m\u001b[0;34m,\u001b[0m \u001b[0mtarget\u001b[0m\u001b[0;34m,\u001b[0m \u001b[0mcat_var\u001b[0m\u001b[0;34m)\u001b[0m\u001b[0;34m:\u001b[0m\u001b[0;34m\u001b[0m\u001b[0;34m\u001b[0m\u001b[0m\n\u001b[0;32m--> 135\u001b[0;31m     \u001b[0mp\u001b[0m \u001b[0;34m=\u001b[0m \u001b[0mplt\u001b[0m\u001b[0;34m.\u001b[0m\u001b[0mfigure\u001b[0m\u001b[0;34m(\u001b[0m\u001b[0mfigsize\u001b[0m\u001b[0;34m=\u001b[0m\u001b[0;34m(\u001b[0m\u001b[0;36m2\u001b[0m\u001b[0;34m,\u001b[0m\u001b[0;36m2\u001b[0m\u001b[0;34m)\u001b[0m\u001b[0;34m)\u001b[0m\u001b[0;34m\u001b[0m\u001b[0;34m\u001b[0m\u001b[0m\n\u001b[0m\u001b[1;32m    136\u001b[0m     \u001b[0mp\u001b[0m \u001b[0;34m=\u001b[0m \u001b[0msns\u001b[0m\u001b[0;34m.\u001b[0m\u001b[0mbarplot\u001b[0m\u001b[0;34m(\u001b[0m\u001b[0mcat_var\u001b[0m\u001b[0;34m,\u001b[0m \u001b[0mtarget\u001b[0m\u001b[0;34m,\u001b[0m \u001b[0mdata\u001b[0m\u001b[0;34m=\u001b[0m\u001b[0mtrain\u001b[0m\u001b[0;34m,\u001b[0m \u001b[0malpha\u001b[0m\u001b[0;34m=\u001b[0m\u001b[0;36m.8\u001b[0m\u001b[0;34m,\u001b[0m \u001b[0mcolor\u001b[0m\u001b[0;34m=\u001b[0m\u001b[0;34m'lightseagreen'\u001b[0m\u001b[0;34m)\u001b[0m\u001b[0;34m\u001b[0m\u001b[0;34m\u001b[0m\u001b[0m\n\u001b[1;32m    137\u001b[0m     \u001b[0moverall_rate\u001b[0m \u001b[0;34m=\u001b[0m \u001b[0mtrain\u001b[0m\u001b[0;34m[\u001b[0m\u001b[0mtarget\u001b[0m\u001b[0;34m]\u001b[0m\u001b[0;34m.\u001b[0m\u001b[0mmean\u001b[0m\u001b[0;34m(\u001b[0m\u001b[0;34m)\u001b[0m\u001b[0;34m\u001b[0m\u001b[0;34m\u001b[0m\u001b[0m\n",
      "\u001b[0;31mTypeError\u001b[0m: 'module' object is not callable"
     ]
    }
   ],
   "source": [
    "explore.explore_bivariate_categorical(train,target = \"churn\",cat_var = 'streaming_movies')"
   ]
  },
  {
   "cell_type": "code",
   "execution_count": 14,
   "id": "6f2c221a",
   "metadata": {},
   "outputs": [
    {
     "ename": "TypeError",
     "evalue": "'module' object is not callable",
     "output_type": "error",
     "traceback": [
      "\u001b[0;31m---------------------------------------------------------------------------\u001b[0m",
      "\u001b[0;31mTypeError\u001b[0m                                 Traceback (most recent call last)",
      "\u001b[0;32m<ipython-input-14-e7756c6c4caf>\u001b[0m in \u001b[0;36m<module>\u001b[0;34m\u001b[0m\n\u001b[0;32m----> 1\u001b[0;31m \u001b[0mexplore\u001b[0m\u001b[0;34m.\u001b[0m\u001b[0mtelco_churn_heatmap\u001b[0m\u001b[0;34m(\u001b[0m\u001b[0mdf\u001b[0m\u001b[0;34m)\u001b[0m\u001b[0;34m\u001b[0m\u001b[0;34m\u001b[0m\u001b[0m\n\u001b[0m",
      "\u001b[0;32m~/CodeUp-Datascience/telco_classification_project/explore.py\u001b[0m in \u001b[0;36mtelco_churn_heatmap\u001b[0;34m(df)\u001b[0m\n\u001b[1;32m    203\u001b[0m \u001b[0;34m\u001b[0m\u001b[0m\n\u001b[1;32m    204\u001b[0m \u001b[0;32mdef\u001b[0m \u001b[0mtelco_churn_heatmap\u001b[0m\u001b[0;34m(\u001b[0m\u001b[0mdf\u001b[0m\u001b[0;34m)\u001b[0m\u001b[0;34m:\u001b[0m\u001b[0;34m\u001b[0m\u001b[0;34m\u001b[0m\u001b[0m\n\u001b[0;32m--> 205\u001b[0;31m     \u001b[0mplt\u001b[0m\u001b[0;34m.\u001b[0m\u001b[0mfigure\u001b[0m\u001b[0;34m(\u001b[0m\u001b[0mfigsize\u001b[0m\u001b[0;34m=\u001b[0m\u001b[0;34m(\u001b[0m\u001b[0;36m8\u001b[0m\u001b[0;34m,\u001b[0m\u001b[0;36m12\u001b[0m\u001b[0;34m)\u001b[0m\u001b[0;34m)\u001b[0m\u001b[0;34m\u001b[0m\u001b[0;34m\u001b[0m\u001b[0m\n\u001b[0m\u001b[1;32m    206\u001b[0m     \u001b[0mchurn_heatmap\u001b[0m \u001b[0;34m=\u001b[0m \u001b[0msns\u001b[0m\u001b[0;34m.\u001b[0m\u001b[0mheatmap\u001b[0m\u001b[0;34m(\u001b[0m\u001b[0mdf\u001b[0m\u001b[0;34m.\u001b[0m\u001b[0mcorr\u001b[0m\u001b[0;34m(\u001b[0m\u001b[0;34m)\u001b[0m\u001b[0;34m[\u001b[0m\u001b[0;34m[\u001b[0m\u001b[0;34m\"churn\"\u001b[0m\u001b[0;34m]\u001b[0m\u001b[0;34m]\u001b[0m\u001b[0;34m.\u001b[0m\u001b[0msort_values\u001b[0m\u001b[0;34m(\u001b[0m\u001b[0mby\u001b[0m \u001b[0;34m=\u001b[0m \u001b[0;34m\"churn\"\u001b[0m\u001b[0;34m,\u001b[0m\u001b[0mascending\u001b[0m \u001b[0;34m=\u001b[0m \u001b[0;32mFalse\u001b[0m\u001b[0;34m)\u001b[0m\u001b[0;34m,\u001b[0m\u001b[0mvmin\u001b[0m \u001b[0;34m=\u001b[0m \u001b[0;34m-\u001b[0m\u001b[0;36m.5\u001b[0m\u001b[0;34m,\u001b[0m\u001b[0mvmax\u001b[0m \u001b[0;34m=\u001b[0m \u001b[0;36m.5\u001b[0m\u001b[0;34m,\u001b[0m \u001b[0mannot\u001b[0m \u001b[0;34m=\u001b[0m \u001b[0;32mTrue\u001b[0m\u001b[0;34m,\u001b[0m \u001b[0mcmap\u001b[0m \u001b[0;34m=\u001b[0m \u001b[0;34m\"flair\"\u001b[0m\u001b[0;34m)\u001b[0m\u001b[0;34m\u001b[0m\u001b[0;34m\u001b[0m\u001b[0m\n\u001b[1;32m    207\u001b[0m     \u001b[0mchurn_heatmap\u001b[0m\u001b[0;34m.\u001b[0m\u001b[0mset_title\u001b[0m\u001b[0;34m(\u001b[0m\u001b[0;34m\"Features Correlation with Churn\"\u001b[0m\u001b[0;34m)\u001b[0m\u001b[0;34m\u001b[0m\u001b[0;34m\u001b[0m\u001b[0m\n",
      "\u001b[0;31mTypeError\u001b[0m: 'module' object is not callable"
     ]
    }
   ],
   "source": [
    "explore.telco_churn_heatmap(df)"
   ]
  },
  {
   "cell_type": "code",
   "execution_count": null,
   "id": "f3be674b",
   "metadata": {},
   "outputs": [],
   "source": [
    "explore.plot_all_continuous_vars(train,target = \"churn\",quant_vars = quant_vars)"
   ]
  },
  {
   "cell_type": "code",
   "execution_count": null,
   "id": "ab734ba5",
   "metadata": {},
   "outputs": [],
   "source": [
    "explore.plot_violin_grid_with_color(train,target = \"churn\", cat_vars = cat_vars,quant_vars = quant_vars)"
   ]
  },
  {
   "cell_type": "code",
   "execution_count": null,
   "id": "6bb457e6",
   "metadata": {},
   "outputs": [],
   "source": []
  },
  {
   "cell_type": "code",
   "execution_count": null,
   "id": "8ad88118",
   "metadata": {},
   "outputs": [],
   "source": []
  },
  {
   "cell_type": "code",
   "execution_count": null,
   "id": "8715c9ef",
   "metadata": {},
   "outputs": [],
   "source": []
  },
  {
   "cell_type": "markdown",
   "id": "eaed4207",
   "metadata": {},
   "source": [
    "## Modeling and evaluation"
   ]
  },
  {
   "cell_type": "markdown",
   "id": "c0d45096",
   "metadata": {},
   "source": [
    "I made a function that removes churn from our train validate and test, saving each as there respecting y value."
   ]
  },
  {
   "cell_type": "code",
   "execution_count": 15,
   "id": "fe9479b4",
   "metadata": {},
   "outputs": [],
   "source": [
    "X_train,y_train,X_validate,y_validate,X_test,y_test  = splitting_target_var(train,validate,test)"
   ]
  },
  {
   "cell_type": "code",
   "execution_count": 16,
   "id": "4a990ddd",
   "metadata": {},
   "outputs": [
    {
     "data": {
      "text/plain": [
       "((3937, 29), (3937,), (1688, 29), (1688,), (1407, 29), (1407,))"
      ]
     },
     "execution_count": 16,
     "metadata": {},
     "output_type": "execute_result"
    }
   ],
   "source": [
    "X_train.shape,y_train.shape,X_validate.shape,y_validate.shape,X_test.shape,y_test.shape"
   ]
  },
  {
   "cell_type": "code",
   "execution_count": 17,
   "id": "90669d1f",
   "metadata": {},
   "outputs": [
    {
     "name": "stdout",
     "output_type": "stream",
     "text": [
      "Baseline accuracy score is: 73.432%\n"
     ]
    }
   ],
   "source": [
    "baseline = baseline_acc(X_train,y_train)"
   ]
  },
  {
   "cell_type": "code",
   "execution_count": 18,
   "id": "aca63575",
   "metadata": {},
   "outputs": [
    {
     "name": "stdout",
     "output_type": "stream",
     "text": [
      "This decision tree models accuracy score is: 79.553%\n"
     ]
    }
   ],
   "source": [
    "dt_model,y_pred = tree_model(X_train,y_train)"
   ]
  },
  {
   "cell_type": "markdown",
   "id": "f4ba2cda",
   "metadata": {},
   "source": [
    "![](telco_decision_tree.pdf)"
   ]
  },
  {
   "cell_type": "code",
   "execution_count": 19,
   "id": "9bcac563",
   "metadata": {},
   "outputs": [
    {
     "name": "stdout",
     "output_type": "stream",
     "text": [
      "\n",
      "            *** Model  Report ***  \n",
      "            ---------------------              \n",
      " _____________________________________________\n",
      "|            Positive Case: churn==1          |\n",
      "|            Negative Case: churn==0          |\n",
      "|---------------------------------------------|\n",
      "|                 Accuracy:   79.55%          |\n",
      "|       True Positive Rate:   56.15%          |\n",
      "|      False Positive Rate:   18.97%          |\n",
      "|       True Negative Rate:   81.03%          |\n",
      "|      False Negative Rate:   43.85%          |\n",
      "|                Precision:   62.72%          |\n",
      "|                   Recall:   56.79%          |\n",
      "|                 F1-Score:   59.61%          |\n",
      "|                                             |\n",
      "|         Positive Support:     1046          |\n",
      "|         Negative Support:     2891          |\n",
      "|            Total Support:     3937          |\n",
      "|_____________________________________________|\n",
      "\n"
     ]
    }
   ],
   "source": [
    "model_report(y_train,y_pred)"
   ]
  },
  {
   "cell_type": "code",
   "execution_count": 20,
   "id": "3527c3a0",
   "metadata": {},
   "outputs": [
    {
     "name": "stdout",
     "output_type": "stream",
     "text": [
      "This Random Forest models accuracy score is: 84.557%\n"
     ]
    }
   ],
   "source": [
    "rf_model,y_pred = rand_forest(X_train,y_train)"
   ]
  },
  {
   "cell_type": "code",
   "execution_count": 21,
   "id": "05f59cd8",
   "metadata": {},
   "outputs": [
    {
     "name": "stdout",
     "output_type": "stream",
     "text": [
      "\n",
      "            *** Model  Report ***  \n",
      "            ---------------------              \n",
      " _____________________________________________\n",
      "|            Positive Case: churn==1          |\n",
      "|            Negative Case: churn==0          |\n",
      "|---------------------------------------------|\n",
      "|                 Accuracy:   84.56%          |\n",
      "|       True Positive Rate:   68.59%          |\n",
      "|      False Positive Rate:   18.89%          |\n",
      "|       True Negative Rate:   81.11%          |\n",
      "|      False Negative Rate:   31.41%          |\n",
      "|                Precision:   76.71%          |\n",
      "|                   Recall:   60.13%          |\n",
      "|                 F1-Score:   67.42%          |\n",
      "|                                             |\n",
      "|         Positive Support:     1046          |\n",
      "|         Negative Support:     2891          |\n",
      "|            Total Support:     3937          |\n",
      "|_____________________________________________|\n",
      "\n"
     ]
    }
   ],
   "source": [
    "model_report(y_train,y_pred)"
   ]
  },
  {
   "cell_type": "code",
   "execution_count": 22,
   "id": "8845b535",
   "metadata": {},
   "outputs": [
    {
     "name": "stdout",
     "output_type": "stream",
     "text": [
      "This K Nearest Neighbor models accuracy score is: 82.855%\n"
     ]
    }
   ],
   "source": [
    "knn_model,y_pred = knneighbors(X_train,y_train)"
   ]
  },
  {
   "cell_type": "code",
   "execution_count": 23,
   "id": "5ea261fe",
   "metadata": {},
   "outputs": [
    {
     "name": "stdout",
     "output_type": "stream",
     "text": [
      "\n",
      "            *** Model  Report ***  \n",
      "            ---------------------              \n",
      " _____________________________________________\n",
      "|            Positive Case: churn==1          |\n",
      "|            Negative Case: churn==0          |\n",
      "|---------------------------------------------|\n",
      "|                 Accuracy:   82.85%          |\n",
      "|       True Positive Rate:   67.56%          |\n",
      "|      False Positive Rate:   18.09%          |\n",
      "|       True Negative Rate:   81.91%          |\n",
      "|      False Negative Rate:   32.44%          |\n",
      "|                Precision:   72.93%          |\n",
      "|                   Recall:   56.41%          |\n",
      "|                 F1-Score:   63.61%          |\n",
      "|                                             |\n",
      "|         Positive Support:     1046          |\n",
      "|         Negative Support:     2891          |\n",
      "|            Total Support:     3937          |\n",
      "|_____________________________________________|\n",
      "\n"
     ]
    }
   ],
   "source": [
    "model_report(y_train,y_pred)"
   ]
  },
  {
   "cell_type": "code",
   "execution_count": 24,
   "id": "8c71deb9",
   "metadata": {},
   "outputs": [
    {
     "name": "stdout",
     "output_type": "stream",
     "text": [
      "Decision Tree model accuracy: 0.787\n"
     ]
    }
   ],
   "source": [
    "accuracy = round(dt_model.score(X_validate, y_validate), 3)\n",
    "print(f'Decision Tree model accuracy: {accuracy}')"
   ]
  },
  {
   "cell_type": "code",
   "execution_count": 25,
   "id": "36560b51",
   "metadata": {},
   "outputs": [
    {
     "name": "stdout",
     "output_type": "stream",
     "text": [
      "Random Forest model accuracy: 0.809\n"
     ]
    }
   ],
   "source": [
    "accuracy = round(rf_model.score(X_validate, y_validate), 3)\n",
    "print(f'Random Forest model accuracy: {accuracy}')"
   ]
  },
  {
   "cell_type": "code",
   "execution_count": 26,
   "id": "ab251f8b",
   "metadata": {},
   "outputs": [
    {
     "name": "stdout",
     "output_type": "stream",
     "text": [
      "K Nearest Neighbors model accuracy: 0.765\n"
     ]
    }
   ],
   "source": [
    "accuracy = round(knn_model.score(X_validate, y_validate), 3)\n",
    "print(f'K Nearest Neighbors model accuracy: {accuracy}')"
   ]
  },
  {
   "cell_type": "code",
   "execution_count": 27,
   "id": "ccd00b3b",
   "metadata": {},
   "outputs": [
    {
     "name": "stdout",
     "output_type": "stream",
     "text": [
      "\n",
      "            *** Model  Report ***  \n",
      "            ---------------------              \n",
      " _____________________________________________\n",
      "|            Positive Case: churn==1          |\n",
      "|            Negative Case: churn==0          |\n",
      "|---------------------------------------------|\n",
      "|                 Accuracy:   80.95%          |\n",
      "|       True Positive Rate:   67.16%          |\n",
      "|      False Positive Rate:   17.03%          |\n",
      "|       True Negative Rate:   82.97%          |\n",
      "|      False Negative Rate:   32.84%          |\n",
      "|                Precision:   68.79%          |\n",
      "|                   Recall:   51.87%          |\n",
      "|                 F1-Score:   59.15%          |\n",
      "|                                             |\n",
      "|         Positive Support:      374          |\n",
      "|         Negative Support:     1033          |\n",
      "|            Total Support:     1407          |\n",
      "|_____________________________________________|\n",
      "\n",
      "\n",
      "\n",
      "Baseline model accuracy: 73.42%\n"
     ]
    }
   ],
   "source": [
    "final_pred = make_predictions(rf_model,X_test)\n",
    "model_report(y_test,final_pred)\n",
    "print(\"\\n\")\n",
    "print(f'Baseline model accuracy: {baseline.score(X_test, y_test):.2%}')"
   ]
  },
  {
   "cell_type": "code",
   "execution_count": 28,
   "id": "e65341ba",
   "metadata": {},
   "outputs": [
    {
     "name": "stdout",
     "output_type": "stream",
     "text": [
      "The total difference between the model I developed and the baseline was 7.534%\n"
     ]
    }
   ],
   "source": [
    "rf_model_score = rf_model.score(X_test,y_test)\n",
    "baseline_score = baseline.score(X_test, y_test)\n",
    "print(f\"The total difference between the model I developed and the baseline was {(rf_model_score - baseline_score):.3%}\")"
   ]
  },
  {
   "cell_type": "code",
   "execution_count": 29,
   "id": "8a1a2b4a",
   "metadata": {},
   "outputs": [
    {
     "data": {
      "text/html": [
       "<div>\n",
       "<style scoped>\n",
       "    .dataframe tbody tr th:only-of-type {\n",
       "        vertical-align: middle;\n",
       "    }\n",
       "\n",
       "    .dataframe tbody tr th {\n",
       "        vertical-align: top;\n",
       "    }\n",
       "\n",
       "    .dataframe thead th {\n",
       "        text-align: right;\n",
       "    }\n",
       "</style>\n",
       "<table border=\"1\" class=\"dataframe\">\n",
       "  <thead>\n",
       "    <tr style=\"text-align: right;\">\n",
       "      <th></th>\n",
       "      <th>customer_id</th>\n",
       "      <th>prediction_proba</th>\n",
       "      <th>predictions</th>\n",
       "    </tr>\n",
       "  </thead>\n",
       "  <tbody>\n",
       "    <tr>\n",
       "      <th>0</th>\n",
       "      <td>3030-YZADT</td>\n",
       "      <td>0.0</td>\n",
       "      <td>0</td>\n",
       "    </tr>\n",
       "    <tr>\n",
       "      <th>1</th>\n",
       "      <td>5131-PONJI</td>\n",
       "      <td>0.2</td>\n",
       "      <td>0</td>\n",
       "    </tr>\n",
       "    <tr>\n",
       "      <th>2</th>\n",
       "      <td>5343-SGUBI</td>\n",
       "      <td>0.0</td>\n",
       "      <td>0</td>\n",
       "    </tr>\n",
       "    <tr>\n",
       "      <th>3</th>\n",
       "      <td>1036-GUDCL</td>\n",
       "      <td>0.2</td>\n",
       "      <td>0</td>\n",
       "    </tr>\n",
       "    <tr>\n",
       "      <th>4</th>\n",
       "      <td>8731-WBBMB</td>\n",
       "      <td>0.2</td>\n",
       "      <td>0</td>\n",
       "    </tr>\n",
       "    <tr>\n",
       "      <th>...</th>\n",
       "      <td>...</td>\n",
       "      <td>...</td>\n",
       "      <td>...</td>\n",
       "    </tr>\n",
       "    <tr>\n",
       "      <th>1402</th>\n",
       "      <td>1984-FCOWB</td>\n",
       "      <td>0.2</td>\n",
       "      <td>0</td>\n",
       "    </tr>\n",
       "    <tr>\n",
       "      <th>1403</th>\n",
       "      <td>7663-RGWBC</td>\n",
       "      <td>0.0</td>\n",
       "      <td>0</td>\n",
       "    </tr>\n",
       "    <tr>\n",
       "      <th>1404</th>\n",
       "      <td>8644-XYTSV</td>\n",
       "      <td>0.2</td>\n",
       "      <td>0</td>\n",
       "    </tr>\n",
       "    <tr>\n",
       "      <th>1405</th>\n",
       "      <td>6937-GCDGQ</td>\n",
       "      <td>0.0</td>\n",
       "      <td>0</td>\n",
       "    </tr>\n",
       "    <tr>\n",
       "      <th>1406</th>\n",
       "      <td>6599-GZWCM</td>\n",
       "      <td>0.2</td>\n",
       "      <td>0</td>\n",
       "    </tr>\n",
       "  </tbody>\n",
       "</table>\n",
       "<p>1407 rows × 3 columns</p>\n",
       "</div>"
      ],
      "text/plain": [
       "     customer_id  prediction_proba  predictions\n",
       "0     3030-YZADT               0.0            0\n",
       "1     5131-PONJI               0.2            0\n",
       "2     5343-SGUBI               0.0            0\n",
       "3     1036-GUDCL               0.2            0\n",
       "4     8731-WBBMB               0.2            0\n",
       "...          ...               ...          ...\n",
       "1402  1984-FCOWB               0.2            0\n",
       "1403  7663-RGWBC               0.0            0\n",
       "1404  8644-XYTSV               0.2            0\n",
       "1405  6937-GCDGQ               0.0            0\n",
       "1406  6599-GZWCM               0.2            0\n",
       "\n",
       "[1407 rows x 3 columns]"
      ]
     },
     "execution_count": 29,
     "metadata": {},
     "output_type": "execute_result"
    }
   ],
   "source": [
    "# Saves a csv file of my predictions on the test data\n",
    "get_final_report(knn_model)"
   ]
  },
  {
   "cell_type": "code",
   "execution_count": null,
   "id": "b05a5344",
   "metadata": {},
   "outputs": [],
   "source": []
  }
 ],
 "metadata": {
  "kernelspec": {
   "display_name": "Python 3",
   "language": "python",
   "name": "python3"
  },
  "language_info": {
   "codemirror_mode": {
    "name": "ipython",
    "version": 3
   },
   "file_extension": ".py",
   "mimetype": "text/x-python",
   "name": "python",
   "nbconvert_exporter": "python",
   "pygments_lexer": "ipython3",
   "version": "3.8.8"
  }
 },
 "nbformat": 4,
 "nbformat_minor": 5
}
