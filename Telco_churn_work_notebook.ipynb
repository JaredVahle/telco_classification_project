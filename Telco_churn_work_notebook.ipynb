{
 "cells": [
  {
   "cell_type": "code",
   "execution_count": 86,
   "id": "67ce7fd1",
   "metadata": {},
   "outputs": [],
   "source": [
    "from scipy import stats\n",
    "\n",
    "import matplotlib.pyplot as plt\n",
    "\n",
    "import numpy as np\n",
    "\n",
    "import pandas as pd\n",
    "\n",
    "import seaborn as sns\n",
    "\n",
    "from pydataset import data\n",
    "\n",
    "from sklearn.model_selection import train_test_split\n",
    "from sklearn.tree import DecisionTreeClassifier\n",
    "from sklearn.tree import export_graphviz\n",
    "from sklearn.metrics import classification_report\n",
    "from sklearn.metrics import confusion_matrix\n",
    "from sklearn.dummy import DummyClassifier\n",
    "from sklearn.ensemble import RandomForestClassifier\n",
    "from sklearn.neighbors import KNeighborsClassifier\n",
    "from sklearn.linear_model import LogisticRegression\n",
    "\n",
    "import os\n",
    "\n",
    "import graphviz\n",
    "from graphviz import Graph\n",
    "\n",
    "import env\n",
    "import acquire_telco\n",
    "import prepare_telco\n",
    "import helper\n",
    "\n",
    "import warnings\n",
    "warnings.filterwarnings(\"ignore\")"
   ]
  },
  {
   "cell_type": "markdown",
   "id": "ad493b47",
   "metadata": {},
   "source": [
    "![](telco_churn_pic.png)"
   ]
  },
  {
   "cell_type": "markdown",
   "id": "16e0eb9a",
   "metadata": {},
   "source": [
    "### PLAN"
   ]
  },
  {
   "cell_type": "code",
   "execution_count": 87,
   "id": "5a989ace",
   "metadata": {},
   "outputs": [],
   "source": [
    "# project plan and goals in readme"
   ]
  },
  {
   "cell_type": "code",
   "execution_count": 88,
   "id": "ba6413a1",
   "metadata": {},
   "outputs": [],
   "source": [
    "# work through pipeline"
   ]
  },
  {
   "cell_type": "code",
   "execution_count": 89,
   "id": "1fc2c2a1",
   "metadata": {},
   "outputs": [],
   "source": [
    "# data dictionary "
   ]
  },
  {
   "cell_type": "code",
   "execution_count": 90,
   "id": "37aa2d48",
   "metadata": {},
   "outputs": [],
   "source": [
    "# Clearly stating hypotheses(and add the testing of these to your task list)"
   ]
  },
  {
   "cell_type": "markdown",
   "id": "b6fae386",
   "metadata": {},
   "source": [
    "#### Hypothesis testing\n",
    "α = .05\n",
    "#### hypothesis 1\n",
    "$H_O$ - there is no affect on weather or not a customer has autopayment and churns\n",
    "\n",
    "$H_A$ - There is an affect on churn, depending on weather or not a customer has autopay\n",
    "#### hypothesis 2\n",
    "$H_O$ - The number of additional services will not have an affect on churn. (refering to addons column)\n",
    "\n",
    "$H_A$ - The number of additional services will have an affect on churn. (referring to addons column)"
   ]
  },
  {
   "cell_type": "markdown",
   "id": "f85c4b29",
   "metadata": {},
   "source": [
    "## Acquire"
   ]
  },
  {
   "cell_type": "markdown",
   "id": "22bf2da9",
   "metadata": {},
   "source": [
    "- created a python function that will automatically call a sql query that joins all of the tables in telco churn\n",
    "- added my get connection so that i can connect sql to python to create my pandas database\n",
    "- set the function to cache my telco data to a csv so i dont need to connect to sql every time i acquire the telco database"
   ]
  },
  {
   "cell_type": "code",
   "execution_count": 91,
   "id": "519b79c3",
   "metadata": {},
   "outputs": [],
   "source": [
    "df = acquire_telco.get_telco_data()"
   ]
  },
  {
   "cell_type": "code",
   "execution_count": 92,
   "id": "97fb9aa4",
   "metadata": {},
   "outputs": [],
   "source": [
    "def num_distributions(df):\n",
    "    '''\n",
    "    property of Faith Kane\n",
    "    This functions takes in a dataframe and displays\n",
    "    the distribution of each numeric column.\n",
    "    '''\n",
    "    for col in df.columns:\n",
    "        if df[col].dtype != 'object' or df[col] == df[\"total_charges\"]:\n",
    "            plt.hist(df[col])\n",
    "            plt.title(f'Distribution of {col}')\n",
    "            plt.show()"
   ]
  },
  {
   "cell_type": "code",
   "execution_count": 93,
   "id": "5fdbdf19",
   "metadata": {},
   "outputs": [
    {
     "data": {
      "text/html": [
       "<div>\n",
       "<style scoped>\n",
       "    .dataframe tbody tr th:only-of-type {\n",
       "        vertical-align: middle;\n",
       "    }\n",
       "\n",
       "    .dataframe tbody tr th {\n",
       "        vertical-align: top;\n",
       "    }\n",
       "\n",
       "    .dataframe thead th {\n",
       "        text-align: right;\n",
       "    }\n",
       "</style>\n",
       "<table border=\"1\" class=\"dataframe\">\n",
       "  <thead>\n",
       "    <tr style=\"text-align: right;\">\n",
       "      <th></th>\n",
       "      <th>Unnamed: 0</th>\n",
       "      <th>customer_id</th>\n",
       "      <th>gender</th>\n",
       "      <th>senior_citizen</th>\n",
       "      <th>partner</th>\n",
       "      <th>dependents</th>\n",
       "      <th>tenure</th>\n",
       "      <th>phone_service</th>\n",
       "      <th>multiple_lines</th>\n",
       "      <th>internet_service_type_id</th>\n",
       "      <th>...</th>\n",
       "      <th>payment_type_id</th>\n",
       "      <th>monthly_charges</th>\n",
       "      <th>total_charges</th>\n",
       "      <th>churn</th>\n",
       "      <th>contract_type_id.1</th>\n",
       "      <th>contract_type</th>\n",
       "      <th>internet_service_type_id.1</th>\n",
       "      <th>internet_service_type</th>\n",
       "      <th>payment_type_id.1</th>\n",
       "      <th>payment_type</th>\n",
       "    </tr>\n",
       "  </thead>\n",
       "  <tbody>\n",
       "    <tr>\n",
       "      <th>0</th>\n",
       "      <td>0</td>\n",
       "      <td>0016-QLJIS</td>\n",
       "      <td>Female</td>\n",
       "      <td>0</td>\n",
       "      <td>Yes</td>\n",
       "      <td>Yes</td>\n",
       "      <td>65</td>\n",
       "      <td>Yes</td>\n",
       "      <td>Yes</td>\n",
       "      <td>1</td>\n",
       "      <td>...</td>\n",
       "      <td>2</td>\n",
       "      <td>90.45</td>\n",
       "      <td>5957.9</td>\n",
       "      <td>No</td>\n",
       "      <td>3</td>\n",
       "      <td>Two year</td>\n",
       "      <td>1</td>\n",
       "      <td>DSL</td>\n",
       "      <td>2</td>\n",
       "      <td>Mailed check</td>\n",
       "    </tr>\n",
       "    <tr>\n",
       "      <th>1</th>\n",
       "      <td>1</td>\n",
       "      <td>0017-DINOC</td>\n",
       "      <td>Male</td>\n",
       "      <td>0</td>\n",
       "      <td>No</td>\n",
       "      <td>No</td>\n",
       "      <td>54</td>\n",
       "      <td>No</td>\n",
       "      <td>No phone service</td>\n",
       "      <td>1</td>\n",
       "      <td>...</td>\n",
       "      <td>4</td>\n",
       "      <td>45.20</td>\n",
       "      <td>2460.55</td>\n",
       "      <td>No</td>\n",
       "      <td>3</td>\n",
       "      <td>Two year</td>\n",
       "      <td>1</td>\n",
       "      <td>DSL</td>\n",
       "      <td>4</td>\n",
       "      <td>Credit card (automatic)</td>\n",
       "    </tr>\n",
       "    <tr>\n",
       "      <th>2</th>\n",
       "      <td>2</td>\n",
       "      <td>0019-GFNTW</td>\n",
       "      <td>Female</td>\n",
       "      <td>0</td>\n",
       "      <td>No</td>\n",
       "      <td>No</td>\n",
       "      <td>56</td>\n",
       "      <td>No</td>\n",
       "      <td>No phone service</td>\n",
       "      <td>1</td>\n",
       "      <td>...</td>\n",
       "      <td>3</td>\n",
       "      <td>45.05</td>\n",
       "      <td>2560.1</td>\n",
       "      <td>No</td>\n",
       "      <td>3</td>\n",
       "      <td>Two year</td>\n",
       "      <td>1</td>\n",
       "      <td>DSL</td>\n",
       "      <td>3</td>\n",
       "      <td>Bank transfer (automatic)</td>\n",
       "    </tr>\n",
       "    <tr>\n",
       "      <th>3</th>\n",
       "      <td>3</td>\n",
       "      <td>0056-EPFBG</td>\n",
       "      <td>Male</td>\n",
       "      <td>0</td>\n",
       "      <td>Yes</td>\n",
       "      <td>Yes</td>\n",
       "      <td>20</td>\n",
       "      <td>No</td>\n",
       "      <td>No phone service</td>\n",
       "      <td>1</td>\n",
       "      <td>...</td>\n",
       "      <td>4</td>\n",
       "      <td>39.40</td>\n",
       "      <td>825.4</td>\n",
       "      <td>No</td>\n",
       "      <td>3</td>\n",
       "      <td>Two year</td>\n",
       "      <td>1</td>\n",
       "      <td>DSL</td>\n",
       "      <td>4</td>\n",
       "      <td>Credit card (automatic)</td>\n",
       "    </tr>\n",
       "    <tr>\n",
       "      <th>4</th>\n",
       "      <td>4</td>\n",
       "      <td>0078-XZMHT</td>\n",
       "      <td>Male</td>\n",
       "      <td>0</td>\n",
       "      <td>Yes</td>\n",
       "      <td>No</td>\n",
       "      <td>72</td>\n",
       "      <td>Yes</td>\n",
       "      <td>Yes</td>\n",
       "      <td>1</td>\n",
       "      <td>...</td>\n",
       "      <td>3</td>\n",
       "      <td>85.15</td>\n",
       "      <td>6316.2</td>\n",
       "      <td>No</td>\n",
       "      <td>3</td>\n",
       "      <td>Two year</td>\n",
       "      <td>1</td>\n",
       "      <td>DSL</td>\n",
       "      <td>3</td>\n",
       "      <td>Bank transfer (automatic)</td>\n",
       "    </tr>\n",
       "  </tbody>\n",
       "</table>\n",
       "<p>5 rows × 28 columns</p>\n",
       "</div>"
      ],
      "text/plain": [
       "   Unnamed: 0 customer_id  gender  senior_citizen partner dependents  tenure  \\\n",
       "0           0  0016-QLJIS  Female               0     Yes        Yes      65   \n",
       "1           1  0017-DINOC    Male               0      No         No      54   \n",
       "2           2  0019-GFNTW  Female               0      No         No      56   \n",
       "3           3  0056-EPFBG    Male               0     Yes        Yes      20   \n",
       "4           4  0078-XZMHT    Male               0     Yes         No      72   \n",
       "\n",
       "  phone_service    multiple_lines  internet_service_type_id  ...  \\\n",
       "0           Yes               Yes                         1  ...   \n",
       "1            No  No phone service                         1  ...   \n",
       "2            No  No phone service                         1  ...   \n",
       "3            No  No phone service                         1  ...   \n",
       "4           Yes               Yes                         1  ...   \n",
       "\n",
       "  payment_type_id monthly_charges total_charges churn contract_type_id.1  \\\n",
       "0               2           90.45        5957.9    No                  3   \n",
       "1               4           45.20       2460.55    No                  3   \n",
       "2               3           45.05        2560.1    No                  3   \n",
       "3               4           39.40         825.4    No                  3   \n",
       "4               3           85.15        6316.2    No                  3   \n",
       "\n",
       "  contract_type  internet_service_type_id.1 internet_service_type  \\\n",
       "0      Two year                           1                   DSL   \n",
       "1      Two year                           1                   DSL   \n",
       "2      Two year                           1                   DSL   \n",
       "3      Two year                           1                   DSL   \n",
       "4      Two year                           1                   DSL   \n",
       "\n",
       "   payment_type_id.1               payment_type  \n",
       "0                  2               Mailed check  \n",
       "1                  4    Credit card (automatic)  \n",
       "2                  3  Bank transfer (automatic)  \n",
       "3                  4    Credit card (automatic)  \n",
       "4                  3  Bank transfer (automatic)  \n",
       "\n",
       "[5 rows x 28 columns]"
      ]
     },
     "execution_count": 93,
     "metadata": {},
     "output_type": "execute_result"
    }
   ],
   "source": [
    "df.head()"
   ]
  },
  {
   "cell_type": "code",
   "execution_count": 94,
   "id": "1e5e2b94",
   "metadata": {},
   "outputs": [
    {
     "name": "stdout",
     "output_type": "stream",
     "text": [
      "<class 'pandas.core.frame.DataFrame'>\n",
      "RangeIndex: 7043 entries, 0 to 7042\n",
      "Data columns (total 28 columns):\n",
      " #   Column                      Non-Null Count  Dtype  \n",
      "---  ------                      --------------  -----  \n",
      " 0   Unnamed: 0                  7043 non-null   int64  \n",
      " 1   customer_id                 7043 non-null   object \n",
      " 2   gender                      7043 non-null   object \n",
      " 3   senior_citizen              7043 non-null   int64  \n",
      " 4   partner                     7043 non-null   object \n",
      " 5   dependents                  7043 non-null   object \n",
      " 6   tenure                      7043 non-null   int64  \n",
      " 7   phone_service               7043 non-null   object \n",
      " 8   multiple_lines              7043 non-null   object \n",
      " 9   internet_service_type_id    7043 non-null   int64  \n",
      " 10  online_security             7043 non-null   object \n",
      " 11  online_backup               7043 non-null   object \n",
      " 12  device_protection           7043 non-null   object \n",
      " 13  tech_support                7043 non-null   object \n",
      " 14  streaming_tv                7043 non-null   object \n",
      " 15  streaming_movies            7043 non-null   object \n",
      " 16  contract_type_id            7043 non-null   int64  \n",
      " 17  paperless_billing           7043 non-null   object \n",
      " 18  payment_type_id             7043 non-null   int64  \n",
      " 19  monthly_charges             7043 non-null   float64\n",
      " 20  total_charges               7043 non-null   object \n",
      " 21  churn                       7043 non-null   object \n",
      " 22  contract_type_id.1          7043 non-null   int64  \n",
      " 23  contract_type               7043 non-null   object \n",
      " 24  internet_service_type_id.1  7043 non-null   int64  \n",
      " 25  internet_service_type       7043 non-null   object \n",
      " 26  payment_type_id.1           7043 non-null   int64  \n",
      " 27  payment_type                7043 non-null   object \n",
      "dtypes: float64(1), int64(9), object(18)\n",
      "memory usage: 1.5+ MB\n"
     ]
    }
   ],
   "source": [
    "df.info()"
   ]
  },
  {
   "cell_type": "code",
   "execution_count": 95,
   "id": "52155d34",
   "metadata": {},
   "outputs": [
    {
     "data": {
      "text/html": [
       "<div>\n",
       "<style scoped>\n",
       "    .dataframe tbody tr th:only-of-type {\n",
       "        vertical-align: middle;\n",
       "    }\n",
       "\n",
       "    .dataframe tbody tr th {\n",
       "        vertical-align: top;\n",
       "    }\n",
       "\n",
       "    .dataframe thead th {\n",
       "        text-align: right;\n",
       "    }\n",
       "</style>\n",
       "<table border=\"1\" class=\"dataframe\">\n",
       "  <thead>\n",
       "    <tr style=\"text-align: right;\">\n",
       "      <th></th>\n",
       "      <th>Unnamed: 0</th>\n",
       "      <th>senior_citizen</th>\n",
       "      <th>tenure</th>\n",
       "      <th>internet_service_type_id</th>\n",
       "      <th>contract_type_id</th>\n",
       "      <th>payment_type_id</th>\n",
       "      <th>monthly_charges</th>\n",
       "      <th>contract_type_id.1</th>\n",
       "      <th>internet_service_type_id.1</th>\n",
       "      <th>payment_type_id.1</th>\n",
       "    </tr>\n",
       "  </thead>\n",
       "  <tbody>\n",
       "    <tr>\n",
       "      <th>count</th>\n",
       "      <td>7043.000000</td>\n",
       "      <td>7043.000000</td>\n",
       "      <td>7043.000000</td>\n",
       "      <td>7043.000000</td>\n",
       "      <td>7043.000000</td>\n",
       "      <td>7043.000000</td>\n",
       "      <td>7043.000000</td>\n",
       "      <td>7043.000000</td>\n",
       "      <td>7043.000000</td>\n",
       "      <td>7043.000000</td>\n",
       "    </tr>\n",
       "    <tr>\n",
       "      <th>mean</th>\n",
       "      <td>3521.000000</td>\n",
       "      <td>0.162147</td>\n",
       "      <td>32.371149</td>\n",
       "      <td>1.872923</td>\n",
       "      <td>1.690473</td>\n",
       "      <td>2.315633</td>\n",
       "      <td>64.761692</td>\n",
       "      <td>1.690473</td>\n",
       "      <td>1.872923</td>\n",
       "      <td>2.315633</td>\n",
       "    </tr>\n",
       "    <tr>\n",
       "      <th>std</th>\n",
       "      <td>2033.283305</td>\n",
       "      <td>0.368612</td>\n",
       "      <td>24.559481</td>\n",
       "      <td>0.737796</td>\n",
       "      <td>0.833755</td>\n",
       "      <td>1.148907</td>\n",
       "      <td>30.090047</td>\n",
       "      <td>0.833755</td>\n",
       "      <td>0.737796</td>\n",
       "      <td>1.148907</td>\n",
       "    </tr>\n",
       "    <tr>\n",
       "      <th>min</th>\n",
       "      <td>0.000000</td>\n",
       "      <td>0.000000</td>\n",
       "      <td>0.000000</td>\n",
       "      <td>1.000000</td>\n",
       "      <td>1.000000</td>\n",
       "      <td>1.000000</td>\n",
       "      <td>18.250000</td>\n",
       "      <td>1.000000</td>\n",
       "      <td>1.000000</td>\n",
       "      <td>1.000000</td>\n",
       "    </tr>\n",
       "    <tr>\n",
       "      <th>25%</th>\n",
       "      <td>1760.500000</td>\n",
       "      <td>0.000000</td>\n",
       "      <td>9.000000</td>\n",
       "      <td>1.000000</td>\n",
       "      <td>1.000000</td>\n",
       "      <td>1.000000</td>\n",
       "      <td>35.500000</td>\n",
       "      <td>1.000000</td>\n",
       "      <td>1.000000</td>\n",
       "      <td>1.000000</td>\n",
       "    </tr>\n",
       "    <tr>\n",
       "      <th>50%</th>\n",
       "      <td>3521.000000</td>\n",
       "      <td>0.000000</td>\n",
       "      <td>29.000000</td>\n",
       "      <td>2.000000</td>\n",
       "      <td>1.000000</td>\n",
       "      <td>2.000000</td>\n",
       "      <td>70.350000</td>\n",
       "      <td>1.000000</td>\n",
       "      <td>2.000000</td>\n",
       "      <td>2.000000</td>\n",
       "    </tr>\n",
       "    <tr>\n",
       "      <th>75%</th>\n",
       "      <td>5281.500000</td>\n",
       "      <td>0.000000</td>\n",
       "      <td>55.000000</td>\n",
       "      <td>2.000000</td>\n",
       "      <td>2.000000</td>\n",
       "      <td>3.000000</td>\n",
       "      <td>89.850000</td>\n",
       "      <td>2.000000</td>\n",
       "      <td>2.000000</td>\n",
       "      <td>3.000000</td>\n",
       "    </tr>\n",
       "    <tr>\n",
       "      <th>max</th>\n",
       "      <td>7042.000000</td>\n",
       "      <td>1.000000</td>\n",
       "      <td>72.000000</td>\n",
       "      <td>3.000000</td>\n",
       "      <td>3.000000</td>\n",
       "      <td>4.000000</td>\n",
       "      <td>118.750000</td>\n",
       "      <td>3.000000</td>\n",
       "      <td>3.000000</td>\n",
       "      <td>4.000000</td>\n",
       "    </tr>\n",
       "  </tbody>\n",
       "</table>\n",
       "</div>"
      ],
      "text/plain": [
       "        Unnamed: 0  senior_citizen       tenure  internet_service_type_id  \\\n",
       "count  7043.000000     7043.000000  7043.000000               7043.000000   \n",
       "mean   3521.000000        0.162147    32.371149                  1.872923   \n",
       "std    2033.283305        0.368612    24.559481                  0.737796   \n",
       "min       0.000000        0.000000     0.000000                  1.000000   \n",
       "25%    1760.500000        0.000000     9.000000                  1.000000   \n",
       "50%    3521.000000        0.000000    29.000000                  2.000000   \n",
       "75%    5281.500000        0.000000    55.000000                  2.000000   \n",
       "max    7042.000000        1.000000    72.000000                  3.000000   \n",
       "\n",
       "       contract_type_id  payment_type_id  monthly_charges  contract_type_id.1  \\\n",
       "count       7043.000000      7043.000000      7043.000000         7043.000000   \n",
       "mean           1.690473         2.315633        64.761692            1.690473   \n",
       "std            0.833755         1.148907        30.090047            0.833755   \n",
       "min            1.000000         1.000000        18.250000            1.000000   \n",
       "25%            1.000000         1.000000        35.500000            1.000000   \n",
       "50%            1.000000         2.000000        70.350000            1.000000   \n",
       "75%            2.000000         3.000000        89.850000            2.000000   \n",
       "max            3.000000         4.000000       118.750000            3.000000   \n",
       "\n",
       "       internet_service_type_id.1  payment_type_id.1  \n",
       "count                 7043.000000        7043.000000  \n",
       "mean                     1.872923           2.315633  \n",
       "std                      0.737796           1.148907  \n",
       "min                      1.000000           1.000000  \n",
       "25%                      1.000000           1.000000  \n",
       "50%                      2.000000           2.000000  \n",
       "75%                      2.000000           3.000000  \n",
       "max                      3.000000           4.000000  "
      ]
     },
     "execution_count": 95,
     "metadata": {},
     "output_type": "execute_result"
    }
   ],
   "source": [
    "df.describe()"
   ]
  },
  {
   "cell_type": "code",
   "execution_count": 97,
   "id": "9d32e99e",
   "metadata": {},
   "outputs": [
    {
     "data": {
      "text/plain": [
       "Unnamed: 0  customer_id  gender  senior_citizen  partner  dependents  tenure  phone_service  multiple_lines    internet_service_type_id  online_security      online_backup        device_protection    tech_support         streaming_tv         streaming_movies     contract_type_id  paperless_billing  payment_type_id  monthly_charges  total_charges  churn  contract_type_id.1  contract_type   internet_service_type_id.1  internet_service_type  payment_type_id.1  payment_type             \n",
       "0           0016-QLJIS   Female  0               Yes      Yes         65      Yes            Yes               1                         Yes                  Yes                  Yes                  Yes                  Yes                  Yes                  3                 Yes                2                90.45            5957.9         No     3                   Two year        1                           DSL                    2                  Mailed check                 1\n",
       "4691        5956-YHHRX   Male    1               No       No          21      Yes            Yes               2                         No                   Yes                  Yes                  No                   Yes                  Yes                  1                 Yes                1                104.35           2271.85        No     1                   Month-to-month  2                           Fiber optic            1                  Electronic check             1\n",
       "4702        5998-VVEJY   Male    0               No       No          26      Yes            Yes               2                         No                   No                   No                   Yes                  No                   No                   1                 Yes                1                80.50            2088.8         Yes    1                   Month-to-month  2                           Fiber optic            1                  Electronic check             1\n",
       "4701        5995-SNNEW   Male    1               Yes      No          23      Yes            Yes               2                         No                   Yes                  Yes                  No                   Yes                  Yes                  1                 Yes                1                104.45           2184.85        No     1                   Month-to-month  2                           Fiber optic            1                  Electronic check             1\n",
       "4700        5989-PGKJB   Female  0               No       No          16      Yes            No                2                         No                   Yes                  No                   No                   No                   Yes                  1                 Yes                1                86.25            1340.1         No     1                   Month-to-month  2                           Fiber optic            1                  Electronic check             1\n",
       "                                                                                                                                                                                                                                                                                                                                                                                                                                                                                                          ..\n",
       "2344        9281-PKKZE   Female  0               Yes      No          46      No             No phone service  1                         No                   No                   No                   No                   Yes                  Yes                  1                 Yes                1                43.95            2007.85        No     1                   Month-to-month  1                           DSL                    1                  Electronic check             1\n",
       "2343        9269-CQOOL   Male    0               No       Yes         3       Yes            No                1                         No                   No                   No                   No                   Yes                  No                   1                 Yes                4                54.70            169.45         Yes    1                   Month-to-month  1                           DSL                    4                  Credit card (automatic)      1\n",
       "2342        9261-WDCAF   Male    0               No       No          3       Yes            No                1                         No                   No                   No                   No                   No                   Yes                  1                 No                 2                54.65            189.1          No     1                   Month-to-month  1                           DSL                    2                  Mailed check                 1\n",
       "2341        9259-PACGQ   Female  0               Yes      No          34      Yes            Yes               1                         Yes                  Yes                  No                   Yes                  No                   No                   1                 No                 1                62.65            2274.9         Yes    1                   Month-to-month  1                           DSL                    1                  Electronic check             1\n",
       "7042        9986-BONCE   Female  0               No       No          4       Yes            No                3                         No internet service  No internet service  No internet service  No internet service  No internet service  No internet service  1                 No                 3                20.95            85.5           Yes    1                   Month-to-month  3                           None                   3                  Bank transfer (automatic)    1\n",
       "Length: 7043, dtype: int64"
      ]
     },
     "execution_count": 97,
     "metadata": {},
     "output_type": "execute_result"
    }
   ],
   "source": [
    "df.value_counts()"
   ]
  },
  {
   "cell_type": "code",
   "execution_count": 98,
   "id": "624615db",
   "metadata": {},
   "outputs": [
    {
     "data": {
      "text/plain": [
       "Unnamed: 0                    0\n",
       "customer_id                   0\n",
       "gender                        0\n",
       "senior_citizen                0\n",
       "partner                       0\n",
       "dependents                    0\n",
       "tenure                        0\n",
       "phone_service                 0\n",
       "multiple_lines                0\n",
       "internet_service_type_id      0\n",
       "online_security               0\n",
       "online_backup                 0\n",
       "device_protection             0\n",
       "tech_support                  0\n",
       "streaming_tv                  0\n",
       "streaming_movies              0\n",
       "contract_type_id              0\n",
       "paperless_billing             0\n",
       "payment_type_id               0\n",
       "monthly_charges               0\n",
       "total_charges                 0\n",
       "churn                         0\n",
       "contract_type_id.1            0\n",
       "contract_type                 0\n",
       "internet_service_type_id.1    0\n",
       "internet_service_type         0\n",
       "payment_type_id.1             0\n",
       "payment_type                  0\n",
       "dtype: int64"
      ]
     },
     "execution_count": 98,
     "metadata": {},
     "output_type": "execute_result"
    }
   ],
   "source": [
    "df.isnull().sum()"
   ]
  },
  {
   "cell_type": "code",
   "execution_count": 99,
   "id": "6814e470",
   "metadata": {},
   "outputs": [
    {
     "data": {
      "text/plain": [
       "No     5174\n",
       "Yes    1869\n",
       "Name: churn, dtype: int64"
      ]
     },
     "execution_count": 99,
     "metadata": {},
     "output_type": "execute_result"
    }
   ],
   "source": [
    "df.churn.value_counts()"
   ]
  },
  {
   "cell_type": "code",
   "execution_count": 101,
   "id": "4c83fbd3",
   "metadata": {},
   "outputs": [],
   "source": [
    "# I wanted all of my values to be numeric so that I could so I changed the values that were \"yes\", \"no\", or\n",
    "# \"no {X} service\" to their respective boolean values.\n",
    "# I also changed the data type for total charges, and created an auto_pay column and a column that for add_ons that\n",
    "# summed the values of the six optional additional services.\n",
    "# after that i dropped any columns that i had made dummy variables for and  the id's that i no longer needed"
   ]
  },
  {
   "cell_type": "code",
   "execution_count": 102,
   "id": "0a371ba3",
   "metadata": {},
   "outputs": [],
   "source": [
    "def clean_telco(df):\n",
    "\n",
    "    df.total_charges.replace(to_replace = {\" \":\"0\"}, inplace = True)\n",
    "    df.total_charges = df.total_charges.astype(\"float\")\n",
    "    df[\"auto_pay\"] = df.payment_type.str.contains(\"auto\")\n",
    "    df[\"auto_pay\"] = df.auto_pay.replace(to_replace = [True,False],value = [1,0])\n",
    "    dummy_df = pd.get_dummies(df[['gender', 'payment_type',\"internet_service_type\",\"contract_type\"]])\n",
    "    dummy_df.columns = [col.lower().replace(\" \",\"_\") for col in dummy_df]\n",
    "    \n",
    "    df[\"partner\"] = df.partner.replace(to_replace = [\"Yes\",\"No\"],value = [1,0])\n",
    "    df[\"dependents\"] = df.dependents.replace(to_replace = [\"Yes\",\"No\"],value = [1,0])\n",
    "    df[\"churn\"] = df.churn.replace(to_replace = [\"Yes\",\"No\"],value = [1,0])\n",
    "    df[\"multiple_lines\"] = df.paperless_billing.replace(to_replace = [\"Yes\",\"No\",\"No phone service\"],value = [1,0,0])\n",
    "    df[\"paperless_billing\"] = df.paperless_billing.replace(to_replace = [\"Yes\",\"No\",\"No internet service\"],value = [1,0,0])\n",
    "    df[\"tech_support\"] = df.tech_support.replace(to_replace = [\"Yes\",\"No\",\"No internet service\"],value = [1,0,0])\n",
    "    df[\"device_protection\"] = df.device_protection.replace(to_replace = [\"Yes\",\"No\",\"No internet service\"],value = [1,0,0])\n",
    "    df[\"online_backup\"] = df.online_backup.replace(to_replace = [\"Yes\",\"No\",\"No internet service\"],value = [1,0,0])\n",
    "    df[\"online_security\"] = df.online_security.replace(to_replace = [\"Yes\",\"No\",\"No internet service\"],value = [1,0,0])\n",
    "    df[\"streaming_tv\"] = df.streaming_tv.replace(to_replace = [\"Yes\",\"No\",\"No internet service\"],value = [1,0,0])\n",
    "    df[\"streaming_movies\"] = df.streaming_movies.replace(to_replace = [\"Yes\",\"No\",\"No internet service\"],value = [1,0,0])\n",
    "    df[\"phone_service\"] = df.phone_service.replace(to_replace = [\"Yes\",\"No\",\"No internet service\"],value = [1,0,0])\n",
    "    df[\"multiple_lines\"] = df.multiple_lines.replace(to_replace = [\"Yes\",\"No\",\"No phone service\"],value = [1,0,0])\n",
    "    \n",
    "    df[\"add_ons\"] =  df.online_security + df.online_backup + df.device_protection + df.tech_support + df.streaming_tv + df.streaming_movies\n",
    "    \n",
    "    df.drop(columns = [\"customer_id\",\n",
    "                       \"gender\",\n",
    "                       \"payment_type\",\n",
    "                       \"internet_service_type\",\n",
    "                       \"contract_type\",\n",
    "                   'internet_service_type_id',\n",
    "                   \"contract_type_id\",\n",
    "                   \"payment_type_id\",\n",
    "                  \"contract_type_id.1\",\n",
    "                   \"internet_service_type_id.1\",\n",
    "                   \"payment_type_id.1\",\n",
    "                   \"Unnamed: 0\"],inplace = True)\n",
    "    return pd.concat([df, dummy_df], axis=1)"
   ]
  },
  {
   "cell_type": "code",
   "execution_count": 103,
   "id": "ceacfbc1",
   "metadata": {},
   "outputs": [
    {
     "data": {
      "text/html": [
       "<div>\n",
       "<style scoped>\n",
       "    .dataframe tbody tr th:only-of-type {\n",
       "        vertical-align: middle;\n",
       "    }\n",
       "\n",
       "    .dataframe tbody tr th {\n",
       "        vertical-align: top;\n",
       "    }\n",
       "\n",
       "    .dataframe thead th {\n",
       "        text-align: right;\n",
       "    }\n",
       "</style>\n",
       "<table border=\"1\" class=\"dataframe\">\n",
       "  <thead>\n",
       "    <tr style=\"text-align: right;\">\n",
       "      <th></th>\n",
       "      <th>senior_citizen</th>\n",
       "      <th>partner</th>\n",
       "      <th>dependents</th>\n",
       "      <th>tenure</th>\n",
       "      <th>phone_service</th>\n",
       "      <th>multiple_lines</th>\n",
       "      <th>online_security</th>\n",
       "      <th>online_backup</th>\n",
       "      <th>device_protection</th>\n",
       "      <th>tech_support</th>\n",
       "      <th>...</th>\n",
       "      <th>payment_type_bank_transfer_(automatic)</th>\n",
       "      <th>payment_type_credit_card_(automatic)</th>\n",
       "      <th>payment_type_electronic_check</th>\n",
       "      <th>payment_type_mailed_check</th>\n",
       "      <th>internet_service_type_dsl</th>\n",
       "      <th>internet_service_type_fiber_optic</th>\n",
       "      <th>internet_service_type_none</th>\n",
       "      <th>contract_type_month-to-month</th>\n",
       "      <th>contract_type_one_year</th>\n",
       "      <th>contract_type_two_year</th>\n",
       "    </tr>\n",
       "  </thead>\n",
       "  <tbody>\n",
       "    <tr>\n",
       "      <th>0</th>\n",
       "      <td>0</td>\n",
       "      <td>1</td>\n",
       "      <td>1</td>\n",
       "      <td>65</td>\n",
       "      <td>1</td>\n",
       "      <td>1</td>\n",
       "      <td>1</td>\n",
       "      <td>1</td>\n",
       "      <td>1</td>\n",
       "      <td>1</td>\n",
       "      <td>...</td>\n",
       "      <td>0</td>\n",
       "      <td>0</td>\n",
       "      <td>0</td>\n",
       "      <td>1</td>\n",
       "      <td>1</td>\n",
       "      <td>0</td>\n",
       "      <td>0</td>\n",
       "      <td>0</td>\n",
       "      <td>0</td>\n",
       "      <td>1</td>\n",
       "    </tr>\n",
       "    <tr>\n",
       "      <th>1</th>\n",
       "      <td>0</td>\n",
       "      <td>0</td>\n",
       "      <td>0</td>\n",
       "      <td>54</td>\n",
       "      <td>0</td>\n",
       "      <td>0</td>\n",
       "      <td>1</td>\n",
       "      <td>0</td>\n",
       "      <td>0</td>\n",
       "      <td>1</td>\n",
       "      <td>...</td>\n",
       "      <td>0</td>\n",
       "      <td>1</td>\n",
       "      <td>0</td>\n",
       "      <td>0</td>\n",
       "      <td>1</td>\n",
       "      <td>0</td>\n",
       "      <td>0</td>\n",
       "      <td>0</td>\n",
       "      <td>0</td>\n",
       "      <td>1</td>\n",
       "    </tr>\n",
       "    <tr>\n",
       "      <th>2</th>\n",
       "      <td>0</td>\n",
       "      <td>0</td>\n",
       "      <td>0</td>\n",
       "      <td>56</td>\n",
       "      <td>0</td>\n",
       "      <td>0</td>\n",
       "      <td>1</td>\n",
       "      <td>1</td>\n",
       "      <td>1</td>\n",
       "      <td>1</td>\n",
       "      <td>...</td>\n",
       "      <td>1</td>\n",
       "      <td>0</td>\n",
       "      <td>0</td>\n",
       "      <td>0</td>\n",
       "      <td>1</td>\n",
       "      <td>0</td>\n",
       "      <td>0</td>\n",
       "      <td>0</td>\n",
       "      <td>0</td>\n",
       "      <td>1</td>\n",
       "    </tr>\n",
       "    <tr>\n",
       "      <th>3</th>\n",
       "      <td>0</td>\n",
       "      <td>1</td>\n",
       "      <td>1</td>\n",
       "      <td>20</td>\n",
       "      <td>0</td>\n",
       "      <td>1</td>\n",
       "      <td>1</td>\n",
       "      <td>0</td>\n",
       "      <td>1</td>\n",
       "      <td>1</td>\n",
       "      <td>...</td>\n",
       "      <td>0</td>\n",
       "      <td>1</td>\n",
       "      <td>0</td>\n",
       "      <td>0</td>\n",
       "      <td>1</td>\n",
       "      <td>0</td>\n",
       "      <td>0</td>\n",
       "      <td>0</td>\n",
       "      <td>0</td>\n",
       "      <td>1</td>\n",
       "    </tr>\n",
       "    <tr>\n",
       "      <th>4</th>\n",
       "      <td>0</td>\n",
       "      <td>1</td>\n",
       "      <td>0</td>\n",
       "      <td>72</td>\n",
       "      <td>1</td>\n",
       "      <td>1</td>\n",
       "      <td>0</td>\n",
       "      <td>1</td>\n",
       "      <td>1</td>\n",
       "      <td>1</td>\n",
       "      <td>...</td>\n",
       "      <td>1</td>\n",
       "      <td>0</td>\n",
       "      <td>0</td>\n",
       "      <td>0</td>\n",
       "      <td>1</td>\n",
       "      <td>0</td>\n",
       "      <td>0</td>\n",
       "      <td>0</td>\n",
       "      <td>0</td>\n",
       "      <td>1</td>\n",
       "    </tr>\n",
       "    <tr>\n",
       "      <th>...</th>\n",
       "      <td>...</td>\n",
       "      <td>...</td>\n",
       "      <td>...</td>\n",
       "      <td>...</td>\n",
       "      <td>...</td>\n",
       "      <td>...</td>\n",
       "      <td>...</td>\n",
       "      <td>...</td>\n",
       "      <td>...</td>\n",
       "      <td>...</td>\n",
       "      <td>...</td>\n",
       "      <td>...</td>\n",
       "      <td>...</td>\n",
       "      <td>...</td>\n",
       "      <td>...</td>\n",
       "      <td>...</td>\n",
       "      <td>...</td>\n",
       "      <td>...</td>\n",
       "      <td>...</td>\n",
       "      <td>...</td>\n",
       "      <td>...</td>\n",
       "    </tr>\n",
       "    <tr>\n",
       "      <th>7038</th>\n",
       "      <td>0</td>\n",
       "      <td>1</td>\n",
       "      <td>1</td>\n",
       "      <td>1</td>\n",
       "      <td>1</td>\n",
       "      <td>0</td>\n",
       "      <td>0</td>\n",
       "      <td>0</td>\n",
       "      <td>0</td>\n",
       "      <td>0</td>\n",
       "      <td>...</td>\n",
       "      <td>0</td>\n",
       "      <td>0</td>\n",
       "      <td>0</td>\n",
       "      <td>1</td>\n",
       "      <td>0</td>\n",
       "      <td>0</td>\n",
       "      <td>1</td>\n",
       "      <td>1</td>\n",
       "      <td>0</td>\n",
       "      <td>0</td>\n",
       "    </tr>\n",
       "    <tr>\n",
       "      <th>7039</th>\n",
       "      <td>0</td>\n",
       "      <td>0</td>\n",
       "      <td>0</td>\n",
       "      <td>19</td>\n",
       "      <td>1</td>\n",
       "      <td>0</td>\n",
       "      <td>0</td>\n",
       "      <td>0</td>\n",
       "      <td>0</td>\n",
       "      <td>0</td>\n",
       "      <td>...</td>\n",
       "      <td>0</td>\n",
       "      <td>0</td>\n",
       "      <td>0</td>\n",
       "      <td>1</td>\n",
       "      <td>0</td>\n",
       "      <td>0</td>\n",
       "      <td>1</td>\n",
       "      <td>1</td>\n",
       "      <td>0</td>\n",
       "      <td>0</td>\n",
       "    </tr>\n",
       "    <tr>\n",
       "      <th>7040</th>\n",
       "      <td>0</td>\n",
       "      <td>0</td>\n",
       "      <td>0</td>\n",
       "      <td>6</td>\n",
       "      <td>1</td>\n",
       "      <td>0</td>\n",
       "      <td>0</td>\n",
       "      <td>0</td>\n",
       "      <td>0</td>\n",
       "      <td>0</td>\n",
       "      <td>...</td>\n",
       "      <td>0</td>\n",
       "      <td>1</td>\n",
       "      <td>0</td>\n",
       "      <td>0</td>\n",
       "      <td>0</td>\n",
       "      <td>0</td>\n",
       "      <td>1</td>\n",
       "      <td>1</td>\n",
       "      <td>0</td>\n",
       "      <td>0</td>\n",
       "    </tr>\n",
       "    <tr>\n",
       "      <th>7041</th>\n",
       "      <td>0</td>\n",
       "      <td>0</td>\n",
       "      <td>0</td>\n",
       "      <td>1</td>\n",
       "      <td>1</td>\n",
       "      <td>0</td>\n",
       "      <td>0</td>\n",
       "      <td>0</td>\n",
       "      <td>0</td>\n",
       "      <td>0</td>\n",
       "      <td>...</td>\n",
       "      <td>0</td>\n",
       "      <td>0</td>\n",
       "      <td>0</td>\n",
       "      <td>1</td>\n",
       "      <td>0</td>\n",
       "      <td>0</td>\n",
       "      <td>1</td>\n",
       "      <td>1</td>\n",
       "      <td>0</td>\n",
       "      <td>0</td>\n",
       "    </tr>\n",
       "    <tr>\n",
       "      <th>7042</th>\n",
       "      <td>0</td>\n",
       "      <td>0</td>\n",
       "      <td>0</td>\n",
       "      <td>4</td>\n",
       "      <td>1</td>\n",
       "      <td>0</td>\n",
       "      <td>0</td>\n",
       "      <td>0</td>\n",
       "      <td>0</td>\n",
       "      <td>0</td>\n",
       "      <td>...</td>\n",
       "      <td>1</td>\n",
       "      <td>0</td>\n",
       "      <td>0</td>\n",
       "      <td>0</td>\n",
       "      <td>0</td>\n",
       "      <td>0</td>\n",
       "      <td>1</td>\n",
       "      <td>1</td>\n",
       "      <td>0</td>\n",
       "      <td>0</td>\n",
       "    </tr>\n",
       "  </tbody>\n",
       "</table>\n",
       "<p>7043 rows × 30 columns</p>\n",
       "</div>"
      ],
      "text/plain": [
       "      senior_citizen  partner  dependents  tenure  phone_service  \\\n",
       "0                  0        1           1      65              1   \n",
       "1                  0        0           0      54              0   \n",
       "2                  0        0           0      56              0   \n",
       "3                  0        1           1      20              0   \n",
       "4                  0        1           0      72              1   \n",
       "...              ...      ...         ...     ...            ...   \n",
       "7038               0        1           1       1              1   \n",
       "7039               0        0           0      19              1   \n",
       "7040               0        0           0       6              1   \n",
       "7041               0        0           0       1              1   \n",
       "7042               0        0           0       4              1   \n",
       "\n",
       "      multiple_lines  online_security  online_backup  device_protection  \\\n",
       "0                  1                1              1                  1   \n",
       "1                  0                1              0                  0   \n",
       "2                  0                1              1                  1   \n",
       "3                  1                1              0                  1   \n",
       "4                  1                0              1                  1   \n",
       "...              ...              ...            ...                ...   \n",
       "7038               0                0              0                  0   \n",
       "7039               0                0              0                  0   \n",
       "7040               0                0              0                  0   \n",
       "7041               0                0              0                  0   \n",
       "7042               0                0              0                  0   \n",
       "\n",
       "      tech_support  ...  payment_type_bank_transfer_(automatic)  \\\n",
       "0                1  ...                                       0   \n",
       "1                1  ...                                       0   \n",
       "2                1  ...                                       1   \n",
       "3                1  ...                                       0   \n",
       "4                1  ...                                       1   \n",
       "...            ...  ...                                     ...   \n",
       "7038             0  ...                                       0   \n",
       "7039             0  ...                                       0   \n",
       "7040             0  ...                                       0   \n",
       "7041             0  ...                                       0   \n",
       "7042             0  ...                                       1   \n",
       "\n",
       "      payment_type_credit_card_(automatic)  payment_type_electronic_check  \\\n",
       "0                                        0                              0   \n",
       "1                                        1                              0   \n",
       "2                                        0                              0   \n",
       "3                                        1                              0   \n",
       "4                                        0                              0   \n",
       "...                                    ...                            ...   \n",
       "7038                                     0                              0   \n",
       "7039                                     0                              0   \n",
       "7040                                     1                              0   \n",
       "7041                                     0                              0   \n",
       "7042                                     0                              0   \n",
       "\n",
       "      payment_type_mailed_check  internet_service_type_dsl  \\\n",
       "0                             1                          1   \n",
       "1                             0                          1   \n",
       "2                             0                          1   \n",
       "3                             0                          1   \n",
       "4                             0                          1   \n",
       "...                         ...                        ...   \n",
       "7038                          1                          0   \n",
       "7039                          1                          0   \n",
       "7040                          0                          0   \n",
       "7041                          1                          0   \n",
       "7042                          0                          0   \n",
       "\n",
       "      internet_service_type_fiber_optic  internet_service_type_none  \\\n",
       "0                                     0                           0   \n",
       "1                                     0                           0   \n",
       "2                                     0                           0   \n",
       "3                                     0                           0   \n",
       "4                                     0                           0   \n",
       "...                                 ...                         ...   \n",
       "7038                                  0                           1   \n",
       "7039                                  0                           1   \n",
       "7040                                  0                           1   \n",
       "7041                                  0                           1   \n",
       "7042                                  0                           1   \n",
       "\n",
       "      contract_type_month-to-month  contract_type_one_year  \\\n",
       "0                                0                       0   \n",
       "1                                0                       0   \n",
       "2                                0                       0   \n",
       "3                                0                       0   \n",
       "4                                0                       0   \n",
       "...                            ...                     ...   \n",
       "7038                             1                       0   \n",
       "7039                             1                       0   \n",
       "7040                             1                       0   \n",
       "7041                             1                       0   \n",
       "7042                             1                       0   \n",
       "\n",
       "      contract_type_two_year  \n",
       "0                          1  \n",
       "1                          1  \n",
       "2                          1  \n",
       "3                          1  \n",
       "4                          1  \n",
       "...                      ...  \n",
       "7038                       0  \n",
       "7039                       0  \n",
       "7040                       0  \n",
       "7041                       0  \n",
       "7042                       0  \n",
       "\n",
       "[7043 rows x 30 columns]"
      ]
     },
     "execution_count": 103,
     "metadata": {},
     "output_type": "execute_result"
    }
   ],
   "source": [
    "clean_telco(df)"
   ]
  },
  {
   "cell_type": "code",
   "execution_count": 104,
   "id": "5ddb8e2a",
   "metadata": {},
   "outputs": [],
   "source": [
    "prepare_telco.remove_unwanted_values(df)"
   ]
  },
  {
   "cell_type": "code",
   "execution_count": 105,
   "id": "544c52c8",
   "metadata": {},
   "outputs": [
    {
     "data": {
      "text/plain": [
       "(7032, 18)"
      ]
     },
     "execution_count": 105,
     "metadata": {},
     "output_type": "execute_result"
    }
   ],
   "source": [
    "df.shape"
   ]
  },
  {
   "cell_type": "code",
   "execution_count": 106,
   "id": "172f4b51",
   "metadata": {},
   "outputs": [],
   "source": [
    "# ~ 73.5% yes\n",
    "# ~ 26.5% no"
   ]
  },
  {
   "cell_type": "code",
   "execution_count": 107,
   "id": "cc9cf183",
   "metadata": {},
   "outputs": [],
   "source": [
    "def num_distributions(df):\n",
    "    '''\n",
    "    property of Faith Kane\n",
    "    This functions takes in a dataframe and displays\n",
    "    the distribution of each numeric column.\n",
    "    '''\n",
    "    for col in df.columns:\n",
    "        if df[col].dtype != 'object':\n",
    "            plt.hist(df[col])\n",
    "            plt.title(f'Distribution of {col}')\n",
    "            plt.show()"
   ]
  },
  {
   "cell_type": "code",
   "execution_count": 108,
   "id": "535ac41d",
   "metadata": {},
   "outputs": [
    {
     "data": {
      "image/png": "[encoded data removed]",
      "text/plain": [
       "<Figure size 432x288 with 1 Axes>"
      ]
     },
     "metadata": {
      "needs_background": "light"
     },
     "output_type": "display_data"
    },
    {
     "data": {
      "image/png": "[encoded data removed]",
      "text/plain": [
       "<Figure size 432x288 with 1 Axes>"
      ]
     },
     "metadata": {
      "needs_background": "light"
     },
     "output_type": "display_data"
    },
    {
     "data": {
      "image/png": "[encoded data removed]",
      "text/plain": [
       "<Figure size 432x288 with 1 Axes>"
      ]
     },
     "metadata": {
      "needs_background": "light"
     },
     "output_type": "display_data"
    },
    {
     "data": {
      "image/png": "[encoded data removed]",
      "text/plain": [
       "<Figure size 432x288 with 1 Axes>"
      ]
     },
     "metadata": {
      "needs_background": "light"
     },
     "output_type": "display_data"
    },
    {
     "data": {
      "image/png": "[encoded data removed]",
      "text/plain": [
       "<Figure size 432x288 with 1 Axes>"
      ]
     },
     "metadata": {
      "needs_background": "light"
     },
     "output_type": "display_data"
    },
    {
     "data": {
      "image/png": "[encoded data removed]",
      "text/plain": [
       "<Figure size 432x288 with 1 Axes>"
      ]
     },
     "metadata": {
      "needs_background": "light"
     },
     "output_type": "display_data"
    },
    {
     "data": {
      "image/png": "[encoded data removed]",
      "text/plain": [
       "<Figure size 432x288 with 1 Axes>"
      ]
     },
     "metadata": {
      "needs_background": "light"
     },
     "output_type": "display_data"
    },
    {
     "data": {
      "image/png": "[encoded data removed]",
      "text/plain": [
       "<Figure size 432x288 with 1 Axes>"
      ]
     },
     "metadata": {
      "needs_background": "light"
     },
     "output_type": "display_data"
    },
    {
     "data": {
      "image/png": "[encoded data removed]",
      "text/plain": [
       "<Figure size 432x288 with 1 Axes>"
      ]
     },
     "metadata": {
      "needs_background": "light"
     },
     "output_type": "display_data"
    },
    {
     "data": {
      "image/png": "[encoded data removed]",
      "text/plain": [
       "<Figure size 432x288 with 1 Axes>"
      ]
     },
     "metadata": {
      "needs_background": "light"
     },
     "output_type": "display_data"
    },
    {
     "data": {
      "image/png": "[encoded data removed]",
      "text/plain": [
       "<Figure size 432x288 with 1 Axes>"
      ]
     },
     "metadata": {
      "needs_background": "light"
     },
     "output_type": "display_data"
    },
    {
     "data": {
      "image/png": "[encoded data removed]",
      "text/plain": [
       "<Figure size 432x288 with 1 Axes>"
      ]
     },
     "metadata": {
      "needs_background": "light"
     },
     "output_type": "display_data"
    },
    {
     "data": {
      "image/png": "[encoded data removed]",
      "text/plain": [
       "<Figure size 432x288 with 1 Axes>"
      ]
     },
     "metadata": {
      "needs_background": "light"
     },
     "output_type": "display_data"
    },
    {
     "data": {
      "image/png": "[encoded data removed]",
      "text/plain": [
       "<Figure size 432x288 with 1 Axes>"
      ]
     },
     "metadata": {
      "needs_background": "light"
     },
     "output_type": "display_data"
    },
    {
     "data": {
      "image/png": "[encoded data removed]",
      "text/plain": [
       "<Figure size 432x288 with 1 Axes>"
      ]
     },
     "metadata": {
      "needs_background": "light"
     },
     "output_type": "display_data"
    },
    {
     "data": {
      "image/png": "[encoded data removed]",
      "text/plain": [
       "<Figure size 432x288 with 1 Axes>"
      ]
     },
     "metadata": {
      "needs_background": "light"
     },
     "output_type": "display_data"
    },
    {
     "data": {
      "image/png": "[encoded data removed]",
      "text/plain": [
       "<Figure size 432x288 with 1 Axes>"
      ]
     },
     "metadata": {
      "needs_background": "light"
     },
     "output_type": "display_data"
    },
    {
     "data": {
      "image/png": "[encoded data removed]",
      "text/plain": [
       "<Figure size 432x288 with 1 Axes>"
      ]
     },
     "metadata": {
      "needs_background": "light"
     },
     "output_type": "display_data"
    }
   ],
   "source": [
    "prepare_telco.num_distributions(df)"
   ]
  },
  {
   "cell_type": "markdown",
   "id": "8db6f0da",
   "metadata": {},
   "source": [
    "### Choosing what to plot\n",
    "##### scatterplot\n",
    "- Tenure, total_charges, monthly charges"
   ]
  },
  {
   "cell_type": "markdown",
   "id": "b0318eaa",
   "metadata": {},
   "source": [
    "## Prepare"
   ]
  },
  {
   "cell_type": "code",
   "execution_count": 109,
   "id": "f6d5f1b5",
   "metadata": {},
   "outputs": [],
   "source": [
    "def splitting_target_var(train,validate,test):\n",
    "    X_train = train.drop(columns=['churn'])\n",
    "    y_train = train.churn\n",
    "\n",
    "    X_validate = validate.drop(columns=['churn'])\n",
    "    y_validate = validate.churn\n",
    "\n",
    "    X_test = test.drop(columns=['churn'])\n",
    "    y_test = test.churn\n",
    "    return (X_train,y_train,X_validate,y_validate,X_test,y_test)"
   ]
  },
  {
   "cell_type": "code",
   "execution_count": 110,
   "id": "74b120c5",
   "metadata": {},
   "outputs": [],
   "source": [
    "train,validate,test = prepare_telco.train_validate_test_split(df,target = \"churn\",seed = 174)"
   ]
  },
  {
   "cell_type": "code",
   "execution_count": 111,
   "id": "b0e74eca",
   "metadata": {},
   "outputs": [],
   "source": [
    "X_train,y_train,X_validate,y_validate,X_test,y_test = splitting_target_var(train,validate,test)"
   ]
  },
  {
   "cell_type": "code",
   "execution_count": 112,
   "id": "74d23778",
   "metadata": {},
   "outputs": [
    {
     "name": "stdout",
     "output_type": "stream",
     "text": [
      "r = -0.08736\n",
      "p = 0.0000000401\n"
     ]
    }
   ],
   "source": [
    "x = train.add_ons\n",
    "y = train.churn\n",
    "r, p = stats.pearsonr(x, y)\n",
    "print(f'r = {r:.5f}')\n",
    "print(f'p = {p:.10f}')"
   ]
  },
  {
   "cell_type": "code",
   "execution_count": 113,
   "id": "d9590cf8",
   "metadata": {},
   "outputs": [
    {
     "name": "stdout",
     "output_type": "stream",
     "text": [
      "r = -0.20713\n",
      "p = 0.0000000000\n"
     ]
    }
   ],
   "source": [
    "x = train.auto_pay\n",
    "y = train.churn\n",
    "r, p = stats.pearsonr(x, y)\n",
    "print(f'r = {r:.5f}')\n",
    "print(f'p = {p:.10f}')"
   ]
  },
  {
   "cell_type": "markdown",
   "id": "a7a584cb",
   "metadata": {},
   "source": [
    "## Model and Evaluate"
   ]
  },
  {
   "cell_type": "code",
   "execution_count": 114,
   "id": "6ece070b",
   "metadata": {},
   "outputs": [],
   "source": [
    "model = DummyClassifier(strategy='most_frequent')"
   ]
  },
  {
   "cell_type": "code",
   "execution_count": 115,
   "id": "067b1145",
   "metadata": {},
   "outputs": [
    {
     "data": {
      "text/plain": [
       "DummyClassifier(strategy='most_frequent')"
      ]
     },
     "execution_count": 115,
     "metadata": {},
     "output_type": "execute_result"
    }
   ],
   "source": [
    "model.fit(X_train, y_train)"
   ]
  },
  {
   "cell_type": "code",
   "execution_count": 116,
   "id": "64a6d1dc",
   "metadata": {},
   "outputs": [
    {
     "name": "stdout",
     "output_type": "stream",
     "text": [
      "Training accuracy: 0.73\n"
     ]
    }
   ],
   "source": [
    "accuracy = round(model.score(X_train, y_train), 2)\n",
    "print(f'Training accuracy: {accuracy}')"
   ]
  },
  {
   "cell_type": "code",
   "execution_count": 117,
   "id": "09857365",
   "metadata": {},
   "outputs": [],
   "source": [
    "clf = DecisionTreeClassifier(max_depth=5, random_state=174)"
   ]
  },
  {
   "cell_type": "code",
   "execution_count": 118,
   "id": "5f3d9233",
   "metadata": {},
   "outputs": [],
   "source": [
    "clf = clf.fit(X_train, y_train)"
   ]
  },
  {
   "cell_type": "code",
   "execution_count": 119,
   "id": "3a5bf9c0",
   "metadata": {},
   "outputs": [],
   "source": [
    "#dot_data = export_graphviz(decision_tree = clf,feature_names= X_train.columns)\n",
    "#graph = graphviz.Source(dot_data) \n",
    "\n",
    "#graph.render('titanic_decision_tree', view=True)"
   ]
  },
  {
   "cell_type": "code",
   "execution_count": 120,
   "id": "5f8c8ba8",
   "metadata": {},
   "outputs": [],
   "source": [
    "y_pred = clf.predict(X_train)"
   ]
  },
  {
   "cell_type": "code",
   "execution_count": 121,
   "id": "aeb22b6d",
   "metadata": {},
   "outputs": [
    {
     "name": "stdout",
     "output_type": "stream",
     "text": [
      "Accuracy of Decision Tree classifier on training set: 0.80\n"
     ]
    }
   ],
   "source": [
    "print('Accuracy of Decision Tree classifier on training set: {:.2f}'\n",
    "      .format(clf.score(X_train, y_train)))"
   ]
  },
  {
   "cell_type": "code",
   "execution_count": 122,
   "id": "b1a55b03",
   "metadata": {},
   "outputs": [
    {
     "name": "stdout",
     "output_type": "stream",
     "text": [
      "Accuracy of Decision Tree classifier on training set: 0.80\n"
     ]
    }
   ],
   "source": [
    "print('Accuracy of Decision Tree classifier on training set: {:.2f}'\n",
    "      .format(clf.score(X_validate, y_validate)))"
   ]
  },
  {
   "cell_type": "code",
   "execution_count": 39,
   "id": "63f34fcd",
   "metadata": {},
   "outputs": [
    {
     "data": {
      "image/png": "[encoded data removed]",
      "text/plain": [
       "<Figure size 1152x648 with 1 Axes>"
      ]
     },
     "metadata": {
      "needs_background": "light"
     },
     "output_type": "display_data"
    }
   ],
   "source": [
    "metrics = []\n",
    "\n",
    "# loop through different values of k\n",
    "for depth in range(1, 15):\n",
    "            \n",
    "    # define the thing\n",
    "    clf = DecisionTreeClassifier(max_depth = depth)\n",
    "    \n",
    "    # fit the thing (remmeber only fit on training data)\n",
    "    clf.fit(X_train, y_train)\n",
    "    \n",
    "    # use the thing (calculate accuracy)\n",
    "    train_accuracy = clf.score(X_train, y_train)\n",
    "    validate_accuracy = clf.score(X_validate, y_validate)\n",
    "    \n",
    "    output = {\n",
    "        \"depth\": depth,\n",
    "        \"train_accuracy\": train_accuracy,\n",
    "        \"validate_accuracy\": validate_accuracy\n",
    "    }\n",
    "    \n",
    "    metrics.append(output)\n",
    "\n",
    "# make a dataframe\n",
    "results = pd.DataFrame(metrics)\n",
    "\n",
    "# plot the data\n",
    "results.set_index('depth').plot(figsize = (16,9))\n",
    "plt.ylim(0.50, 1)\n",
    "plt.ylabel('Accuracy')\n",
    "plt.xticks(np.arange(0,15,1))\n",
    "plt.grid()"
   ]
  },
  {
   "cell_type": "code",
   "execution_count": 41,
   "id": "d22ccb3c",
   "metadata": {},
   "outputs": [
    {
     "data": {
      "image/png": "[encoded data removed]",
      "text/plain": [
       "<Figure size 1152x648 with 1 Axes>"
      ]
     },
     "metadata": {
      "needs_background": "light"
     },
     "output_type": "display_data"
    }
   ],
   "source": [
    "metrics = []\n",
    "\n",
    "# loop through different values of k\n",
    "for k in range(1, 30,1):\n",
    "            \n",
    "    # define the thing\n",
    "    knn = KNeighborsClassifier(n_neighbors=k)\n",
    "    \n",
    "    # fit the thing (remmeber only fit on training data)\n",
    "    knn.fit(X_train, y_train)\n",
    "    \n",
    "    # use the thing (calculate accuracy)\n",
    "    train_accuracy = knn.score(X_train, y_train)\n",
    "    validate_accuracy = knn.score(X_validate, y_validate)\n",
    "    \n",
    "    output = {\n",
    "        \"k\": k,\n",
    "        \"train_accuracy\": train_accuracy,\n",
    "        \"validate_accuracy\": validate_accuracy\n",
    "    }\n",
    "    \n",
    "    metrics.append(output)\n",
    "\n",
    "# make a dataframe\n",
    "results = pd.DataFrame(metrics)\n",
    "\n",
    "# plot the data\n",
    "results.set_index('k').plot(figsize = (16,9))\n",
    "plt.ylim(0.50, 1)\n",
    "plt.ylabel('Accuracy')\n",
    "plt.xticks(np.arange(0,30,1))\n",
    "plt.grid()"
   ]
  },
  {
   "cell_type": "code",
   "execution_count": 125,
   "id": "9f26232f",
   "metadata": {},
   "outputs": [],
   "source": [
    "rf_1 = RandomForestClassifier(bootstrap = True,\n",
    "                           class_weight = None,\n",
    "                           criterion = \"gini\",\n",
    "                           min_samples_leaf = 15,\n",
    "                           n_estimators = 200,\n",
    "                           max_depth = 3,\n",
    "                           random_state = 123)"
   ]
  },
  {
   "cell_type": "code",
   "execution_count": 126,
   "id": "9e7cc7f4",
   "metadata": {},
   "outputs": [
    {
     "data": {
      "text/plain": [
       "RandomForestClassifier(max_depth=3, min_samples_leaf=15, n_estimators=200,\n",
       "                       random_state=123)"
      ]
     },
     "execution_count": 126,
     "metadata": {},
     "output_type": "execute_result"
    }
   ],
   "source": [
    "rf_1.fit(X_train,y_train)"
   ]
  },
  {
   "cell_type": "code",
   "execution_count": 127,
   "id": "eb0ab4fa",
   "metadata": {},
   "outputs": [
    {
     "name": "stdout",
     "output_type": "stream",
     "text": [
      "Model accuracy: 0.77\n"
     ]
    }
   ],
   "source": [
    "accuracy = round(rf_1.score(X_train, y_train), 2)\n",
    "print(f'Model accuracy: {accuracy}')"
   ]
  },
  {
   "cell_type": "code",
   "execution_count": 162,
   "id": "ebd6a6f4",
   "metadata": {},
   "outputs": [
    {
     "data": {
      "image/png": "[encoded data removed]",
      "text/plain": [
       "<Figure size 1152x648 with 1 Axes>"
      ]
     },
     "metadata": {
      "needs_background": "light"
     },
     "output_type": "display_data"
    }
   ],
   "source": [
    "metrics = []\n",
    "\n",
    "# loop through different values of k\n",
    "for x in range(1, 15,1):\n",
    "            \n",
    "    # define the thing\n",
    "    rf_1 = RandomForestClassifier(bootstrap = True,\n",
    "                           class_weight = None,\n",
    "                           criterion = \"gini\",\n",
    "                           min_samples_leaf = 3,\n",
    "                           n_estimators = 10,\n",
    "                           max_depth = x,\n",
    "                           random_state = 174)\n",
    "    \n",
    "    # fit the thing (remmeber only fit on training data)\n",
    "    rf_1.fit(X_train, y_train)\n",
    "    \n",
    "    # use the thing (calculate accuracy)\n",
    "    train_accuracy = rf_1.score(X_train, y_train)\n",
    "    validate_accuracy = rf_1.score(X_validate, y_validate)\n",
    "    \n",
    "    output = {\n",
    "        \"k\": x,\n",
    "        \"train_accuracy\": train_accuracy,\n",
    "        \"validate_accuracy\": validate_accuracy\n",
    "    }\n",
    "    \n",
    "    metrics.append(output)\n",
    "\n",
    "# make a dataframe\n",
    "results = pd.DataFrame(metrics)\n",
    "\n",
    "# plot the data\n",
    "results.set_index('k').plot(figsize = (16,9))\n",
    "plt.ylim(0.50, 1)\n",
    "plt.ylabel('Accuracy')\n",
    "plt.xticks(np.arange(0,15,1))\n",
    "plt.grid()"
   ]
  },
  {
   "cell_type": "code",
   "execution_count": null,
   "id": "e0614224",
   "metadata": {},
   "outputs": [],
   "source": []
  }
 ],
 "metadata": {
  "kernelspec": {
   "display_name": "Python 3",
   "language": "python",
   "name": "python3"
  },
  "language_info": {
   "codemirror_mode": {
    "name": "ipython",
    "version": 3
   },
   "file_extension": ".py",
   "mimetype": "text/x-python",
   "name": "python",
   "nbconvert_exporter": "python",
   "pygments_lexer": "ipython3",
   "version": "3.8.8"
  }
 },
 "nbformat": 4,
 "nbformat_minor": 5
}
